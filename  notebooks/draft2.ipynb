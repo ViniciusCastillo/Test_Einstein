{
  "nbformat": 4,
  "nbformat_minor": 0,
  "metadata": {
    "colab": {
      "name": "Untitled22.ipynb",
      "provenance": [],
      "authorship_tag": "ABX9TyOwi3AJt+EzVXmL0c0krCtX",
      "include_colab_link": true
    },
    "kernelspec": {
      "name": "python3",
      "display_name": "Python 3"
    },
    "language_info": {
      "name": "python"
    }
  },
  "cells": [
    {
      "cell_type": "markdown",
      "metadata": {
        "id": "view-in-github",
        "colab_type": "text"
      },
      "source": [
        "<a href=\"https://colab.research.google.com/github/ViniciusCastillo/Test_Einstein/blob/main/%20notebooks/draft2.ipynb\" target=\"_parent\"><img src=\"https://colab.research.google.com/assets/colab-badge.svg\" alt=\"Open In Colab\"/></a>"
      ]
    },
    {
      "cell_type": "code",
      "execution_count": 197,
      "metadata": {
        "id": "ZW9m6gvIZasc"
      },
      "outputs": [],
      "source": [
        "# importando as bibliotecas\n",
        "import pandas as pd\n",
        "import matplotlib.pyplot as plt\n",
        "import seaborn as sns\n",
        "import numpy as np\n",
        "from math import sqrt\n",
        "from sklearn.ensemble import RandomForestClassifier\n",
        "from sklearn.cluster import KMeans\n",
        "from sklearn.cluster import MeanShift\n",
        "from sklearn.preprocessing import StandardScaler\n",
        "from sklearn.model_selection import train_test_split, RepeatedStratifiedKFold, GridSearchCV\n",
        "from sklearn.base import BaseEstimator, TransformerMixin\n",
        "from imblearn.over_sampling import SMOTE\n",
        "from sklearn.metrics import roc_auc_score, classification_report\n",
        "from sklearn.dummy import DummyClassifier\n",
        "import xgboost as xgb\n",
        "# configurando formato de apresentação de números\n",
        "pd.options.display.float_format = \"{:,.4f}\".format"
      ]
    },
    {
      "cell_type": "code",
      "source": [
        "class remove_corr(BaseEstimator, TransformerMixin):\n",
        "  \"\"\"\n",
        "  ________________________________________________________________________________________________________________\n",
        "  Seleciona os dados com base na correlação deles entre si (dentro do X) e com a variável objetivo (y)\n",
        "  ________________________________________________________________________________________________________________\n",
        "  PARAMETROS\n",
        "  ----------\n",
        "  corr_maxima: float\n",
        "      define o máximo valor permitido para as correlações entre as variávies de X, acima disso as variáveris X\n",
        "      serão desconsideradas (mantendo apenas uma entre as duas que tem alta correlação entre si)\n",
        "\n",
        "  corr_minima: float\n",
        "      define o valor minimo para a correlação entre o y e as variaveis de X, abaixo disso as variaves de X \n",
        "      serão eliminadas\n",
        "  ________________________________________________________________________________________________________________\n",
        "  ATRIBUTOS\n",
        "  ---------\n",
        "  excluir: list\n",
        "      Lista das colunas/variáveris a serem excluidas do X, criado pelo método fit()\n",
        "\n",
        "  \"\"\"\n",
        "  def __init__( self, corr_maxima = 0.95):\n",
        "    self.corr_maxima = corr_maxima\n",
        "\n",
        "  def fit( self, X, y):\n",
        "    \"\"\"\n",
        "    ________________________________________________________________________________________________________________\n",
        "    faz o fit do modelo, salvando uma lista de colunas/variáveris a serem excluidas do X\n",
        "    ________________________________________________________________________________________________________________\n",
        "    ENTRADAS\n",
        "    ----------\n",
        "    X: DataFrame\n",
        "        a base das variáveis utilizadas para tentar definir o y\n",
        "\n",
        "    y: Series\n",
        "        a variável objetivo que buscamos prever\n",
        "    ________________________________________________________________________________________________________________\n",
        "    SAIDA\n",
        "    -----\n",
        "    objeto da classe remove_corr\n",
        "        modelo de seleção já configurado aguardando a utilização do método transform()\n",
        "        \n",
        "    \"\"\"\n",
        "    corr = X.corr().abs()\n",
        "    corr_diagonal = corr.where(np.triu(np.ones(corr.shape), k=1).astype(np.bool))\n",
        "    self.excluir = [coluna for coluna in corr_diagonal.columns if any(corr_diagonal[coluna] > self.corr_maxima)]\n",
        "    X_ = X.drop(self.excluir, axis=1)\n",
        "\n",
        "    return self \n",
        "    \n",
        "  def transform(self, X, y = None):\n",
        "    \"\"\"\n",
        "    ________________________________________________________________________________________________________________\n",
        "    remove as colunas/variáveis definidas pelo método fit() do DataFrame X passado\n",
        "    ________________________________________________________________________________________________________________\n",
        "    ENTRADAS\n",
        "    ----------\n",
        "    X: DataFrame\n",
        "        a base das variáveis utilizadas para tentar encontrar definir o y que será transformada\n",
        "\n",
        "    y: Series\n",
        "        a variável objetivo que buscamos prever. \n",
        "        Não será utilizada e não precisa ser passada.\n",
        "    ________________________________________________________________________________________________________________\n",
        "    SAIDA\n",
        "    -----\n",
        "    DataFrame\n",
        "        novo DataFrame do X após a exclusão das colunas/variáveis definidas no fit()\n",
        "        \n",
        "    \"\"\"\n",
        "    X = X.drop(self.excluir, axis=1)\n",
        "    return X"
      ],
      "metadata": {
        "id": "VjU9PP-Mx8Z6"
      },
      "execution_count": 44,
      "outputs": []
    },
    {
      "cell_type": "code",
      "source": [
        "df = pd.read_csv('https://github.com/ViniciusCastillo/Teste_Einstein/raw/main/datasets/data.csv')\n",
        "df.info()"
      ],
      "metadata": {
        "colab": {
          "base_uri": "https://localhost:8080/"
        },
        "id": "ITitjqHQZfj_",
        "outputId": "5b763d40-d2a9-41be-cc8d-2d9b7f2ded7e"
      },
      "execution_count": 2,
      "outputs": [
        {
          "output_type": "stream",
          "name": "stdout",
          "text": [
            "<class 'pandas.core.frame.DataFrame'>\n",
            "RangeIndex: 10000 entries, 0 to 9999\n",
            "Data columns (total 4 columns):\n",
            " #   Column  Non-Null Count  Dtype  \n",
            "---  ------  --------------  -----  \n",
            " 0   x1      10000 non-null  float64\n",
            " 1   x2      10000 non-null  float64\n",
            " 2   x3      10000 non-null  float64\n",
            " 3   target  10000 non-null  object \n",
            "dtypes: float64(3), object(1)\n",
            "memory usage: 312.6+ KB\n"
          ]
        }
      ]
    },
    {
      "cell_type": "code",
      "source": [
        "df.describe(include='all')"
      ],
      "metadata": {
        "colab": {
          "base_uri": "https://localhost:8080/",
          "height": 394
        },
        "id": "asq3xI8WZv3i",
        "outputId": "aa5a1a0a-5949-4e4e-a034-9f1a9c8b78c9"
      },
      "execution_count": 3,
      "outputs": [
        {
          "output_type": "execute_result",
          "data": {
            "text/plain": [
              "              x1        x2        x3 target\n",
              "count  10,000.00 10,000.00 10,000.00  10000\n",
              "unique       NaN       NaN       NaN      3\n",
              "top          NaN       NaN       NaN    low\n",
              "freq         NaN       NaN       NaN   6000\n",
              "mean       42.67      9.02    -24.60    NaN\n",
              "std        25.60      5.18     20.14    NaN\n",
              "min       -19.50      0.17    -59.98    NaN\n",
              "25%        21.68      5.26    -41.92    NaN\n",
              "50%        42.94      8.07    -24.55    NaN\n",
              "75%        64.13     11.73     -7.08    NaN\n",
              "max       101.52     43.08      9.99    NaN"
            ],
            "text/html": [
              "\n",
              "  <div id=\"df-e08b4e34-d405-49de-8483-c99fc0a1f9c3\">\n",
              "    <div class=\"colab-df-container\">\n",
              "      <div>\n",
              "<style scoped>\n",
              "    .dataframe tbody tr th:only-of-type {\n",
              "        vertical-align: middle;\n",
              "    }\n",
              "\n",
              "    .dataframe tbody tr th {\n",
              "        vertical-align: top;\n",
              "    }\n",
              "\n",
              "    .dataframe thead th {\n",
              "        text-align: right;\n",
              "    }\n",
              "</style>\n",
              "<table border=\"1\" class=\"dataframe\">\n",
              "  <thead>\n",
              "    <tr style=\"text-align: right;\">\n",
              "      <th></th>\n",
              "      <th>x1</th>\n",
              "      <th>x2</th>\n",
              "      <th>x3</th>\n",
              "      <th>target</th>\n",
              "    </tr>\n",
              "  </thead>\n",
              "  <tbody>\n",
              "    <tr>\n",
              "      <th>count</th>\n",
              "      <td>10,000.00</td>\n",
              "      <td>10,000.00</td>\n",
              "      <td>10,000.00</td>\n",
              "      <td>10000</td>\n",
              "    </tr>\n",
              "    <tr>\n",
              "      <th>unique</th>\n",
              "      <td>NaN</td>\n",
              "      <td>NaN</td>\n",
              "      <td>NaN</td>\n",
              "      <td>3</td>\n",
              "    </tr>\n",
              "    <tr>\n",
              "      <th>top</th>\n",
              "      <td>NaN</td>\n",
              "      <td>NaN</td>\n",
              "      <td>NaN</td>\n",
              "      <td>low</td>\n",
              "    </tr>\n",
              "    <tr>\n",
              "      <th>freq</th>\n",
              "      <td>NaN</td>\n",
              "      <td>NaN</td>\n",
              "      <td>NaN</td>\n",
              "      <td>6000</td>\n",
              "    </tr>\n",
              "    <tr>\n",
              "      <th>mean</th>\n",
              "      <td>42.67</td>\n",
              "      <td>9.02</td>\n",
              "      <td>-24.60</td>\n",
              "      <td>NaN</td>\n",
              "    </tr>\n",
              "    <tr>\n",
              "      <th>std</th>\n",
              "      <td>25.60</td>\n",
              "      <td>5.18</td>\n",
              "      <td>20.14</td>\n",
              "      <td>NaN</td>\n",
              "    </tr>\n",
              "    <tr>\n",
              "      <th>min</th>\n",
              "      <td>-19.50</td>\n",
              "      <td>0.17</td>\n",
              "      <td>-59.98</td>\n",
              "      <td>NaN</td>\n",
              "    </tr>\n",
              "    <tr>\n",
              "      <th>25%</th>\n",
              "      <td>21.68</td>\n",
              "      <td>5.26</td>\n",
              "      <td>-41.92</td>\n",
              "      <td>NaN</td>\n",
              "    </tr>\n",
              "    <tr>\n",
              "      <th>50%</th>\n",
              "      <td>42.94</td>\n",
              "      <td>8.07</td>\n",
              "      <td>-24.55</td>\n",
              "      <td>NaN</td>\n",
              "    </tr>\n",
              "    <tr>\n",
              "      <th>75%</th>\n",
              "      <td>64.13</td>\n",
              "      <td>11.73</td>\n",
              "      <td>-7.08</td>\n",
              "      <td>NaN</td>\n",
              "    </tr>\n",
              "    <tr>\n",
              "      <th>max</th>\n",
              "      <td>101.52</td>\n",
              "      <td>43.08</td>\n",
              "      <td>9.99</td>\n",
              "      <td>NaN</td>\n",
              "    </tr>\n",
              "  </tbody>\n",
              "</table>\n",
              "</div>\n",
              "      <button class=\"colab-df-convert\" onclick=\"convertToInteractive('df-e08b4e34-d405-49de-8483-c99fc0a1f9c3')\"\n",
              "              title=\"Convert this dataframe to an interactive table.\"\n",
              "              style=\"display:none;\">\n",
              "        \n",
              "  <svg xmlns=\"http://www.w3.org/2000/svg\" height=\"24px\"viewBox=\"0 0 24 24\"\n",
              "       width=\"24px\">\n",
              "    <path d=\"M0 0h24v24H0V0z\" fill=\"none\"/>\n",
              "    <path d=\"M18.56 5.44l.94 2.06.94-2.06 2.06-.94-2.06-.94-.94-2.06-.94 2.06-2.06.94zm-11 1L8.5 8.5l.94-2.06 2.06-.94-2.06-.94L8.5 2.5l-.94 2.06-2.06.94zm10 10l.94 2.06.94-2.06 2.06-.94-2.06-.94-.94-2.06-.94 2.06-2.06.94z\"/><path d=\"M17.41 7.96l-1.37-1.37c-.4-.4-.92-.59-1.43-.59-.52 0-1.04.2-1.43.59L10.3 9.45l-7.72 7.72c-.78.78-.78 2.05 0 2.83L4 21.41c.39.39.9.59 1.41.59.51 0 1.02-.2 1.41-.59l7.78-7.78 2.81-2.81c.8-.78.8-2.07 0-2.86zM5.41 20L4 18.59l7.72-7.72 1.47 1.35L5.41 20z\"/>\n",
              "  </svg>\n",
              "      </button>\n",
              "      \n",
              "  <style>\n",
              "    .colab-df-container {\n",
              "      display:flex;\n",
              "      flex-wrap:wrap;\n",
              "      gap: 12px;\n",
              "    }\n",
              "\n",
              "    .colab-df-convert {\n",
              "      background-color: #E8F0FE;\n",
              "      border: none;\n",
              "      border-radius: 50%;\n",
              "      cursor: pointer;\n",
              "      display: none;\n",
              "      fill: #1967D2;\n",
              "      height: 32px;\n",
              "      padding: 0 0 0 0;\n",
              "      width: 32px;\n",
              "    }\n",
              "\n",
              "    .colab-df-convert:hover {\n",
              "      background-color: #E2EBFA;\n",
              "      box-shadow: 0px 1px 2px rgba(60, 64, 67, 0.3), 0px 1px 3px 1px rgba(60, 64, 67, 0.15);\n",
              "      fill: #174EA6;\n",
              "    }\n",
              "\n",
              "    [theme=dark] .colab-df-convert {\n",
              "      background-color: #3B4455;\n",
              "      fill: #D2E3FC;\n",
              "    }\n",
              "\n",
              "    [theme=dark] .colab-df-convert:hover {\n",
              "      background-color: #434B5C;\n",
              "      box-shadow: 0px 1px 3px 1px rgba(0, 0, 0, 0.15);\n",
              "      filter: drop-shadow(0px 1px 2px rgba(0, 0, 0, 0.3));\n",
              "      fill: #FFFFFF;\n",
              "    }\n",
              "  </style>\n",
              "\n",
              "      <script>\n",
              "        const buttonEl =\n",
              "          document.querySelector('#df-e08b4e34-d405-49de-8483-c99fc0a1f9c3 button.colab-df-convert');\n",
              "        buttonEl.style.display =\n",
              "          google.colab.kernel.accessAllowed ? 'block' : 'none';\n",
              "\n",
              "        async function convertToInteractive(key) {\n",
              "          const element = document.querySelector('#df-e08b4e34-d405-49de-8483-c99fc0a1f9c3');\n",
              "          const dataTable =\n",
              "            await google.colab.kernel.invokeFunction('convertToInteractive',\n",
              "                                                     [key], {});\n",
              "          if (!dataTable) return;\n",
              "\n",
              "          const docLinkHtml = 'Like what you see? Visit the ' +\n",
              "            '<a target=\"_blank\" href=https://colab.research.google.com/notebooks/data_table.ipynb>data table notebook</a>'\n",
              "            + ' to learn more about interactive tables.';\n",
              "          element.innerHTML = '';\n",
              "          dataTable['output_type'] = 'display_data';\n",
              "          await google.colab.output.renderOutput(dataTable, element);\n",
              "          const docLink = document.createElement('div');\n",
              "          docLink.innerHTML = docLinkHtml;\n",
              "          element.appendChild(docLink);\n",
              "        }\n",
              "      </script>\n",
              "    </div>\n",
              "  </div>\n",
              "  "
            ]
          },
          "metadata": {},
          "execution_count": 3
        }
      ]
    },
    {
      "cell_type": "code",
      "source": [
        "df.target.value_counts().to_frame()"
      ],
      "metadata": {
        "colab": {
          "base_uri": "https://localhost:8080/",
          "height": 143
        },
        "id": "1q6hdNwuaLGq",
        "outputId": "bcd973a3-f01d-41bc-f730-cf4875631236"
      },
      "execution_count": 4,
      "outputs": [
        {
          "output_type": "execute_result",
          "data": {
            "text/plain": [
              "      target\n",
              "low     6000\n",
              "high    3000\n",
              "med     1000"
            ],
            "text/html": [
              "\n",
              "  <div id=\"df-72296391-7621-4261-818b-3cefa2b93f8b\">\n",
              "    <div class=\"colab-df-container\">\n",
              "      <div>\n",
              "<style scoped>\n",
              "    .dataframe tbody tr th:only-of-type {\n",
              "        vertical-align: middle;\n",
              "    }\n",
              "\n",
              "    .dataframe tbody tr th {\n",
              "        vertical-align: top;\n",
              "    }\n",
              "\n",
              "    .dataframe thead th {\n",
              "        text-align: right;\n",
              "    }\n",
              "</style>\n",
              "<table border=\"1\" class=\"dataframe\">\n",
              "  <thead>\n",
              "    <tr style=\"text-align: right;\">\n",
              "      <th></th>\n",
              "      <th>target</th>\n",
              "    </tr>\n",
              "  </thead>\n",
              "  <tbody>\n",
              "    <tr>\n",
              "      <th>low</th>\n",
              "      <td>6000</td>\n",
              "    </tr>\n",
              "    <tr>\n",
              "      <th>high</th>\n",
              "      <td>3000</td>\n",
              "    </tr>\n",
              "    <tr>\n",
              "      <th>med</th>\n",
              "      <td>1000</td>\n",
              "    </tr>\n",
              "  </tbody>\n",
              "</table>\n",
              "</div>\n",
              "      <button class=\"colab-df-convert\" onclick=\"convertToInteractive('df-72296391-7621-4261-818b-3cefa2b93f8b')\"\n",
              "              title=\"Convert this dataframe to an interactive table.\"\n",
              "              style=\"display:none;\">\n",
              "        \n",
              "  <svg xmlns=\"http://www.w3.org/2000/svg\" height=\"24px\"viewBox=\"0 0 24 24\"\n",
              "       width=\"24px\">\n",
              "    <path d=\"M0 0h24v24H0V0z\" fill=\"none\"/>\n",
              "    <path d=\"M18.56 5.44l.94 2.06.94-2.06 2.06-.94-2.06-.94-.94-2.06-.94 2.06-2.06.94zm-11 1L8.5 8.5l.94-2.06 2.06-.94-2.06-.94L8.5 2.5l-.94 2.06-2.06.94zm10 10l.94 2.06.94-2.06 2.06-.94-2.06-.94-.94-2.06-.94 2.06-2.06.94z\"/><path d=\"M17.41 7.96l-1.37-1.37c-.4-.4-.92-.59-1.43-.59-.52 0-1.04.2-1.43.59L10.3 9.45l-7.72 7.72c-.78.78-.78 2.05 0 2.83L4 21.41c.39.39.9.59 1.41.59.51 0 1.02-.2 1.41-.59l7.78-7.78 2.81-2.81c.8-.78.8-2.07 0-2.86zM5.41 20L4 18.59l7.72-7.72 1.47 1.35L5.41 20z\"/>\n",
              "  </svg>\n",
              "      </button>\n",
              "      \n",
              "  <style>\n",
              "    .colab-df-container {\n",
              "      display:flex;\n",
              "      flex-wrap:wrap;\n",
              "      gap: 12px;\n",
              "    }\n",
              "\n",
              "    .colab-df-convert {\n",
              "      background-color: #E8F0FE;\n",
              "      border: none;\n",
              "      border-radius: 50%;\n",
              "      cursor: pointer;\n",
              "      display: none;\n",
              "      fill: #1967D2;\n",
              "      height: 32px;\n",
              "      padding: 0 0 0 0;\n",
              "      width: 32px;\n",
              "    }\n",
              "\n",
              "    .colab-df-convert:hover {\n",
              "      background-color: #E2EBFA;\n",
              "      box-shadow: 0px 1px 2px rgba(60, 64, 67, 0.3), 0px 1px 3px 1px rgba(60, 64, 67, 0.15);\n",
              "      fill: #174EA6;\n",
              "    }\n",
              "\n",
              "    [theme=dark] .colab-df-convert {\n",
              "      background-color: #3B4455;\n",
              "      fill: #D2E3FC;\n",
              "    }\n",
              "\n",
              "    [theme=dark] .colab-df-convert:hover {\n",
              "      background-color: #434B5C;\n",
              "      box-shadow: 0px 1px 3px 1px rgba(0, 0, 0, 0.15);\n",
              "      filter: drop-shadow(0px 1px 2px rgba(0, 0, 0, 0.3));\n",
              "      fill: #FFFFFF;\n",
              "    }\n",
              "  </style>\n",
              "\n",
              "      <script>\n",
              "        const buttonEl =\n",
              "          document.querySelector('#df-72296391-7621-4261-818b-3cefa2b93f8b button.colab-df-convert');\n",
              "        buttonEl.style.display =\n",
              "          google.colab.kernel.accessAllowed ? 'block' : 'none';\n",
              "\n",
              "        async function convertToInteractive(key) {\n",
              "          const element = document.querySelector('#df-72296391-7621-4261-818b-3cefa2b93f8b');\n",
              "          const dataTable =\n",
              "            await google.colab.kernel.invokeFunction('convertToInteractive',\n",
              "                                                     [key], {});\n",
              "          if (!dataTable) return;\n",
              "\n",
              "          const docLinkHtml = 'Like what you see? Visit the ' +\n",
              "            '<a target=\"_blank\" href=https://colab.research.google.com/notebooks/data_table.ipynb>data table notebook</a>'\n",
              "            + ' to learn more about interactive tables.';\n",
              "          element.innerHTML = '';\n",
              "          dataTable['output_type'] = 'display_data';\n",
              "          await google.colab.output.renderOutput(dataTable, element);\n",
              "          const docLink = document.createElement('div');\n",
              "          docLink.innerHTML = docLinkHtml;\n",
              "          element.appendChild(docLink);\n",
              "        }\n",
              "      </script>\n",
              "    </div>\n",
              "  </div>\n",
              "  "
            ]
          },
          "metadata": {},
          "execution_count": 4
        }
      ]
    },
    {
      "cell_type": "code",
      "source": [
        "sns.boxplot(y=df['x1'], x=df['target'])"
      ],
      "metadata": {
        "colab": {
          "base_uri": "https://localhost:8080/",
          "height": 297
        },
        "id": "zKZlpC0mbUXy",
        "outputId": "b558894d-70a5-4985-88a5-2c38289a9ba0"
      },
      "execution_count": 5,
      "outputs": [
        {
          "output_type": "execute_result",
          "data": {
            "text/plain": [
              "<matplotlib.axes._subplots.AxesSubplot at 0x7f9709de87d0>"
            ]
          },
          "metadata": {},
          "execution_count": 5
        },
        {
          "output_type": "display_data",
          "data": {
            "text/plain": [
              "<Figure size 432x288 with 1 Axes>"
            ],
            "image/png": "[encoded data removed]"
          },
          "metadata": {
            "needs_background": "light"
          }
        }
      ]
    },
    {
      "cell_type": "code",
      "source": [
        "sns.boxplot(y=df['x2'], x=df['target'])"
      ],
      "metadata": {
        "colab": {
          "base_uri": "https://localhost:8080/",
          "height": 297
        },
        "id": "Fdlr12OEc8aX",
        "outputId": "2d17e039-edad-4eb2-a5c7-2c581e856492"
      },
      "execution_count": 6,
      "outputs": [
        {
          "output_type": "execute_result",
          "data": {
            "text/plain": [
              "<matplotlib.axes._subplots.AxesSubplot at 0x7f9709839750>"
            ]
          },
          "metadata": {},
          "execution_count": 6
        },
        {
          "output_type": "display_data",
          "data": {
            "text/plain": [
              "<Figure size 432x288 with 1 Axes>"
            ],
            "image/png": "[encoded data removed]"
          },
          "metadata": {
            "needs_background": "light"
          }
        }
      ]
    },
    {
      "cell_type": "code",
      "source": [
        "sns.boxplot(y=df['x3'], x=df['target'])"
      ],
      "metadata": {
        "colab": {
          "base_uri": "https://localhost:8080/",
          "height": 297
        },
        "id": "T-ve8CyIeXfr",
        "outputId": "73c317dd-aa6b-49dd-e435-027fd9c8be21"
      },
      "execution_count": 7,
      "outputs": [
        {
          "output_type": "execute_result",
          "data": {
            "text/plain": [
              "<matplotlib.axes._subplots.AxesSubplot at 0x7f97093195d0>"
            ]
          },
          "metadata": {},
          "execution_count": 7
        },
        {
          "output_type": "display_data",
          "data": {
            "text/plain": [
              "<Figure size 432x288 with 1 Axes>"
            ],
            "image/png": "[encoded data removed]"
          },
          "metadata": {
            "needs_background": "light"
          }
        }
      ]
    },
    {
      "cell_type": "code",
      "source": [
        "sns.pairplot(df, hue='target')"
      ],
      "metadata": {
        "colab": {
          "base_uri": "https://localhost:8080/",
          "height": 567
        },
        "id": "idXKwEy1fQdT",
        "outputId": "9542d93b-da37-41c7-b979-341c5244f9e1"
      },
      "execution_count": 8,
      "outputs": [
        {
          "output_type": "execute_result",
          "data": {
            "text/plain": [
              "<seaborn.axisgrid.PairGrid at 0x7f970992c590>"
            ]
          },
          "metadata": {},
          "execution_count": 8
        },
        {
          "output_type": "display_data",
          "data": {
            "text/plain": [
              "<Figure size 598.125x540 with 12 Axes>"
            ],
            "image/png": "[encoded data removed]"
          },
          "metadata": {
            "needs_background": "light"
          }
        }
      ]
    },
    {
      "cell_type": "code",
      "source": [
        "sns.pairplot(df.query('target == \"low\"'))"
      ],
      "metadata": {
        "colab": {
          "base_uri": "https://localhost:8080/",
          "height": 567
        },
        "id": "S7KwORjpjXWF",
        "outputId": "3616e749-5ae5-40ff-c37c-94daef5572df"
      },
      "execution_count": 9,
      "outputs": [
        {
          "output_type": "execute_result",
          "data": {
            "text/plain": [
              "<seaborn.axisgrid.PairGrid at 0x7f970f74ac50>"
            ]
          },
          "metadata": {},
          "execution_count": 9
        },
        {
          "output_type": "display_data",
          "data": {
            "text/plain": [
              "<Figure size 540x540 with 12 Axes>"
            ],
            "image/png": "[encoded data removed]"
          },
          "metadata": {
            "needs_background": "light"
          }
        }
      ]
    },
    {
      "cell_type": "code",
      "source": [
        "df['x13'] = df['x1']/df['x3']\n",
        "df['x23'] = df['x2']/df['x3']\n",
        "df['x12'] = df['x1']/df['x2']\n",
        "df['x1^2'] = df['x1']**2\n",
        "df['x2^2'] = df['x2']**2\n",
        "df['x3^2'] = df['x3']**2\n",
        "df['x1^3'] = df['x1']**3\n",
        "df['x2^3'] = df['x2']**3\n",
        "df['x3^3'] = df['x3']**3\n",
        "df['log(x1-min(x1)+1)'] = (df['x1']-df['x1'].min()+1).transform(np.log)\n",
        "df['log(x2-min(x2)+1)'] = (df['x2']-df['x2'].min()+1).transform(np.log)\n",
        "df['log(x3-min(x3)+1)'] = (df['x3']-df['x3'].min()+1).transform(np.log)\n",
        "df.describe()"
      ],
      "metadata": {
        "colab": {
          "base_uri": "https://localhost:8080/",
          "height": 381
        },
        "id": "32kqZfMBk_LQ",
        "outputId": "d021d3f2-4a41-4059-f31f-1e7c6a3427a4"
      },
      "execution_count": 10,
      "outputs": [
        {
          "output_type": "execute_result",
          "data": {
            "text/plain": [
              "             x1        x2        x3       x13       x23       x12      x1^2  \\\n",
              "count 10,000.00 10,000.00 10,000.00 10,000.00 10,000.00 10,000.00 10,000.00   \n",
              "mean      42.67      9.02    -24.60       inf       inf      7.23  2,475.88   \n",
              "std       25.60      5.18     20.14       NaN       NaN     10.32  2,264.39   \n",
              "min      -19.50      0.17    -59.98 -7,408.00   -635.00     -5.56      0.00   \n",
              "25%       21.68      5.26    -41.92     -2.47     -0.52      2.34    469.81   \n",
              "50%       42.94      8.07    -24.55     -1.20     -0.24      4.92  1,843.84   \n",
              "75%       64.13     11.73     -7.08     -0.35     -0.11      8.85  4,113.30   \n",
              "max      101.52     43.08      9.99       inf       inf    466.24 10,306.31   \n",
              "\n",
              "           x2^2      x3^2         x1^3      x2^3        x3^3  \\\n",
              "count 10,000.00 10,000.00    10,000.00 10,000.00   10,000.00   \n",
              "mean     108.25  1,010.84   161,189.01  1,614.74  -45,026.37   \n",
              "std      130.17  1,065.01   190,488.67  3,299.24   59,111.58   \n",
              "min        0.03      0.00    -7,414.88      0.00 -215,784.07   \n",
              "25%       27.67     72.42    10,183.04    145.53  -73,665.45   \n",
              "50%       65.21    602.95    79,174.66    526.54  -14,805.39   \n",
              "75%      137.59  1,757.29   263,806.40  1,613.96     -354.89   \n",
              "max    1,855.89  3,597.60 1,046,296.63 79,951.59      997.00   \n",
              "\n",
              "       log(x1-min(x1)+1)  log(x2-min(x2)+1)  log(x3-min(x3)+1)  \n",
              "count          10,000.00          10,000.00          10,000.00  \n",
              "mean                4.04               2.15               3.34  \n",
              "std                 0.49               0.55               0.85  \n",
              "min                 0.00               0.00               0.00  \n",
              "25%                 3.74               1.81               2.95  \n",
              "50%                 4.15               2.19               3.60  \n",
              "75%                 4.44               2.53               3.99  \n",
              "max                 4.80               3.78               4.26  "
            ],
            "text/html": [
              "\n",
              "  <div id=\"df-5c40a600-95ef-4473-84cd-088f0960c24e\">\n",
              "    <div class=\"colab-df-container\">\n",
              "      <div>\n",
              "<style scoped>\n",
              "    .dataframe tbody tr th:only-of-type {\n",
              "        vertical-align: middle;\n",
              "    }\n",
              "\n",
              "    .dataframe tbody tr th {\n",
              "        vertical-align: top;\n",
              "    }\n",
              "\n",
              "    .dataframe thead th {\n",
              "        text-align: right;\n",
              "    }\n",
              "</style>\n",
              "<table border=\"1\" class=\"dataframe\">\n",
              "  <thead>\n",
              "    <tr style=\"text-align: right;\">\n",
              "      <th></th>\n",
              "      <th>x1</th>\n",
              "      <th>x2</th>\n",
              "      <th>x3</th>\n",
              "      <th>x13</th>\n",
              "      <th>x23</th>\n",
              "      <th>x12</th>\n",
              "      <th>x1^2</th>\n",
              "      <th>x2^2</th>\n",
              "      <th>x3^2</th>\n",
              "      <th>x1^3</th>\n",
              "      <th>x2^3</th>\n",
              "      <th>x3^3</th>\n",
              "      <th>log(x1-min(x1)+1)</th>\n",
              "      <th>log(x2-min(x2)+1)</th>\n",
              "      <th>log(x3-min(x3)+1)</th>\n",
              "    </tr>\n",
              "  </thead>\n",
              "  <tbody>\n",
              "    <tr>\n",
              "      <th>count</th>\n",
              "      <td>10,000.00</td>\n",
              "      <td>10,000.00</td>\n",
              "      <td>10,000.00</td>\n",
              "      <td>10,000.00</td>\n",
              "      <td>10,000.00</td>\n",
              "      <td>10,000.00</td>\n",
              "      <td>10,000.00</td>\n",
              "      <td>10,000.00</td>\n",
              "      <td>10,000.00</td>\n",
              "      <td>10,000.00</td>\n",
              "      <td>10,000.00</td>\n",
              "      <td>10,000.00</td>\n",
              "      <td>10,000.00</td>\n",
              "      <td>10,000.00</td>\n",
              "      <td>10,000.00</td>\n",
              "    </tr>\n",
              "    <tr>\n",
              "      <th>mean</th>\n",
              "      <td>42.67</td>\n",
              "      <td>9.02</td>\n",
              "      <td>-24.60</td>\n",
              "      <td>inf</td>\n",
              "      <td>inf</td>\n",
              "      <td>7.23</td>\n",
              "      <td>2,475.88</td>\n",
              "      <td>108.25</td>\n",
              "      <td>1,010.84</td>\n",
              "      <td>161,189.01</td>\n",
              "      <td>1,614.74</td>\n",
              "      <td>-45,026.37</td>\n",
              "      <td>4.04</td>\n",
              "      <td>2.15</td>\n",
              "      <td>3.34</td>\n",
              "    </tr>\n",
              "    <tr>\n",
              "      <th>std</th>\n",
              "      <td>25.60</td>\n",
              "      <td>5.18</td>\n",
              "      <td>20.14</td>\n",
              "      <td>NaN</td>\n",
              "      <td>NaN</td>\n",
              "      <td>10.32</td>\n",
              "      <td>2,264.39</td>\n",
              "      <td>130.17</td>\n",
              "      <td>1,065.01</td>\n",
              "      <td>190,488.67</td>\n",
              "      <td>3,299.24</td>\n",
              "      <td>59,111.58</td>\n",
              "      <td>0.49</td>\n",
              "      <td>0.55</td>\n",
              "      <td>0.85</td>\n",
              "    </tr>\n",
              "    <tr>\n",
              "      <th>min</th>\n",
              "      <td>-19.50</td>\n",
              "      <td>0.17</td>\n",
              "      <td>-59.98</td>\n",
              "      <td>-7,408.00</td>\n",
              "      <td>-635.00</td>\n",
              "      <td>-5.56</td>\n",
              "      <td>0.00</td>\n",
              "      <td>0.03</td>\n",
              "      <td>0.00</td>\n",
              "      <td>-7,414.88</td>\n",
              "      <td>0.00</td>\n",
              "      <td>-215,784.07</td>\n",
              "      <td>0.00</td>\n",
              "      <td>0.00</td>\n",
              "      <td>0.00</td>\n",
              "    </tr>\n",
              "    <tr>\n",
              "      <th>25%</th>\n",
              "      <td>21.68</td>\n",
              "      <td>5.26</td>\n",
              "      <td>-41.92</td>\n",
              "      <td>-2.47</td>\n",
              "      <td>-0.52</td>\n",
              "      <td>2.34</td>\n",
              "      <td>469.81</td>\n",
              "      <td>27.67</td>\n",
              "      <td>72.42</td>\n",
              "      <td>10,183.04</td>\n",
              "      <td>145.53</td>\n",
              "      <td>-73,665.45</td>\n",
              "      <td>3.74</td>\n",
              "      <td>1.81</td>\n",
              "      <td>2.95</td>\n",
              "    </tr>\n",
              "    <tr>\n",
              "      <th>50%</th>\n",
              "      <td>42.94</td>\n",
              "      <td>8.07</td>\n",
              "      <td>-24.55</td>\n",
              "      <td>-1.20</td>\n",
              "      <td>-0.24</td>\n",
              "      <td>4.92</td>\n",
              "      <td>1,843.84</td>\n",
              "      <td>65.21</td>\n",
              "      <td>602.95</td>\n",
              "      <td>79,174.66</td>\n",
              "      <td>526.54</td>\n",
              "      <td>-14,805.39</td>\n",
              "      <td>4.15</td>\n",
              "      <td>2.19</td>\n",
              "      <td>3.60</td>\n",
              "    </tr>\n",
              "    <tr>\n",
              "      <th>75%</th>\n",
              "      <td>64.13</td>\n",
              "      <td>11.73</td>\n",
              "      <td>-7.08</td>\n",
              "      <td>-0.35</td>\n",
              "      <td>-0.11</td>\n",
              "      <td>8.85</td>\n",
              "      <td>4,113.30</td>\n",
              "      <td>137.59</td>\n",
              "      <td>1,757.29</td>\n",
              "      <td>263,806.40</td>\n",
              "      <td>1,613.96</td>\n",
              "      <td>-354.89</td>\n",
              "      <td>4.44</td>\n",
              "      <td>2.53</td>\n",
              "      <td>3.99</td>\n",
              "    </tr>\n",
              "    <tr>\n",
              "      <th>max</th>\n",
              "      <td>101.52</td>\n",
              "      <td>43.08</td>\n",
              "      <td>9.99</td>\n",
              "      <td>inf</td>\n",
              "      <td>inf</td>\n",
              "      <td>466.24</td>\n",
              "      <td>10,306.31</td>\n",
              "      <td>1,855.89</td>\n",
              "      <td>3,597.60</td>\n",
              "      <td>1,046,296.63</td>\n",
              "      <td>79,951.59</td>\n",
              "      <td>997.00</td>\n",
              "      <td>4.80</td>\n",
              "      <td>3.78</td>\n",
              "      <td>4.26</td>\n",
              "    </tr>\n",
              "  </tbody>\n",
              "</table>\n",
              "</div>\n",
              "      <button class=\"colab-df-convert\" onclick=\"convertToInteractive('df-5c40a600-95ef-4473-84cd-088f0960c24e')\"\n",
              "              title=\"Convert this dataframe to an interactive table.\"\n",
              "              style=\"display:none;\">\n",
              "        \n",
              "  <svg xmlns=\"http://www.w3.org/2000/svg\" height=\"24px\"viewBox=\"0 0 24 24\"\n",
              "       width=\"24px\">\n",
              "    <path d=\"M0 0h24v24H0V0z\" fill=\"none\"/>\n",
              "    <path d=\"M18.56 5.44l.94 2.06.94-2.06 2.06-.94-2.06-.94-.94-2.06-.94 2.06-2.06.94zm-11 1L8.5 8.5l.94-2.06 2.06-.94-2.06-.94L8.5 2.5l-.94 2.06-2.06.94zm10 10l.94 2.06.94-2.06 2.06-.94-2.06-.94-.94-2.06-.94 2.06-2.06.94z\"/><path d=\"M17.41 7.96l-1.37-1.37c-.4-.4-.92-.59-1.43-.59-.52 0-1.04.2-1.43.59L10.3 9.45l-7.72 7.72c-.78.78-.78 2.05 0 2.83L4 21.41c.39.39.9.59 1.41.59.51 0 1.02-.2 1.41-.59l7.78-7.78 2.81-2.81c.8-.78.8-2.07 0-2.86zM5.41 20L4 18.59l7.72-7.72 1.47 1.35L5.41 20z\"/>\n",
              "  </svg>\n",
              "      </button>\n",
              "      \n",
              "  <style>\n",
              "    .colab-df-container {\n",
              "      display:flex;\n",
              "      flex-wrap:wrap;\n",
              "      gap: 12px;\n",
              "    }\n",
              "\n",
              "    .colab-df-convert {\n",
              "      background-color: #E8F0FE;\n",
              "      border: none;\n",
              "      border-radius: 50%;\n",
              "      cursor: pointer;\n",
              "      display: none;\n",
              "      fill: #1967D2;\n",
              "      height: 32px;\n",
              "      padding: 0 0 0 0;\n",
              "      width: 32px;\n",
              "    }\n",
              "\n",
              "    .colab-df-convert:hover {\n",
              "      background-color: #E2EBFA;\n",
              "      box-shadow: 0px 1px 2px rgba(60, 64, 67, 0.3), 0px 1px 3px 1px rgba(60, 64, 67, 0.15);\n",
              "      fill: #174EA6;\n",
              "    }\n",
              "\n",
              "    [theme=dark] .colab-df-convert {\n",
              "      background-color: #3B4455;\n",
              "      fill: #D2E3FC;\n",
              "    }\n",
              "\n",
              "    [theme=dark] .colab-df-convert:hover {\n",
              "      background-color: #434B5C;\n",
              "      box-shadow: 0px 1px 3px 1px rgba(0, 0, 0, 0.15);\n",
              "      filter: drop-shadow(0px 1px 2px rgba(0, 0, 0, 0.3));\n",
              "      fill: #FFFFFF;\n",
              "    }\n",
              "  </style>\n",
              "\n",
              "      <script>\n",
              "        const buttonEl =\n",
              "          document.querySelector('#df-5c40a600-95ef-4473-84cd-088f0960c24e button.colab-df-convert');\n",
              "        buttonEl.style.display =\n",
              "          google.colab.kernel.accessAllowed ? 'block' : 'none';\n",
              "\n",
              "        async function convertToInteractive(key) {\n",
              "          const element = document.querySelector('#df-5c40a600-95ef-4473-84cd-088f0960c24e');\n",
              "          const dataTable =\n",
              "            await google.colab.kernel.invokeFunction('convertToInteractive',\n",
              "                                                     [key], {});\n",
              "          if (!dataTable) return;\n",
              "\n",
              "          const docLinkHtml = 'Like what you see? Visit the ' +\n",
              "            '<a target=\"_blank\" href=https://colab.research.google.com/notebooks/data_table.ipynb>data table notebook</a>'\n",
              "            + ' to learn more about interactive tables.';\n",
              "          element.innerHTML = '';\n",
              "          dataTable['output_type'] = 'display_data';\n",
              "          await google.colab.output.renderOutput(dataTable, element);\n",
              "          const docLink = document.createElement('div');\n",
              "          docLink.innerHTML = docLinkHtml;\n",
              "          element.appendChild(docLink);\n",
              "        }\n",
              "      </script>\n",
              "    </div>\n",
              "  </div>\n",
              "  "
            ]
          },
          "metadata": {},
          "execution_count": 10
        }
      ]
    },
    {
      "cell_type": "code",
      "source": [
        "df.loc[df['x3'] == 0]"
      ],
      "metadata": {
        "id": "3GGX6aA7Tfbt",
        "outputId": "7b514e93-a445-4883-a34c-5445cf1191f6",
        "colab": {
          "base_uri": "https://localhost:8080/",
          "height": 125
        }
      },
      "execution_count": 11,
      "outputs": [
        {
          "output_type": "execute_result",
          "data": {
            "text/plain": [
              "        x1    x2   x3 target  x13  x23  x12     x1^2   x2^2  x3^2      x1^3  \\\n",
              "5372 45.88 11.47 0.00    low  inf  inf 4.00 2,104.97 131.56  0.00 96,576.23   \n",
              "\n",
              "         x2^3  x3^3  log(x1-min(x1)+1)  log(x2-min(x2)+1)  log(x3-min(x3)+1)  \n",
              "5372 1,509.00  0.00               4.20               2.51               4.11  "
            ],
            "text/html": [
              "\n",
              "  <div id=\"df-7dd7e24d-75bd-4261-a385-ad6858714bf0\">\n",
              "    <div class=\"colab-df-container\">\n",
              "      <div>\n",
              "<style scoped>\n",
              "    .dataframe tbody tr th:only-of-type {\n",
              "        vertical-align: middle;\n",
              "    }\n",
              "\n",
              "    .dataframe tbody tr th {\n",
              "        vertical-align: top;\n",
              "    }\n",
              "\n",
              "    .dataframe thead th {\n",
              "        text-align: right;\n",
              "    }\n",
              "</style>\n",
              "<table border=\"1\" class=\"dataframe\">\n",
              "  <thead>\n",
              "    <tr style=\"text-align: right;\">\n",
              "      <th></th>\n",
              "      <th>x1</th>\n",
              "      <th>x2</th>\n",
              "      <th>x3</th>\n",
              "      <th>target</th>\n",
              "      <th>x13</th>\n",
              "      <th>x23</th>\n",
              "      <th>x12</th>\n",
              "      <th>x1^2</th>\n",
              "      <th>x2^2</th>\n",
              "      <th>x3^2</th>\n",
              "      <th>x1^3</th>\n",
              "      <th>x2^3</th>\n",
              "      <th>x3^3</th>\n",
              "      <th>log(x1-min(x1)+1)</th>\n",
              "      <th>log(x2-min(x2)+1)</th>\n",
              "      <th>log(x3-min(x3)+1)</th>\n",
              "    </tr>\n",
              "  </thead>\n",
              "  <tbody>\n",
              "    <tr>\n",
              "      <th>5372</th>\n",
              "      <td>45.88</td>\n",
              "      <td>11.47</td>\n",
              "      <td>0.00</td>\n",
              "      <td>low</td>\n",
              "      <td>inf</td>\n",
              "      <td>inf</td>\n",
              "      <td>4.00</td>\n",
              "      <td>2,104.97</td>\n",
              "      <td>131.56</td>\n",
              "      <td>0.00</td>\n",
              "      <td>96,576.23</td>\n",
              "      <td>1,509.00</td>\n",
              "      <td>0.00</td>\n",
              "      <td>4.20</td>\n",
              "      <td>2.51</td>\n",
              "      <td>4.11</td>\n",
              "    </tr>\n",
              "  </tbody>\n",
              "</table>\n",
              "</div>\n",
              "      <button class=\"colab-df-convert\" onclick=\"convertToInteractive('df-7dd7e24d-75bd-4261-a385-ad6858714bf0')\"\n",
              "              title=\"Convert this dataframe to an interactive table.\"\n",
              "              style=\"display:none;\">\n",
              "        \n",
              "  <svg xmlns=\"http://www.w3.org/2000/svg\" height=\"24px\"viewBox=\"0 0 24 24\"\n",
              "       width=\"24px\">\n",
              "    <path d=\"M0 0h24v24H0V0z\" fill=\"none\"/>\n",
              "    <path d=\"M18.56 5.44l.94 2.06.94-2.06 2.06-.94-2.06-.94-.94-2.06-.94 2.06-2.06.94zm-11 1L8.5 8.5l.94-2.06 2.06-.94-2.06-.94L8.5 2.5l-.94 2.06-2.06.94zm10 10l.94 2.06.94-2.06 2.06-.94-2.06-.94-.94-2.06-.94 2.06-2.06.94z\"/><path d=\"M17.41 7.96l-1.37-1.37c-.4-.4-.92-.59-1.43-.59-.52 0-1.04.2-1.43.59L10.3 9.45l-7.72 7.72c-.78.78-.78 2.05 0 2.83L4 21.41c.39.39.9.59 1.41.59.51 0 1.02-.2 1.41-.59l7.78-7.78 2.81-2.81c.8-.78.8-2.07 0-2.86zM5.41 20L4 18.59l7.72-7.72 1.47 1.35L5.41 20z\"/>\n",
              "  </svg>\n",
              "      </button>\n",
              "      \n",
              "  <style>\n",
              "    .colab-df-container {\n",
              "      display:flex;\n",
              "      flex-wrap:wrap;\n",
              "      gap: 12px;\n",
              "    }\n",
              "\n",
              "    .colab-df-convert {\n",
              "      background-color: #E8F0FE;\n",
              "      border: none;\n",
              "      border-radius: 50%;\n",
              "      cursor: pointer;\n",
              "      display: none;\n",
              "      fill: #1967D2;\n",
              "      height: 32px;\n",
              "      padding: 0 0 0 0;\n",
              "      width: 32px;\n",
              "    }\n",
              "\n",
              "    .colab-df-convert:hover {\n",
              "      background-color: #E2EBFA;\n",
              "      box-shadow: 0px 1px 2px rgba(60, 64, 67, 0.3), 0px 1px 3px 1px rgba(60, 64, 67, 0.15);\n",
              "      fill: #174EA6;\n",
              "    }\n",
              "\n",
              "    [theme=dark] .colab-df-convert {\n",
              "      background-color: #3B4455;\n",
              "      fill: #D2E3FC;\n",
              "    }\n",
              "\n",
              "    [theme=dark] .colab-df-convert:hover {\n",
              "      background-color: #434B5C;\n",
              "      box-shadow: 0px 1px 3px 1px rgba(0, 0, 0, 0.15);\n",
              "      filter: drop-shadow(0px 1px 2px rgba(0, 0, 0, 0.3));\n",
              "      fill: #FFFFFF;\n",
              "    }\n",
              "  </style>\n",
              "\n",
              "      <script>\n",
              "        const buttonEl =\n",
              "          document.querySelector('#df-7dd7e24d-75bd-4261-a385-ad6858714bf0 button.colab-df-convert');\n",
              "        buttonEl.style.display =\n",
              "          google.colab.kernel.accessAllowed ? 'block' : 'none';\n",
              "\n",
              "        async function convertToInteractive(key) {\n",
              "          const element = document.querySelector('#df-7dd7e24d-75bd-4261-a385-ad6858714bf0');\n",
              "          const dataTable =\n",
              "            await google.colab.kernel.invokeFunction('convertToInteractive',\n",
              "                                                     [key], {});\n",
              "          if (!dataTable) return;\n",
              "\n",
              "          const docLinkHtml = 'Like what you see? Visit the ' +\n",
              "            '<a target=\"_blank\" href=https://colab.research.google.com/notebooks/data_table.ipynb>data table notebook</a>'\n",
              "            + ' to learn more about interactive tables.';\n",
              "          element.innerHTML = '';\n",
              "          dataTable['output_type'] = 'display_data';\n",
              "          await google.colab.output.renderOutput(dataTable, element);\n",
              "          const docLink = document.createElement('div');\n",
              "          docLink.innerHTML = docLinkHtml;\n",
              "          element.appendChild(docLink);\n",
              "        }\n",
              "      </script>\n",
              "    </div>\n",
              "  </div>\n",
              "  "
            ]
          },
          "metadata": {},
          "execution_count": 11
        }
      ]
    },
    {
      "cell_type": "code",
      "source": [
        "df.loc[df['x3'] == 0, 'x13'] = df.loc[df['x13'] != np.inf, 'x13'].max()+1\n",
        "df.loc[df['x3'] == 0, 'x23'] = df.loc[df['x23'] != np.inf, 'x23'].max()+1\n",
        "df.describe()"
      ],
      "metadata": {
        "colab": {
          "base_uri": "https://localhost:8080/",
          "height": 381
        },
        "id": "0HMqTpcorlBa",
        "outputId": "5599a159-b87b-4dc4-b9e4-bc9a44cea73f"
      },
      "execution_count": 12,
      "outputs": [
        {
          "output_type": "execute_result",
          "data": {
            "text/plain": [
              "             x1        x2        x3       x13       x23       x12      x1^2  \\\n",
              "count 10,000.00 10,000.00 10,000.00 10,000.00 10,000.00 10,000.00 10,000.00   \n",
              "mean      42.67      9.02    -24.60     -0.13      0.42      7.23  2,475.88   \n",
              "std       25.60      5.18     20.14    182.91     46.58     10.32  2,264.39   \n",
              "min      -19.50      0.17    -59.98 -7,408.00   -635.00     -5.56      0.00   \n",
              "25%       21.68      5.26    -41.92     -2.47     -0.52      2.34    469.81   \n",
              "50%       42.94      8.07    -24.55     -1.20     -0.24      4.92  1,843.84   \n",
              "75%       64.13     11.73     -7.08     -0.35     -0.11      8.85  4,113.30   \n",
              "max      101.52     43.08      9.99  7,430.00  2,620.00    466.24 10,306.31   \n",
              "\n",
              "           x2^2      x3^2         x1^3      x2^3        x3^3  \\\n",
              "count 10,000.00 10,000.00    10,000.00 10,000.00   10,000.00   \n",
              "mean     108.25  1,010.84   161,189.01  1,614.74  -45,026.37   \n",
              "std      130.17  1,065.01   190,488.67  3,299.24   59,111.58   \n",
              "min        0.03      0.00    -7,414.88      0.00 -215,784.07   \n",
              "25%       27.67     72.42    10,183.04    145.53  -73,665.45   \n",
              "50%       65.21    602.95    79,174.66    526.54  -14,805.39   \n",
              "75%      137.59  1,757.29   263,806.40  1,613.96     -354.89   \n",
              "max    1,855.89  3,597.60 1,046,296.63 79,951.59      997.00   \n",
              "\n",
              "       log(x1-min(x1)+1)  log(x2-min(x2)+1)  log(x3-min(x3)+1)  \n",
              "count          10,000.00          10,000.00          10,000.00  \n",
              "mean                4.04               2.15               3.34  \n",
              "std                 0.49               0.55               0.85  \n",
              "min                 0.00               0.00               0.00  \n",
              "25%                 3.74               1.81               2.95  \n",
              "50%                 4.15               2.19               3.60  \n",
              "75%                 4.44               2.53               3.99  \n",
              "max                 4.80               3.78               4.26  "
            ],
            "text/html": [
              "\n",
              "  <div id=\"df-f8ca4854-2805-4307-9446-35cd30c77248\">\n",
              "    <div class=\"colab-df-container\">\n",
              "      <div>\n",
              "<style scoped>\n",
              "    .dataframe tbody tr th:only-of-type {\n",
              "        vertical-align: middle;\n",
              "    }\n",
              "\n",
              "    .dataframe tbody tr th {\n",
              "        vertical-align: top;\n",
              "    }\n",
              "\n",
              "    .dataframe thead th {\n",
              "        text-align: right;\n",
              "    }\n",
              "</style>\n",
              "<table border=\"1\" class=\"dataframe\">\n",
              "  <thead>\n",
              "    <tr style=\"text-align: right;\">\n",
              "      <th></th>\n",
              "      <th>x1</th>\n",
              "      <th>x2</th>\n",
              "      <th>x3</th>\n",
              "      <th>x13</th>\n",
              "      <th>x23</th>\n",
              "      <th>x12</th>\n",
              "      <th>x1^2</th>\n",
              "      <th>x2^2</th>\n",
              "      <th>x3^2</th>\n",
              "      <th>x1^3</th>\n",
              "      <th>x2^3</th>\n",
              "      <th>x3^3</th>\n",
              "      <th>log(x1-min(x1)+1)</th>\n",
              "      <th>log(x2-min(x2)+1)</th>\n",
              "      <th>log(x3-min(x3)+1)</th>\n",
              "    </tr>\n",
              "  </thead>\n",
              "  <tbody>\n",
              "    <tr>\n",
              "      <th>count</th>\n",
              "      <td>10,000.00</td>\n",
              "      <td>10,000.00</td>\n",
              "      <td>10,000.00</td>\n",
              "      <td>10,000.00</td>\n",
              "      <td>10,000.00</td>\n",
              "      <td>10,000.00</td>\n",
              "      <td>10,000.00</td>\n",
              "      <td>10,000.00</td>\n",
              "      <td>10,000.00</td>\n",
              "      <td>10,000.00</td>\n",
              "      <td>10,000.00</td>\n",
              "      <td>10,000.00</td>\n",
              "      <td>10,000.00</td>\n",
              "      <td>10,000.00</td>\n",
              "      <td>10,000.00</td>\n",
              "    </tr>\n",
              "    <tr>\n",
              "      <th>mean</th>\n",
              "      <td>42.67</td>\n",
              "      <td>9.02</td>\n",
              "      <td>-24.60</td>\n",
              "      <td>-0.13</td>\n",
              "      <td>0.42</td>\n",
              "      <td>7.23</td>\n",
              "      <td>2,475.88</td>\n",
              "      <td>108.25</td>\n",
              "      <td>1,010.84</td>\n",
              "      <td>161,189.01</td>\n",
              "      <td>1,614.74</td>\n",
              "      <td>-45,026.37</td>\n",
              "      <td>4.04</td>\n",
              "      <td>2.15</td>\n",
              "      <td>3.34</td>\n",
              "    </tr>\n",
              "    <tr>\n",
              "      <th>std</th>\n",
              "      <td>25.60</td>\n",
              "      <td>5.18</td>\n",
              "      <td>20.14</td>\n",
              "      <td>182.91</td>\n",
              "      <td>46.58</td>\n",
              "      <td>10.32</td>\n",
              "      <td>2,264.39</td>\n",
              "      <td>130.17</td>\n",
              "      <td>1,065.01</td>\n",
              "      <td>190,488.67</td>\n",
              "      <td>3,299.24</td>\n",
              "      <td>59,111.58</td>\n",
              "      <td>0.49</td>\n",
              "      <td>0.55</td>\n",
              "      <td>0.85</td>\n",
              "    </tr>\n",
              "    <tr>\n",
              "      <th>min</th>\n",
              "      <td>-19.50</td>\n",
              "      <td>0.17</td>\n",
              "      <td>-59.98</td>\n",
              "      <td>-7,408.00</td>\n",
              "      <td>-635.00</td>\n",
              "      <td>-5.56</td>\n",
              "      <td>0.00</td>\n",
              "      <td>0.03</td>\n",
              "      <td>0.00</td>\n",
              "      <td>-7,414.88</td>\n",
              "      <td>0.00</td>\n",
              "      <td>-215,784.07</td>\n",
              "      <td>0.00</td>\n",
              "      <td>0.00</td>\n",
              "      <td>0.00</td>\n",
              "    </tr>\n",
              "    <tr>\n",
              "      <th>25%</th>\n",
              "      <td>21.68</td>\n",
              "      <td>5.26</td>\n",
              "      <td>-41.92</td>\n",
              "      <td>-2.47</td>\n",
              "      <td>-0.52</td>\n",
              "      <td>2.34</td>\n",
              "      <td>469.81</td>\n",
              "      <td>27.67</td>\n",
              "      <td>72.42</td>\n",
              "      <td>10,183.04</td>\n",
              "      <td>145.53</td>\n",
              "      <td>-73,665.45</td>\n",
              "      <td>3.74</td>\n",
              "      <td>1.81</td>\n",
              "      <td>2.95</td>\n",
              "    </tr>\n",
              "    <tr>\n",
              "      <th>50%</th>\n",
              "      <td>42.94</td>\n",
              "      <td>8.07</td>\n",
              "      <td>-24.55</td>\n",
              "      <td>-1.20</td>\n",
              "      <td>-0.24</td>\n",
              "      <td>4.92</td>\n",
              "      <td>1,843.84</td>\n",
              "      <td>65.21</td>\n",
              "      <td>602.95</td>\n",
              "      <td>79,174.66</td>\n",
              "      <td>526.54</td>\n",
              "      <td>-14,805.39</td>\n",
              "      <td>4.15</td>\n",
              "      <td>2.19</td>\n",
              "      <td>3.60</td>\n",
              "    </tr>\n",
              "    <tr>\n",
              "      <th>75%</th>\n",
              "      <td>64.13</td>\n",
              "      <td>11.73</td>\n",
              "      <td>-7.08</td>\n",
              "      <td>-0.35</td>\n",
              "      <td>-0.11</td>\n",
              "      <td>8.85</td>\n",
              "      <td>4,113.30</td>\n",
              "      <td>137.59</td>\n",
              "      <td>1,757.29</td>\n",
              "      <td>263,806.40</td>\n",
              "      <td>1,613.96</td>\n",
              "      <td>-354.89</td>\n",
              "      <td>4.44</td>\n",
              "      <td>2.53</td>\n",
              "      <td>3.99</td>\n",
              "    </tr>\n",
              "    <tr>\n",
              "      <th>max</th>\n",
              "      <td>101.52</td>\n",
              "      <td>43.08</td>\n",
              "      <td>9.99</td>\n",
              "      <td>7,430.00</td>\n",
              "      <td>2,620.00</td>\n",
              "      <td>466.24</td>\n",
              "      <td>10,306.31</td>\n",
              "      <td>1,855.89</td>\n",
              "      <td>3,597.60</td>\n",
              "      <td>1,046,296.63</td>\n",
              "      <td>79,951.59</td>\n",
              "      <td>997.00</td>\n",
              "      <td>4.80</td>\n",
              "      <td>3.78</td>\n",
              "      <td>4.26</td>\n",
              "    </tr>\n",
              "  </tbody>\n",
              "</table>\n",
              "</div>\n",
              "      <button class=\"colab-df-convert\" onclick=\"convertToInteractive('df-f8ca4854-2805-4307-9446-35cd30c77248')\"\n",
              "              title=\"Convert this dataframe to an interactive table.\"\n",
              "              style=\"display:none;\">\n",
              "        \n",
              "  <svg xmlns=\"http://www.w3.org/2000/svg\" height=\"24px\"viewBox=\"0 0 24 24\"\n",
              "       width=\"24px\">\n",
              "    <path d=\"M0 0h24v24H0V0z\" fill=\"none\"/>\n",
              "    <path d=\"M18.56 5.44l.94 2.06.94-2.06 2.06-.94-2.06-.94-.94-2.06-.94 2.06-2.06.94zm-11 1L8.5 8.5l.94-2.06 2.06-.94-2.06-.94L8.5 2.5l-.94 2.06-2.06.94zm10 10l.94 2.06.94-2.06 2.06-.94-2.06-.94-.94-2.06-.94 2.06-2.06.94z\"/><path d=\"M17.41 7.96l-1.37-1.37c-.4-.4-.92-.59-1.43-.59-.52 0-1.04.2-1.43.59L10.3 9.45l-7.72 7.72c-.78.78-.78 2.05 0 2.83L4 21.41c.39.39.9.59 1.41.59.51 0 1.02-.2 1.41-.59l7.78-7.78 2.81-2.81c.8-.78.8-2.07 0-2.86zM5.41 20L4 18.59l7.72-7.72 1.47 1.35L5.41 20z\"/>\n",
              "  </svg>\n",
              "      </button>\n",
              "      \n",
              "  <style>\n",
              "    .colab-df-container {\n",
              "      display:flex;\n",
              "      flex-wrap:wrap;\n",
              "      gap: 12px;\n",
              "    }\n",
              "\n",
              "    .colab-df-convert {\n",
              "      background-color: #E8F0FE;\n",
              "      border: none;\n",
              "      border-radius: 50%;\n",
              "      cursor: pointer;\n",
              "      display: none;\n",
              "      fill: #1967D2;\n",
              "      height: 32px;\n",
              "      padding: 0 0 0 0;\n",
              "      width: 32px;\n",
              "    }\n",
              "\n",
              "    .colab-df-convert:hover {\n",
              "      background-color: #E2EBFA;\n",
              "      box-shadow: 0px 1px 2px rgba(60, 64, 67, 0.3), 0px 1px 3px 1px rgba(60, 64, 67, 0.15);\n",
              "      fill: #174EA6;\n",
              "    }\n",
              "\n",
              "    [theme=dark] .colab-df-convert {\n",
              "      background-color: #3B4455;\n",
              "      fill: #D2E3FC;\n",
              "    }\n",
              "\n",
              "    [theme=dark] .colab-df-convert:hover {\n",
              "      background-color: #434B5C;\n",
              "      box-shadow: 0px 1px 3px 1px rgba(0, 0, 0, 0.15);\n",
              "      filter: drop-shadow(0px 1px 2px rgba(0, 0, 0, 0.3));\n",
              "      fill: #FFFFFF;\n",
              "    }\n",
              "  </style>\n",
              "\n",
              "      <script>\n",
              "        const buttonEl =\n",
              "          document.querySelector('#df-f8ca4854-2805-4307-9446-35cd30c77248 button.colab-df-convert');\n",
              "        buttonEl.style.display =\n",
              "          google.colab.kernel.accessAllowed ? 'block' : 'none';\n",
              "\n",
              "        async function convertToInteractive(key) {\n",
              "          const element = document.querySelector('#df-f8ca4854-2805-4307-9446-35cd30c77248');\n",
              "          const dataTable =\n",
              "            await google.colab.kernel.invokeFunction('convertToInteractive',\n",
              "                                                     [key], {});\n",
              "          if (!dataTable) return;\n",
              "\n",
              "          const docLinkHtml = 'Like what you see? Visit the ' +\n",
              "            '<a target=\"_blank\" href=https://colab.research.google.com/notebooks/data_table.ipynb>data table notebook</a>'\n",
              "            + ' to learn more about interactive tables.';\n",
              "          element.innerHTML = '';\n",
              "          dataTable['output_type'] = 'display_data';\n",
              "          await google.colab.output.renderOutput(dataTable, element);\n",
              "          const docLink = document.createElement('div');\n",
              "          docLink.innerHTML = docLinkHtml;\n",
              "          element.appendChild(docLink);\n",
              "        }\n",
              "      </script>\n",
              "    </div>\n",
              "  </div>\n",
              "  "
            ]
          },
          "metadata": {},
          "execution_count": 12
        }
      ]
    },
    {
      "cell_type": "code",
      "source": [
        "df['target_med'] = 0\n",
        "df.loc[df['target']==\"med\", 'target_med'] = 1\n",
        "df['target_high'] = 0\n",
        "df.loc[df['target']==\"high\", 'target_high'] = 1\n",
        "df.describe()"
      ],
      "metadata": {
        "id": "87XNf4psTMBe",
        "outputId": "435642d6-8a78-4229-ec4f-bc0dec708455",
        "colab": {
          "base_uri": "https://localhost:8080/",
          "height": 381
        }
      },
      "execution_count": 194,
      "outputs": [
        {
          "output_type": "execute_result",
          "data": {
            "text/plain": [
              "               x1          x2          x3         x13         x23         x12  \\\n",
              "count 10,000.0000 10,000.0000 10,000.0000 10,000.0000 10,000.0000 10,000.0000   \n",
              "mean      42.6696      9.0232    -24.6032     -0.1279      0.4208      7.2286   \n",
              "std       25.5978      5.1802     20.1386    182.9124     46.5787     10.3192   \n",
              "min      -19.5000      0.1700    -59.9800 -7,408.0000   -635.0000     -5.5574   \n",
              "25%       21.6750      5.2600    -41.9200     -2.4707     -0.5224      2.3449   \n",
              "50%       42.9400      8.0750    -24.5550     -1.2042     -0.2391      4.9164   \n",
              "75%       64.1350     11.7300     -7.0800     -0.3453     -0.1061      8.8535   \n",
              "max      101.5200     43.0800      9.9900  7,430.0000  2,620.0000    466.2353   \n",
              "\n",
              "             x1^2        x2^2        x3^2           x1^3        x2^3  \\\n",
              "count 10,000.0000 10,000.0000 10,000.0000    10,000.0000 10,000.0000   \n",
              "mean   2,475.8802    108.2501  1,010.8393   161,189.0132  1,614.7412   \n",
              "std    2,264.3881    130.1708  1,065.0106   190,488.6713  3,299.2364   \n",
              "min        0.0000      0.0289      0.0000    -7,414.8750      0.0049   \n",
              "25%      469.8057     27.6676     72.4201    10,183.0418    145.5316   \n",
              "50%    1,843.8437     65.2057    602.9480    79,174.6571    526.5360   \n",
              "75%    4,113.2983    137.5929  1,757.2864   263,806.3961  1,613.9647   \n",
              "max   10,306.3104  1,855.8864  3,597.6004 1,046,296.6318 79,951.5861   \n",
              "\n",
              "               x3^3  log(x1-min(x1)+1)  log(x2-min(x2)+1)  log(x3-min(x3)+1)  \\\n",
              "count   10,000.0000        10,000.0000        10,000.0000        10,000.0000   \n",
              "mean   -45,026.3697             4.0428             2.1484             3.3392   \n",
              "std     59,111.5780             0.4903             0.5457             0.8520   \n",
              "min   -215,784.0720             0.0000             0.0000             0.0000   \n",
              "25%    -73,665.4459             3.7418             1.8066             2.9476   \n",
              "50%    -14,805.3906             4.1501             2.1866             3.5953   \n",
              "75%       -354.8949             4.4383             2.5305             3.9871   \n",
              "max        997.0030             4.8042             3.7821             4.2623   \n",
              "\n",
              "       target_low  target_high  target_med  \n",
              "count 10,000.0000  10,000.0000 10,000.0000  \n",
              "mean       0.6000       0.3000      0.1000  \n",
              "std        0.4899       0.4583      0.3000  \n",
              "min        0.0000       0.0000      0.0000  \n",
              "25%        0.0000       0.0000      0.0000  \n",
              "50%        1.0000       0.0000      0.0000  \n",
              "75%        1.0000       1.0000      0.0000  \n",
              "max        1.0000       1.0000      1.0000  "
            ],
            "text/html": [
              "\n",
              "  <div id=\"df-e1a5900c-77c8-4e37-be53-a79c7a2bc3fc\">\n",
              "    <div class=\"colab-df-container\">\n",
              "      <div>\n",
              "<style scoped>\n",
              "    .dataframe tbody tr th:only-of-type {\n",
              "        vertical-align: middle;\n",
              "    }\n",
              "\n",
              "    .dataframe tbody tr th {\n",
              "        vertical-align: top;\n",
              "    }\n",
              "\n",
              "    .dataframe thead th {\n",
              "        text-align: right;\n",
              "    }\n",
              "</style>\n",
              "<table border=\"1\" class=\"dataframe\">\n",
              "  <thead>\n",
              "    <tr style=\"text-align: right;\">\n",
              "      <th></th>\n",
              "      <th>x1</th>\n",
              "      <th>x2</th>\n",
              "      <th>x3</th>\n",
              "      <th>x13</th>\n",
              "      <th>x23</th>\n",
              "      <th>x12</th>\n",
              "      <th>x1^2</th>\n",
              "      <th>x2^2</th>\n",
              "      <th>x3^2</th>\n",
              "      <th>x1^3</th>\n",
              "      <th>x2^3</th>\n",
              "      <th>x3^3</th>\n",
              "      <th>log(x1-min(x1)+1)</th>\n",
              "      <th>log(x2-min(x2)+1)</th>\n",
              "      <th>log(x3-min(x3)+1)</th>\n",
              "      <th>target_low</th>\n",
              "      <th>target_high</th>\n",
              "      <th>target_med</th>\n",
              "    </tr>\n",
              "  </thead>\n",
              "  <tbody>\n",
              "    <tr>\n",
              "      <th>count</th>\n",
              "      <td>10,000.0000</td>\n",
              "      <td>10,000.0000</td>\n",
              "      <td>10,000.0000</td>\n",
              "      <td>10,000.0000</td>\n",
              "      <td>10,000.0000</td>\n",
              "      <td>10,000.0000</td>\n",
              "      <td>10,000.0000</td>\n",
              "      <td>10,000.0000</td>\n",
              "      <td>10,000.0000</td>\n",
              "      <td>10,000.0000</td>\n",
              "      <td>10,000.0000</td>\n",
              "      <td>10,000.0000</td>\n",
              "      <td>10,000.0000</td>\n",
              "      <td>10,000.0000</td>\n",
              "      <td>10,000.0000</td>\n",
              "      <td>10,000.0000</td>\n",
              "      <td>10,000.0000</td>\n",
              "      <td>10,000.0000</td>\n",
              "    </tr>\n",
              "    <tr>\n",
              "      <th>mean</th>\n",
              "      <td>42.6696</td>\n",
              "      <td>9.0232</td>\n",
              "      <td>-24.6032</td>\n",
              "      <td>-0.1279</td>\n",
              "      <td>0.4208</td>\n",
              "      <td>7.2286</td>\n",
              "      <td>2,475.8802</td>\n",
              "      <td>108.2501</td>\n",
              "      <td>1,010.8393</td>\n",
              "      <td>161,189.0132</td>\n",
              "      <td>1,614.7412</td>\n",
              "      <td>-45,026.3697</td>\n",
              "      <td>4.0428</td>\n",
              "      <td>2.1484</td>\n",
              "      <td>3.3392</td>\n",
              "      <td>0.6000</td>\n",
              "      <td>0.3000</td>\n",
              "      <td>0.1000</td>\n",
              "    </tr>\n",
              "    <tr>\n",
              "      <th>std</th>\n",
              "      <td>25.5978</td>\n",
              "      <td>5.1802</td>\n",
              "      <td>20.1386</td>\n",
              "      <td>182.9124</td>\n",
              "      <td>46.5787</td>\n",
              "      <td>10.3192</td>\n",
              "      <td>2,264.3881</td>\n",
              "      <td>130.1708</td>\n",
              "      <td>1,065.0106</td>\n",
              "      <td>190,488.6713</td>\n",
              "      <td>3,299.2364</td>\n",
              "      <td>59,111.5780</td>\n",
              "      <td>0.4903</td>\n",
              "      <td>0.5457</td>\n",
              "      <td>0.8520</td>\n",
              "      <td>0.4899</td>\n",
              "      <td>0.4583</td>\n",
              "      <td>0.3000</td>\n",
              "    </tr>\n",
              "    <tr>\n",
              "      <th>min</th>\n",
              "      <td>-19.5000</td>\n",
              "      <td>0.1700</td>\n",
              "      <td>-59.9800</td>\n",
              "      <td>-7,408.0000</td>\n",
              "      <td>-635.0000</td>\n",
              "      <td>-5.5574</td>\n",
              "      <td>0.0000</td>\n",
              "      <td>0.0289</td>\n",
              "      <td>0.0000</td>\n",
              "      <td>-7,414.8750</td>\n",
              "      <td>0.0049</td>\n",
              "      <td>-215,784.0720</td>\n",
              "      <td>0.0000</td>\n",
              "      <td>0.0000</td>\n",
              "      <td>0.0000</td>\n",
              "      <td>0.0000</td>\n",
              "      <td>0.0000</td>\n",
              "      <td>0.0000</td>\n",
              "    </tr>\n",
              "    <tr>\n",
              "      <th>25%</th>\n",
              "      <td>21.6750</td>\n",
              "      <td>5.2600</td>\n",
              "      <td>-41.9200</td>\n",
              "      <td>-2.4707</td>\n",
              "      <td>-0.5224</td>\n",
              "      <td>2.3449</td>\n",
              "      <td>469.8057</td>\n",
              "      <td>27.6676</td>\n",
              "      <td>72.4201</td>\n",
              "      <td>10,183.0418</td>\n",
              "      <td>145.5316</td>\n",
              "      <td>-73,665.4459</td>\n",
              "      <td>3.7418</td>\n",
              "      <td>1.8066</td>\n",
              "      <td>2.9476</td>\n",
              "      <td>0.0000</td>\n",
              "      <td>0.0000</td>\n",
              "      <td>0.0000</td>\n",
              "    </tr>\n",
              "    <tr>\n",
              "      <th>50%</th>\n",
              "      <td>42.9400</td>\n",
              "      <td>8.0750</td>\n",
              "      <td>-24.5550</td>\n",
              "      <td>-1.2042</td>\n",
              "      <td>-0.2391</td>\n",
              "      <td>4.9164</td>\n",
              "      <td>1,843.8437</td>\n",
              "      <td>65.2057</td>\n",
              "      <td>602.9480</td>\n",
              "      <td>79,174.6571</td>\n",
              "      <td>526.5360</td>\n",
              "      <td>-14,805.3906</td>\n",
              "      <td>4.1501</td>\n",
              "      <td>2.1866</td>\n",
              "      <td>3.5953</td>\n",
              "      <td>1.0000</td>\n",
              "      <td>0.0000</td>\n",
              "      <td>0.0000</td>\n",
              "    </tr>\n",
              "    <tr>\n",
              "      <th>75%</th>\n",
              "      <td>64.1350</td>\n",
              "      <td>11.7300</td>\n",
              "      <td>-7.0800</td>\n",
              "      <td>-0.3453</td>\n",
              "      <td>-0.1061</td>\n",
              "      <td>8.8535</td>\n",
              "      <td>4,113.2983</td>\n",
              "      <td>137.5929</td>\n",
              "      <td>1,757.2864</td>\n",
              "      <td>263,806.3961</td>\n",
              "      <td>1,613.9647</td>\n",
              "      <td>-354.8949</td>\n",
              "      <td>4.4383</td>\n",
              "      <td>2.5305</td>\n",
              "      <td>3.9871</td>\n",
              "      <td>1.0000</td>\n",
              "      <td>1.0000</td>\n",
              "      <td>0.0000</td>\n",
              "    </tr>\n",
              "    <tr>\n",
              "      <th>max</th>\n",
              "      <td>101.5200</td>\n",
              "      <td>43.0800</td>\n",
              "      <td>9.9900</td>\n",
              "      <td>7,430.0000</td>\n",
              "      <td>2,620.0000</td>\n",
              "      <td>466.2353</td>\n",
              "      <td>10,306.3104</td>\n",
              "      <td>1,855.8864</td>\n",
              "      <td>3,597.6004</td>\n",
              "      <td>1,046,296.6318</td>\n",
              "      <td>79,951.5861</td>\n",
              "      <td>997.0030</td>\n",
              "      <td>4.8042</td>\n",
              "      <td>3.7821</td>\n",
              "      <td>4.2623</td>\n",
              "      <td>1.0000</td>\n",
              "      <td>1.0000</td>\n",
              "      <td>1.0000</td>\n",
              "    </tr>\n",
              "  </tbody>\n",
              "</table>\n",
              "</div>\n",
              "      <button class=\"colab-df-convert\" onclick=\"convertToInteractive('df-e1a5900c-77c8-4e37-be53-a79c7a2bc3fc')\"\n",
              "              title=\"Convert this dataframe to an interactive table.\"\n",
              "              style=\"display:none;\">\n",
              "        \n",
              "  <svg xmlns=\"http://www.w3.org/2000/svg\" height=\"24px\"viewBox=\"0 0 24 24\"\n",
              "       width=\"24px\">\n",
              "    <path d=\"M0 0h24v24H0V0z\" fill=\"none\"/>\n",
              "    <path d=\"M18.56 5.44l.94 2.06.94-2.06 2.06-.94-2.06-.94-.94-2.06-.94 2.06-2.06.94zm-11 1L8.5 8.5l.94-2.06 2.06-.94-2.06-.94L8.5 2.5l-.94 2.06-2.06.94zm10 10l.94 2.06.94-2.06 2.06-.94-2.06-.94-.94-2.06-.94 2.06-2.06.94z\"/><path d=\"M17.41 7.96l-1.37-1.37c-.4-.4-.92-.59-1.43-.59-.52 0-1.04.2-1.43.59L10.3 9.45l-7.72 7.72c-.78.78-.78 2.05 0 2.83L4 21.41c.39.39.9.59 1.41.59.51 0 1.02-.2 1.41-.59l7.78-7.78 2.81-2.81c.8-.78.8-2.07 0-2.86zM5.41 20L4 18.59l7.72-7.72 1.47 1.35L5.41 20z\"/>\n",
              "  </svg>\n",
              "      </button>\n",
              "      \n",
              "  <style>\n",
              "    .colab-df-container {\n",
              "      display:flex;\n",
              "      flex-wrap:wrap;\n",
              "      gap: 12px;\n",
              "    }\n",
              "\n",
              "    .colab-df-convert {\n",
              "      background-color: #E8F0FE;\n",
              "      border: none;\n",
              "      border-radius: 50%;\n",
              "      cursor: pointer;\n",
              "      display: none;\n",
              "      fill: #1967D2;\n",
              "      height: 32px;\n",
              "      padding: 0 0 0 0;\n",
              "      width: 32px;\n",
              "    }\n",
              "\n",
              "    .colab-df-convert:hover {\n",
              "      background-color: #E2EBFA;\n",
              "      box-shadow: 0px 1px 2px rgba(60, 64, 67, 0.3), 0px 1px 3px 1px rgba(60, 64, 67, 0.15);\n",
              "      fill: #174EA6;\n",
              "    }\n",
              "\n",
              "    [theme=dark] .colab-df-convert {\n",
              "      background-color: #3B4455;\n",
              "      fill: #D2E3FC;\n",
              "    }\n",
              "\n",
              "    [theme=dark] .colab-df-convert:hover {\n",
              "      background-color: #434B5C;\n",
              "      box-shadow: 0px 1px 3px 1px rgba(0, 0, 0, 0.15);\n",
              "      filter: drop-shadow(0px 1px 2px rgba(0, 0, 0, 0.3));\n",
              "      fill: #FFFFFF;\n",
              "    }\n",
              "  </style>\n",
              "\n",
              "      <script>\n",
              "        const buttonEl =\n",
              "          document.querySelector('#df-e1a5900c-77c8-4e37-be53-a79c7a2bc3fc button.colab-df-convert');\n",
              "        buttonEl.style.display =\n",
              "          google.colab.kernel.accessAllowed ? 'block' : 'none';\n",
              "\n",
              "        async function convertToInteractive(key) {\n",
              "          const element = document.querySelector('#df-e1a5900c-77c8-4e37-be53-a79c7a2bc3fc');\n",
              "          const dataTable =\n",
              "            await google.colab.kernel.invokeFunction('convertToInteractive',\n",
              "                                                     [key], {});\n",
              "          if (!dataTable) return;\n",
              "\n",
              "          const docLinkHtml = 'Like what you see? Visit the ' +\n",
              "            '<a target=\"_blank\" href=https://colab.research.google.com/notebooks/data_table.ipynb>data table notebook</a>'\n",
              "            + ' to learn more about interactive tables.';\n",
              "          element.innerHTML = '';\n",
              "          dataTable['output_type'] = 'display_data';\n",
              "          await google.colab.output.renderOutput(dataTable, element);\n",
              "          const docLink = document.createElement('div');\n",
              "          docLink.innerHTML = docLinkHtml;\n",
              "          element.appendChild(docLink);\n",
              "        }\n",
              "      </script>\n",
              "    </div>\n",
              "  </div>\n",
              "  "
            ]
          },
          "metadata": {},
          "execution_count": 194
        }
      ]
    },
    {
      "cell_type": "code",
      "source": [
        "df.corr()"
      ],
      "metadata": {
        "colab": {
          "base_uri": "https://localhost:8080/",
          "height": 696
        },
        "id": "ChOYa_cqkTLi",
        "outputId": "dfd87f6d-9fe4-479d-b9b6-6181e9eac9bd"
      },
      "execution_count": 14,
      "outputs": [
        {
          "output_type": "execute_result",
          "data": {
            "text/plain": [
              "                     x1    x2    x3   x13   x23   x12  x1^2  x2^2  x3^2  x1^3  \\\n",
              "x1                 1.00 -0.01 -0.01 -0.00  0.00  0.43  0.96 -0.01  0.01  0.90   \n",
              "x2                -0.01  1.00  0.00  0.02  0.03 -0.42 -0.01  0.95 -0.00 -0.01   \n",
              "x3                -0.01  0.00  1.00  0.01  0.02 -0.00 -0.01 -0.01 -0.94 -0.01   \n",
              "x13               -0.00  0.02  0.01  1.00  0.78 -0.00 -0.00  0.02 -0.00 -0.00   \n",
              "x23                0.00  0.03  0.02  0.78  1.00 -0.01 -0.00  0.04 -0.01 -0.00   \n",
              "x12                0.43 -0.42 -0.00 -0.00 -0.01  1.00  0.42 -0.30 -0.00  0.39   \n",
              "x1^2               0.96 -0.01 -0.01 -0.00 -0.00  0.42  1.00 -0.00  0.01  0.98   \n",
              "x2^2              -0.01  0.95 -0.01  0.02  0.04 -0.30 -0.00  1.00  0.00 -0.00   \n",
              "x3^2               0.01 -0.00 -0.94 -0.00 -0.01 -0.00  0.01  0.00  1.00  0.01   \n",
              "x1^3               0.90 -0.01 -0.01 -0.00 -0.00  0.39  0.98 -0.00  0.01  1.00   \n",
              "x2^3              -0.01  0.82 -0.01  0.02  0.04 -0.21 -0.00  0.96  0.01  0.00   \n",
              "x3^3              -0.00  0.00  0.88  0.00  0.01  0.00 -0.01 -0.00 -0.99 -0.01   \n",
              "log(x1-min(x1)+1)  0.96 -0.02 -0.01 -0.00  0.01  0.41  0.85 -0.02  0.01  0.77   \n",
              "log(x2-min(x2)+1) -0.02  0.94  0.01  0.02  0.02 -0.56 -0.01  0.79 -0.01 -0.01   \n",
              "log(x3-min(x3)+1) -0.01  0.00  0.91  0.01  0.01  0.00 -0.01 -0.00 -0.98 -0.01   \n",
              "target_low         0.01  0.00  0.01  0.01  0.00  0.01  0.01  0.00 -0.00  0.01   \n",
              "target_high       -0.01  0.01 -0.00 -0.01 -0.01 -0.01 -0.01  0.01 -0.01 -0.01   \n",
              "\n",
              "                   x2^3  x3^3  log(x1-min(x1)+1)  log(x2-min(x2)+1)  \\\n",
              "x1                -0.01 -0.00               0.96              -0.02   \n",
              "x2                 0.82  0.00              -0.02               0.94   \n",
              "x3                -0.01  0.88              -0.01               0.01   \n",
              "x13                0.02  0.00              -0.00               0.02   \n",
              "x23                0.04  0.01               0.01               0.02   \n",
              "x12               -0.21  0.00               0.41              -0.56   \n",
              "x1^2              -0.00 -0.01               0.85              -0.01   \n",
              "x2^2               0.96 -0.00              -0.02               0.79   \n",
              "x3^2               0.01 -0.99               0.01              -0.01   \n",
              "x1^3               0.00 -0.01               0.77              -0.01   \n",
              "x2^3               1.00 -0.01              -0.01               0.63   \n",
              "x3^3              -0.01  1.00              -0.00               0.01   \n",
              "log(x1-min(x1)+1) -0.01 -0.00               1.00              -0.02   \n",
              "log(x2-min(x2)+1)  0.63  0.01              -0.02               1.00   \n",
              "log(x3-min(x3)+1) -0.01  0.98              -0.00               0.01   \n",
              "target_low         0.00  0.00               0.01               0.00   \n",
              "target_high        0.01  0.01              -0.01               0.01   \n",
              "\n",
              "                   log(x3-min(x3)+1)  target_low  target_high  \n",
              "x1                             -0.01        0.01        -0.01  \n",
              "x2                              0.00        0.00         0.01  \n",
              "x3                              0.91        0.01        -0.00  \n",
              "x13                             0.01        0.01        -0.01  \n",
              "x23                             0.01        0.00        -0.01  \n",
              "x12                             0.00        0.01        -0.01  \n",
              "x1^2                           -0.01        0.01        -0.01  \n",
              "x2^2                           -0.00        0.00         0.01  \n",
              "x3^2                           -0.98       -0.00        -0.01  \n",
              "x1^3                           -0.01        0.01        -0.01  \n",
              "x2^3                           -0.01        0.00         0.01  \n",
              "x3^3                            0.98        0.00         0.01  \n",
              "log(x1-min(x1)+1)              -0.00        0.01        -0.01  \n",
              "log(x2-min(x2)+1)               0.01        0.00         0.01  \n",
              "log(x3-min(x3)+1)               1.00        0.00         0.01  \n",
              "target_low                      0.00        1.00        -0.80  \n",
              "target_high                     0.01       -0.80         1.00  "
            ],
            "text/html": [
              "\n",
              "  <div id=\"df-36a05d06-bba4-4b74-a16d-e1cedffc2dda\">\n",
              "    <div class=\"colab-df-container\">\n",
              "      <div>\n",
              "<style scoped>\n",
              "    .dataframe tbody tr th:only-of-type {\n",
              "        vertical-align: middle;\n",
              "    }\n",
              "\n",
              "    .dataframe tbody tr th {\n",
              "        vertical-align: top;\n",
              "    }\n",
              "\n",
              "    .dataframe thead th {\n",
              "        text-align: right;\n",
              "    }\n",
              "</style>\n",
              "<table border=\"1\" class=\"dataframe\">\n",
              "  <thead>\n",
              "    <tr style=\"text-align: right;\">\n",
              "      <th></th>\n",
              "      <th>x1</th>\n",
              "      <th>x2</th>\n",
              "      <th>x3</th>\n",
              "      <th>x13</th>\n",
              "      <th>x23</th>\n",
              "      <th>x12</th>\n",
              "      <th>x1^2</th>\n",
              "      <th>x2^2</th>\n",
              "      <th>x3^2</th>\n",
              "      <th>x1^3</th>\n",
              "      <th>x2^3</th>\n",
              "      <th>x3^3</th>\n",
              "      <th>log(x1-min(x1)+1)</th>\n",
              "      <th>log(x2-min(x2)+1)</th>\n",
              "      <th>log(x3-min(x3)+1)</th>\n",
              "      <th>target_low</th>\n",
              "      <th>target_high</th>\n",
              "    </tr>\n",
              "  </thead>\n",
              "  <tbody>\n",
              "    <tr>\n",
              "      <th>x1</th>\n",
              "      <td>1.00</td>\n",
              "      <td>-0.01</td>\n",
              "      <td>-0.01</td>\n",
              "      <td>-0.00</td>\n",
              "      <td>0.00</td>\n",
              "      <td>0.43</td>\n",
              "      <td>0.96</td>\n",
              "      <td>-0.01</td>\n",
              "      <td>0.01</td>\n",
              "      <td>0.90</td>\n",
              "      <td>-0.01</td>\n",
              "      <td>-0.00</td>\n",
              "      <td>0.96</td>\n",
              "      <td>-0.02</td>\n",
              "      <td>-0.01</td>\n",
              "      <td>0.01</td>\n",
              "      <td>-0.01</td>\n",
              "    </tr>\n",
              "    <tr>\n",
              "      <th>x2</th>\n",
              "      <td>-0.01</td>\n",
              "      <td>1.00</td>\n",
              "      <td>0.00</td>\n",
              "      <td>0.02</td>\n",
              "      <td>0.03</td>\n",
              "      <td>-0.42</td>\n",
              "      <td>-0.01</td>\n",
              "      <td>0.95</td>\n",
              "      <td>-0.00</td>\n",
              "      <td>-0.01</td>\n",
              "      <td>0.82</td>\n",
              "      <td>0.00</td>\n",
              "      <td>-0.02</td>\n",
              "      <td>0.94</td>\n",
              "      <td>0.00</td>\n",
              "      <td>0.00</td>\n",
              "      <td>0.01</td>\n",
              "    </tr>\n",
              "    <tr>\n",
              "      <th>x3</th>\n",
              "      <td>-0.01</td>\n",
              "      <td>0.00</td>\n",
              "      <td>1.00</td>\n",
              "      <td>0.01</td>\n",
              "      <td>0.02</td>\n",
              "      <td>-0.00</td>\n",
              "      <td>-0.01</td>\n",
              "      <td>-0.01</td>\n",
              "      <td>-0.94</td>\n",
              "      <td>-0.01</td>\n",
              "      <td>-0.01</td>\n",
              "      <td>0.88</td>\n",
              "      <td>-0.01</td>\n",
              "      <td>0.01</td>\n",
              "      <td>0.91</td>\n",
              "      <td>0.01</td>\n",
              "      <td>-0.00</td>\n",
              "    </tr>\n",
              "    <tr>\n",
              "      <th>x13</th>\n",
              "      <td>-0.00</td>\n",
              "      <td>0.02</td>\n",
              "      <td>0.01</td>\n",
              "      <td>1.00</td>\n",
              "      <td>0.78</td>\n",
              "      <td>-0.00</td>\n",
              "      <td>-0.00</td>\n",
              "      <td>0.02</td>\n",
              "      <td>-0.00</td>\n",
              "      <td>-0.00</td>\n",
              "      <td>0.02</td>\n",
              "      <td>0.00</td>\n",
              "      <td>-0.00</td>\n",
              "      <td>0.02</td>\n",
              "      <td>0.01</td>\n",
              "      <td>0.01</td>\n",
              "      <td>-0.01</td>\n",
              "    </tr>\n",
              "    <tr>\n",
              "      <th>x23</th>\n",
              "      <td>0.00</td>\n",
              "      <td>0.03</td>\n",
              "      <td>0.02</td>\n",
              "      <td>0.78</td>\n",
              "      <td>1.00</td>\n",
              "      <td>-0.01</td>\n",
              "      <td>-0.00</td>\n",
              "      <td>0.04</td>\n",
              "      <td>-0.01</td>\n",
              "      <td>-0.00</td>\n",
              "      <td>0.04</td>\n",
              "      <td>0.01</td>\n",
              "      <td>0.01</td>\n",
              "      <td>0.02</td>\n",
              "      <td>0.01</td>\n",
              "      <td>0.00</td>\n",
              "      <td>-0.01</td>\n",
              "    </tr>\n",
              "    <tr>\n",
              "      <th>x12</th>\n",
              "      <td>0.43</td>\n",
              "      <td>-0.42</td>\n",
              "      <td>-0.00</td>\n",
              "      <td>-0.00</td>\n",
              "      <td>-0.01</td>\n",
              "      <td>1.00</td>\n",
              "      <td>0.42</td>\n",
              "      <td>-0.30</td>\n",
              "      <td>-0.00</td>\n",
              "      <td>0.39</td>\n",
              "      <td>-0.21</td>\n",
              "      <td>0.00</td>\n",
              "      <td>0.41</td>\n",
              "      <td>-0.56</td>\n",
              "      <td>0.00</td>\n",
              "      <td>0.01</td>\n",
              "      <td>-0.01</td>\n",
              "    </tr>\n",
              "    <tr>\n",
              "      <th>x1^2</th>\n",
              "      <td>0.96</td>\n",
              "      <td>-0.01</td>\n",
              "      <td>-0.01</td>\n",
              "      <td>-0.00</td>\n",
              "      <td>-0.00</td>\n",
              "      <td>0.42</td>\n",
              "      <td>1.00</td>\n",
              "      <td>-0.00</td>\n",
              "      <td>0.01</td>\n",
              "      <td>0.98</td>\n",
              "      <td>-0.00</td>\n",
              "      <td>-0.01</td>\n",
              "      <td>0.85</td>\n",
              "      <td>-0.01</td>\n",
              "      <td>-0.01</td>\n",
              "      <td>0.01</td>\n",
              "      <td>-0.01</td>\n",
              "    </tr>\n",
              "    <tr>\n",
              "      <th>x2^2</th>\n",
              "      <td>-0.01</td>\n",
              "      <td>0.95</td>\n",
              "      <td>-0.01</td>\n",
              "      <td>0.02</td>\n",
              "      <td>0.04</td>\n",
              "      <td>-0.30</td>\n",
              "      <td>-0.00</td>\n",
              "      <td>1.00</td>\n",
              "      <td>0.00</td>\n",
              "      <td>-0.00</td>\n",
              "      <td>0.96</td>\n",
              "      <td>-0.00</td>\n",
              "      <td>-0.02</td>\n",
              "      <td>0.79</td>\n",
              "      <td>-0.00</td>\n",
              "      <td>0.00</td>\n",
              "      <td>0.01</td>\n",
              "    </tr>\n",
              "    <tr>\n",
              "      <th>x3^2</th>\n",
              "      <td>0.01</td>\n",
              "      <td>-0.00</td>\n",
              "      <td>-0.94</td>\n",
              "      <td>-0.00</td>\n",
              "      <td>-0.01</td>\n",
              "      <td>-0.00</td>\n",
              "      <td>0.01</td>\n",
              "      <td>0.00</td>\n",
              "      <td>1.00</td>\n",
              "      <td>0.01</td>\n",
              "      <td>0.01</td>\n",
              "      <td>-0.99</td>\n",
              "      <td>0.01</td>\n",
              "      <td>-0.01</td>\n",
              "      <td>-0.98</td>\n",
              "      <td>-0.00</td>\n",
              "      <td>-0.01</td>\n",
              "    </tr>\n",
              "    <tr>\n",
              "      <th>x1^3</th>\n",
              "      <td>0.90</td>\n",
              "      <td>-0.01</td>\n",
              "      <td>-0.01</td>\n",
              "      <td>-0.00</td>\n",
              "      <td>-0.00</td>\n",
              "      <td>0.39</td>\n",
              "      <td>0.98</td>\n",
              "      <td>-0.00</td>\n",
              "      <td>0.01</td>\n",
              "      <td>1.00</td>\n",
              "      <td>0.00</td>\n",
              "      <td>-0.01</td>\n",
              "      <td>0.77</td>\n",
              "      <td>-0.01</td>\n",
              "      <td>-0.01</td>\n",
              "      <td>0.01</td>\n",
              "      <td>-0.01</td>\n",
              "    </tr>\n",
              "    <tr>\n",
              "      <th>x2^3</th>\n",
              "      <td>-0.01</td>\n",
              "      <td>0.82</td>\n",
              "      <td>-0.01</td>\n",
              "      <td>0.02</td>\n",
              "      <td>0.04</td>\n",
              "      <td>-0.21</td>\n",
              "      <td>-0.00</td>\n",
              "      <td>0.96</td>\n",
              "      <td>0.01</td>\n",
              "      <td>0.00</td>\n",
              "      <td>1.00</td>\n",
              "      <td>-0.01</td>\n",
              "      <td>-0.01</td>\n",
              "      <td>0.63</td>\n",
              "      <td>-0.01</td>\n",
              "      <td>0.00</td>\n",
              "      <td>0.01</td>\n",
              "    </tr>\n",
              "    <tr>\n",
              "      <th>x3^3</th>\n",
              "      <td>-0.00</td>\n",
              "      <td>0.00</td>\n",
              "      <td>0.88</td>\n",
              "      <td>0.00</td>\n",
              "      <td>0.01</td>\n",
              "      <td>0.00</td>\n",
              "      <td>-0.01</td>\n",
              "      <td>-0.00</td>\n",
              "      <td>-0.99</td>\n",
              "      <td>-0.01</td>\n",
              "      <td>-0.01</td>\n",
              "      <td>1.00</td>\n",
              "      <td>-0.00</td>\n",
              "      <td>0.01</td>\n",
              "      <td>0.98</td>\n",
              "      <td>0.00</td>\n",
              "      <td>0.01</td>\n",
              "    </tr>\n",
              "    <tr>\n",
              "      <th>log(x1-min(x1)+1)</th>\n",
              "      <td>0.96</td>\n",
              "      <td>-0.02</td>\n",
              "      <td>-0.01</td>\n",
              "      <td>-0.00</td>\n",
              "      <td>0.01</td>\n",
              "      <td>0.41</td>\n",
              "      <td>0.85</td>\n",
              "      <td>-0.02</td>\n",
              "      <td>0.01</td>\n",
              "      <td>0.77</td>\n",
              "      <td>-0.01</td>\n",
              "      <td>-0.00</td>\n",
              "      <td>1.00</td>\n",
              "      <td>-0.02</td>\n",
              "      <td>-0.00</td>\n",
              "      <td>0.01</td>\n",
              "      <td>-0.01</td>\n",
              "    </tr>\n",
              "    <tr>\n",
              "      <th>log(x2-min(x2)+1)</th>\n",
              "      <td>-0.02</td>\n",
              "      <td>0.94</td>\n",
              "      <td>0.01</td>\n",
              "      <td>0.02</td>\n",
              "      <td>0.02</td>\n",
              "      <td>-0.56</td>\n",
              "      <td>-0.01</td>\n",
              "      <td>0.79</td>\n",
              "      <td>-0.01</td>\n",
              "      <td>-0.01</td>\n",
              "      <td>0.63</td>\n",
              "      <td>0.01</td>\n",
              "      <td>-0.02</td>\n",
              "      <td>1.00</td>\n",
              "      <td>0.01</td>\n",
              "      <td>0.00</td>\n",
              "      <td>0.01</td>\n",
              "    </tr>\n",
              "    <tr>\n",
              "      <th>log(x3-min(x3)+1)</th>\n",
              "      <td>-0.01</td>\n",
              "      <td>0.00</td>\n",
              "      <td>0.91</td>\n",
              "      <td>0.01</td>\n",
              "      <td>0.01</td>\n",
              "      <td>0.00</td>\n",
              "      <td>-0.01</td>\n",
              "      <td>-0.00</td>\n",
              "      <td>-0.98</td>\n",
              "      <td>-0.01</td>\n",
              "      <td>-0.01</td>\n",
              "      <td>0.98</td>\n",
              "      <td>-0.00</td>\n",
              "      <td>0.01</td>\n",
              "      <td>1.00</td>\n",
              "      <td>0.00</td>\n",
              "      <td>0.01</td>\n",
              "    </tr>\n",
              "    <tr>\n",
              "      <th>target_low</th>\n",
              "      <td>0.01</td>\n",
              "      <td>0.00</td>\n",
              "      <td>0.01</td>\n",
              "      <td>0.01</td>\n",
              "      <td>0.00</td>\n",
              "      <td>0.01</td>\n",
              "      <td>0.01</td>\n",
              "      <td>0.00</td>\n",
              "      <td>-0.00</td>\n",
              "      <td>0.01</td>\n",
              "      <td>0.00</td>\n",
              "      <td>0.00</td>\n",
              "      <td>0.01</td>\n",
              "      <td>0.00</td>\n",
              "      <td>0.00</td>\n",
              "      <td>1.00</td>\n",
              "      <td>-0.80</td>\n",
              "    </tr>\n",
              "    <tr>\n",
              "      <th>target_high</th>\n",
              "      <td>-0.01</td>\n",
              "      <td>0.01</td>\n",
              "      <td>-0.00</td>\n",
              "      <td>-0.01</td>\n",
              "      <td>-0.01</td>\n",
              "      <td>-0.01</td>\n",
              "      <td>-0.01</td>\n",
              "      <td>0.01</td>\n",
              "      <td>-0.01</td>\n",
              "      <td>-0.01</td>\n",
              "      <td>0.01</td>\n",
              "      <td>0.01</td>\n",
              "      <td>-0.01</td>\n",
              "      <td>0.01</td>\n",
              "      <td>0.01</td>\n",
              "      <td>-0.80</td>\n",
              "      <td>1.00</td>\n",
              "    </tr>\n",
              "  </tbody>\n",
              "</table>\n",
              "</div>\n",
              "      <button class=\"colab-df-convert\" onclick=\"convertToInteractive('df-36a05d06-bba4-4b74-a16d-e1cedffc2dda')\"\n",
              "              title=\"Convert this dataframe to an interactive table.\"\n",
              "              style=\"display:none;\">\n",
              "        \n",
              "  <svg xmlns=\"http://www.w3.org/2000/svg\" height=\"24px\"viewBox=\"0 0 24 24\"\n",
              "       width=\"24px\">\n",
              "    <path d=\"M0 0h24v24H0V0z\" fill=\"none\"/>\n",
              "    <path d=\"M18.56 5.44l.94 2.06.94-2.06 2.06-.94-2.06-.94-.94-2.06-.94 2.06-2.06.94zm-11 1L8.5 8.5l.94-2.06 2.06-.94-2.06-.94L8.5 2.5l-.94 2.06-2.06.94zm10 10l.94 2.06.94-2.06 2.06-.94-2.06-.94-.94-2.06-.94 2.06-2.06.94z\"/><path d=\"M17.41 7.96l-1.37-1.37c-.4-.4-.92-.59-1.43-.59-.52 0-1.04.2-1.43.59L10.3 9.45l-7.72 7.72c-.78.78-.78 2.05 0 2.83L4 21.41c.39.39.9.59 1.41.59.51 0 1.02-.2 1.41-.59l7.78-7.78 2.81-2.81c.8-.78.8-2.07 0-2.86zM5.41 20L4 18.59l7.72-7.72 1.47 1.35L5.41 20z\"/>\n",
              "  </svg>\n",
              "      </button>\n",
              "      \n",
              "  <style>\n",
              "    .colab-df-container {\n",
              "      display:flex;\n",
              "      flex-wrap:wrap;\n",
              "      gap: 12px;\n",
              "    }\n",
              "\n",
              "    .colab-df-convert {\n",
              "      background-color: #E8F0FE;\n",
              "      border: none;\n",
              "      border-radius: 50%;\n",
              "      cursor: pointer;\n",
              "      display: none;\n",
              "      fill: #1967D2;\n",
              "      height: 32px;\n",
              "      padding: 0 0 0 0;\n",
              "      width: 32px;\n",
              "    }\n",
              "\n",
              "    .colab-df-convert:hover {\n",
              "      background-color: #E2EBFA;\n",
              "      box-shadow: 0px 1px 2px rgba(60, 64, 67, 0.3), 0px 1px 3px 1px rgba(60, 64, 67, 0.15);\n",
              "      fill: #174EA6;\n",
              "    }\n",
              "\n",
              "    [theme=dark] .colab-df-convert {\n",
              "      background-color: #3B4455;\n",
              "      fill: #D2E3FC;\n",
              "    }\n",
              "\n",
              "    [theme=dark] .colab-df-convert:hover {\n",
              "      background-color: #434B5C;\n",
              "      box-shadow: 0px 1px 3px 1px rgba(0, 0, 0, 0.15);\n",
              "      filter: drop-shadow(0px 1px 2px rgba(0, 0, 0, 0.3));\n",
              "      fill: #FFFFFF;\n",
              "    }\n",
              "  </style>\n",
              "\n",
              "      <script>\n",
              "        const buttonEl =\n",
              "          document.querySelector('#df-36a05d06-bba4-4b74-a16d-e1cedffc2dda button.colab-df-convert');\n",
              "        buttonEl.style.display =\n",
              "          google.colab.kernel.accessAllowed ? 'block' : 'none';\n",
              "\n",
              "        async function convertToInteractive(key) {\n",
              "          const element = document.querySelector('#df-36a05d06-bba4-4b74-a16d-e1cedffc2dda');\n",
              "          const dataTable =\n",
              "            await google.colab.kernel.invokeFunction('convertToInteractive',\n",
              "                                                     [key], {});\n",
              "          if (!dataTable) return;\n",
              "\n",
              "          const docLinkHtml = 'Like what you see? Visit the ' +\n",
              "            '<a target=\"_blank\" href=https://colab.research.google.com/notebooks/data_table.ipynb>data table notebook</a>'\n",
              "            + ' to learn more about interactive tables.';\n",
              "          element.innerHTML = '';\n",
              "          dataTable['output_type'] = 'display_data';\n",
              "          await google.colab.output.renderOutput(dataTable, element);\n",
              "          const docLink = document.createElement('div');\n",
              "          docLink.innerHTML = docLinkHtml;\n",
              "          element.appendChild(docLink);\n",
              "        }\n",
              "      </script>\n",
              "    </div>\n",
              "  </div>\n",
              "  "
            ]
          },
          "metadata": {},
          "execution_count": 14
        }
      ]
    },
    {
      "cell_type": "code",
      "source": [
        "features = ['x1','x2','x3','x13','x23','x12','x1^2','x2^2','x3^2','x1^3','x2^3','x3^3','log(x1-min(x1)+1)','log(x2-min(x2)+1)','log(x3-min(x3)+1)']\n",
        "X_train, X_test, y_train, y_test = train_test_split(df[features], df['target'], stratify=df['target'], random_state=2134)\n",
        "X_train = StandardScaler().fit_transform(X_train[features])\n",
        "X_train_res, y_train_res = SMOTE(random_state=3124).fit_resample(X_train, y_train)\n",
        "X_train_res = StandardScaler().fit_transform(X_train_res)\n",
        "df_train = pd.concat([pd.DataFrame(X_train_res), pd.Series(y_train_res)], axis=1)\n",
        "df_train.target.value_counts()"
      ],
      "metadata": {
        "id": "1EA5PRcC3mh0",
        "outputId": "9c7c6c58-cabd-4387-f163-892ae31b627b",
        "colab": {
          "base_uri": "https://localhost:8080/"
        }
      },
      "execution_count": 148,
      "outputs": [
        {
          "output_type": "execute_result",
          "data": {
            "text/plain": [
              "low     4500\n",
              "med     4500\n",
              "high    4500\n",
              "Name: target, dtype: int64"
            ]
          },
          "metadata": {},
          "execution_count": 148
        }
      ]
    },
    {
      "cell_type": "code",
      "source": [
        "rfc = RandomForestClassifier(n_estimators = 1000)\n",
        "rfc.fit(X_train_res, y_train_res)\n",
        "pd.concat([pd.Series(features),pd.Series(rfc.feature_importances_)], axis=1).set_index(0).T"
      ],
      "metadata": {
        "id": "WcnlvaSe-idD",
        "outputId": "e86a955d-1df0-4d18-f7d8-e937716c2dee",
        "colab": {
          "base_uri": "https://localhost:8080/",
          "height": 125
        }
      },
      "execution_count": 41,
      "outputs": [
        {
          "output_type": "execute_result",
          "data": {
            "text/plain": [
              "0     x1     x2     x3    x13    x23    x12   x1^2   x2^2   x3^2   x1^3  \\\n",
              "1 0.0645 0.0621 0.0656 0.0748 0.0732 0.0761 0.0659 0.0615 0.0666 0.0658   \n",
              "\n",
              "0   x2^3   x3^3  log(x1-min(x1)+1)  log(x2-min(x2)+1)  log(x3-min(x3)+1)  \n",
              "1 0.0628 0.0679             0.0652             0.0625             0.0655  "
            ],
            "text/html": [
              "\n",
              "  <div id=\"df-1233ffb5-016d-4a17-818f-dd42b6542b38\">\n",
              "    <div class=\"colab-df-container\">\n",
              "      <div>\n",
              "<style scoped>\n",
              "    .dataframe tbody tr th:only-of-type {\n",
              "        vertical-align: middle;\n",
              "    }\n",
              "\n",
              "    .dataframe tbody tr th {\n",
              "        vertical-align: top;\n",
              "    }\n",
              "\n",
              "    .dataframe thead th {\n",
              "        text-align: right;\n",
              "    }\n",
              "</style>\n",
              "<table border=\"1\" class=\"dataframe\">\n",
              "  <thead>\n",
              "    <tr style=\"text-align: right;\">\n",
              "      <th></th>\n",
              "      <th>x1</th>\n",
              "      <th>x2</th>\n",
              "      <th>x3</th>\n",
              "      <th>x13</th>\n",
              "      <th>x23</th>\n",
              "      <th>x12</th>\n",
              "      <th>x1^2</th>\n",
              "      <th>x2^2</th>\n",
              "      <th>x3^2</th>\n",
              "      <th>x1^3</th>\n",
              "      <th>x2^3</th>\n",
              "      <th>x3^3</th>\n",
              "      <th>log(x1-min(x1)+1)</th>\n",
              "      <th>log(x2-min(x2)+1)</th>\n",
              "      <th>log(x3-min(x3)+1)</th>\n",
              "    </tr>\n",
              "  </thead>\n",
              "  <tbody>\n",
              "    <tr>\n",
              "      <th>1</th>\n",
              "      <td>0.0645</td>\n",
              "      <td>0.0621</td>\n",
              "      <td>0.0656</td>\n",
              "      <td>0.0748</td>\n",
              "      <td>0.0732</td>\n",
              "      <td>0.0761</td>\n",
              "      <td>0.0659</td>\n",
              "      <td>0.0615</td>\n",
              "      <td>0.0666</td>\n",
              "      <td>0.0658</td>\n",
              "      <td>0.0628</td>\n",
              "      <td>0.0679</td>\n",
              "      <td>0.0652</td>\n",
              "      <td>0.0625</td>\n",
              "      <td>0.0655</td>\n",
              "    </tr>\n",
              "  </tbody>\n",
              "</table>\n",
              "</div>\n",
              "      <button class=\"colab-df-convert\" onclick=\"convertToInteractive('df-1233ffb5-016d-4a17-818f-dd42b6542b38')\"\n",
              "              title=\"Convert this dataframe to an interactive table.\"\n",
              "              style=\"display:none;\">\n",
              "        \n",
              "  <svg xmlns=\"http://www.w3.org/2000/svg\" height=\"24px\"viewBox=\"0 0 24 24\"\n",
              "       width=\"24px\">\n",
              "    <path d=\"M0 0h24v24H0V0z\" fill=\"none\"/>\n",
              "    <path d=\"M18.56 5.44l.94 2.06.94-2.06 2.06-.94-2.06-.94-.94-2.06-.94 2.06-2.06.94zm-11 1L8.5 8.5l.94-2.06 2.06-.94-2.06-.94L8.5 2.5l-.94 2.06-2.06.94zm10 10l.94 2.06.94-2.06 2.06-.94-2.06-.94-.94-2.06-.94 2.06-2.06.94z\"/><path d=\"M17.41 7.96l-1.37-1.37c-.4-.4-.92-.59-1.43-.59-.52 0-1.04.2-1.43.59L10.3 9.45l-7.72 7.72c-.78.78-.78 2.05 0 2.83L4 21.41c.39.39.9.59 1.41.59.51 0 1.02-.2 1.41-.59l7.78-7.78 2.81-2.81c.8-.78.8-2.07 0-2.86zM5.41 20L4 18.59l7.72-7.72 1.47 1.35L5.41 20z\"/>\n",
              "  </svg>\n",
              "      </button>\n",
              "      \n",
              "  <style>\n",
              "    .colab-df-container {\n",
              "      display:flex;\n",
              "      flex-wrap:wrap;\n",
              "      gap: 12px;\n",
              "    }\n",
              "\n",
              "    .colab-df-convert {\n",
              "      background-color: #E8F0FE;\n",
              "      border: none;\n",
              "      border-radius: 50%;\n",
              "      cursor: pointer;\n",
              "      display: none;\n",
              "      fill: #1967D2;\n",
              "      height: 32px;\n",
              "      padding: 0 0 0 0;\n",
              "      width: 32px;\n",
              "    }\n",
              "\n",
              "    .colab-df-convert:hover {\n",
              "      background-color: #E2EBFA;\n",
              "      box-shadow: 0px 1px 2px rgba(60, 64, 67, 0.3), 0px 1px 3px 1px rgba(60, 64, 67, 0.15);\n",
              "      fill: #174EA6;\n",
              "    }\n",
              "\n",
              "    [theme=dark] .colab-df-convert {\n",
              "      background-color: #3B4455;\n",
              "      fill: #D2E3FC;\n",
              "    }\n",
              "\n",
              "    [theme=dark] .colab-df-convert:hover {\n",
              "      background-color: #434B5C;\n",
              "      box-shadow: 0px 1px 3px 1px rgba(0, 0, 0, 0.15);\n",
              "      filter: drop-shadow(0px 1px 2px rgba(0, 0, 0, 0.3));\n",
              "      fill: #FFFFFF;\n",
              "    }\n",
              "  </style>\n",
              "\n",
              "      <script>\n",
              "        const buttonEl =\n",
              "          document.querySelector('#df-1233ffb5-016d-4a17-818f-dd42b6542b38 button.colab-df-convert');\n",
              "        buttonEl.style.display =\n",
              "          google.colab.kernel.accessAllowed ? 'block' : 'none';\n",
              "\n",
              "        async function convertToInteractive(key) {\n",
              "          const element = document.querySelector('#df-1233ffb5-016d-4a17-818f-dd42b6542b38');\n",
              "          const dataTable =\n",
              "            await google.colab.kernel.invokeFunction('convertToInteractive',\n",
              "                                                     [key], {});\n",
              "          if (!dataTable) return;\n",
              "\n",
              "          const docLinkHtml = 'Like what you see? Visit the ' +\n",
              "            '<a target=\"_blank\" href=https://colab.research.google.com/notebooks/data_table.ipynb>data table notebook</a>'\n",
              "            + ' to learn more about interactive tables.';\n",
              "          element.innerHTML = '';\n",
              "          dataTable['output_type'] = 'display_data';\n",
              "          await google.colab.output.renderOutput(dataTable, element);\n",
              "          const docLink = document.createElement('div');\n",
              "          docLink.innerHTML = docLinkHtml;\n",
              "          element.appendChild(docLink);\n",
              "        }\n",
              "      </script>\n",
              "    </div>\n",
              "  </div>\n",
              "  "
            ]
          },
          "metadata": {},
          "execution_count": 41
        }
      ]
    },
    {
      "cell_type": "code",
      "source": [
        "print('\\n', classification_report(y_test, rfc.predict(X_test)))"
      ],
      "metadata": {
        "id": "6bNBSUY8-iTN",
        "outputId": "0ea21425-c0a0-4ee5-f757-c1dfd4013a7f",
        "colab": {
          "base_uri": "https://localhost:8080/"
        }
      },
      "execution_count": 43,
      "outputs": [
        {
          "output_type": "stream",
          "name": "stderr",
          "text": [
            "/usr/local/lib/python3.7/dist-packages/sklearn/base.py:444: UserWarning: X has feature names, but RandomForestClassifier was fitted without feature names\n",
            "  f\"X has feature names, but {self.__class__.__name__} was fitted without\"\n"
          ]
        },
        {
          "output_type": "stream",
          "name": "stdout",
          "text": [
            "\n",
            "               precision    recall  f1-score   support\n",
            "\n",
            "        high       0.32      0.02      0.04       750\n",
            "         low       0.60      0.97      0.74      1500\n",
            "         med       0.00      0.00      0.00       250\n",
            "\n",
            "    accuracy                           0.59      2500\n",
            "   macro avg       0.30      0.33      0.26      2500\n",
            "weighted avg       0.45      0.59      0.46      2500\n",
            "\n"
          ]
        }
      ]
    },
    {
      "cell_type": "code",
      "source": [
        "rc = remove_corr(corr_maxima=.95)\n",
        "rc.fit(pd.DataFrame(X_train_res), y_train_res)\n",
        "X_train_res_ = rc.transform(pd.DataFrame(X_train_res))\n",
        "X_train_res_.corr()"
      ],
      "metadata": {
        "id": "TFixLBB_-ilj",
        "outputId": "282700a6-7581-48f2-dc72-483bf8bea6b2",
        "colab": {
          "base_uri": "https://localhost:8080/",
          "height": 386
        }
      },
      "execution_count": 45,
      "outputs": [
        {
          "output_type": "stream",
          "name": "stderr",
          "text": [
            "/usr/local/lib/python3.7/dist-packages/ipykernel_launcher.py:45: DeprecationWarning: `np.bool` is a deprecated alias for the builtin `bool`. To silence this warning, use `bool` by itself. Doing this will not modify any behavior and is safe. If you specifically wanted the numpy scalar type, use `np.bool_` here.\n",
            "Deprecated in NumPy 1.20; for more details and guidance: https://numpy.org/devdocs/release/1.20.0-notes.html#deprecations\n"
          ]
        },
        {
          "output_type": "execute_result",
          "data": {
            "text/plain": [
              "        0       1       2       3       4       5       7       8       13\n",
              "0   1.0000 -0.0055  0.0006 -0.0246 -0.0107  0.4420  0.0001 -0.0096 -0.0121\n",
              "1  -0.0055  1.0000 -0.0217  0.0185  0.0285 -0.4331  0.9490  0.0135  0.9419\n",
              "2   0.0006 -0.0217  1.0000 -0.0131  0.0112  0.0109 -0.0254 -0.9410 -0.0166\n",
              "3  -0.0246  0.0185 -0.0131  1.0000  0.7280 -0.0108  0.0193  0.0149  0.0144\n",
              "4  -0.0107  0.0285  0.0112  0.7280  1.0000 -0.0075  0.0343 -0.0048  0.0200\n",
              "5   0.4420 -0.4331  0.0109 -0.0108 -0.0075  1.0000 -0.3082 -0.0149 -0.5758\n",
              "7   0.0001  0.9490 -0.0254  0.0193  0.0343 -0.3082  1.0000  0.0148  0.8010\n",
              "8  -0.0096  0.0135 -0.9410  0.0149 -0.0048 -0.0149  0.0148  1.0000  0.0119\n",
              "13 -0.0121  0.9419 -0.0166  0.0144  0.0200 -0.5758  0.8010  0.0119  1.0000"
            ],
            "text/html": [
              "\n",
              "  <div id=\"df-dd0a1c6c-0101-47c2-a2be-003082d9f52b\">\n",
              "    <div class=\"colab-df-container\">\n",
              "      <div>\n",
              "<style scoped>\n",
              "    .dataframe tbody tr th:only-of-type {\n",
              "        vertical-align: middle;\n",
              "    }\n",
              "\n",
              "    .dataframe tbody tr th {\n",
              "        vertical-align: top;\n",
              "    }\n",
              "\n",
              "    .dataframe thead th {\n",
              "        text-align: right;\n",
              "    }\n",
              "</style>\n",
              "<table border=\"1\" class=\"dataframe\">\n",
              "  <thead>\n",
              "    <tr style=\"text-align: right;\">\n",
              "      <th></th>\n",
              "      <th>0</th>\n",
              "      <th>1</th>\n",
              "      <th>2</th>\n",
              "      <th>3</th>\n",
              "      <th>4</th>\n",
              "      <th>5</th>\n",
              "      <th>7</th>\n",
              "      <th>8</th>\n",
              "      <th>13</th>\n",
              "    </tr>\n",
              "  </thead>\n",
              "  <tbody>\n",
              "    <tr>\n",
              "      <th>0</th>\n",
              "      <td>1.0000</td>\n",
              "      <td>-0.0055</td>\n",
              "      <td>0.0006</td>\n",
              "      <td>-0.0246</td>\n",
              "      <td>-0.0107</td>\n",
              "      <td>0.4420</td>\n",
              "      <td>0.0001</td>\n",
              "      <td>-0.0096</td>\n",
              "      <td>-0.0121</td>\n",
              "    </tr>\n",
              "    <tr>\n",
              "      <th>1</th>\n",
              "      <td>-0.0055</td>\n",
              "      <td>1.0000</td>\n",
              "      <td>-0.0217</td>\n",
              "      <td>0.0185</td>\n",
              "      <td>0.0285</td>\n",
              "      <td>-0.4331</td>\n",
              "      <td>0.9490</td>\n",
              "      <td>0.0135</td>\n",
              "      <td>0.9419</td>\n",
              "    </tr>\n",
              "    <tr>\n",
              "      <th>2</th>\n",
              "      <td>0.0006</td>\n",
              "      <td>-0.0217</td>\n",
              "      <td>1.0000</td>\n",
              "      <td>-0.0131</td>\n",
              "      <td>0.0112</td>\n",
              "      <td>0.0109</td>\n",
              "      <td>-0.0254</td>\n",
              "      <td>-0.9410</td>\n",
              "      <td>-0.0166</td>\n",
              "    </tr>\n",
              "    <tr>\n",
              "      <th>3</th>\n",
              "      <td>-0.0246</td>\n",
              "      <td>0.0185</td>\n",
              "      <td>-0.0131</td>\n",
              "      <td>1.0000</td>\n",
              "      <td>0.7280</td>\n",
              "      <td>-0.0108</td>\n",
              "      <td>0.0193</td>\n",
              "      <td>0.0149</td>\n",
              "      <td>0.0144</td>\n",
              "    </tr>\n",
              "    <tr>\n",
              "      <th>4</th>\n",
              "      <td>-0.0107</td>\n",
              "      <td>0.0285</td>\n",
              "      <td>0.0112</td>\n",
              "      <td>0.7280</td>\n",
              "      <td>1.0000</td>\n",
              "      <td>-0.0075</td>\n",
              "      <td>0.0343</td>\n",
              "      <td>-0.0048</td>\n",
              "      <td>0.0200</td>\n",
              "    </tr>\n",
              "    <tr>\n",
              "      <th>5</th>\n",
              "      <td>0.4420</td>\n",
              "      <td>-0.4331</td>\n",
              "      <td>0.0109</td>\n",
              "      <td>-0.0108</td>\n",
              "      <td>-0.0075</td>\n",
              "      <td>1.0000</td>\n",
              "      <td>-0.3082</td>\n",
              "      <td>-0.0149</td>\n",
              "      <td>-0.5758</td>\n",
              "    </tr>\n",
              "    <tr>\n",
              "      <th>7</th>\n",
              "      <td>0.0001</td>\n",
              "      <td>0.9490</td>\n",
              "      <td>-0.0254</td>\n",
              "      <td>0.0193</td>\n",
              "      <td>0.0343</td>\n",
              "      <td>-0.3082</td>\n",
              "      <td>1.0000</td>\n",
              "      <td>0.0148</td>\n",
              "      <td>0.8010</td>\n",
              "    </tr>\n",
              "    <tr>\n",
              "      <th>8</th>\n",
              "      <td>-0.0096</td>\n",
              "      <td>0.0135</td>\n",
              "      <td>-0.9410</td>\n",
              "      <td>0.0149</td>\n",
              "      <td>-0.0048</td>\n",
              "      <td>-0.0149</td>\n",
              "      <td>0.0148</td>\n",
              "      <td>1.0000</td>\n",
              "      <td>0.0119</td>\n",
              "    </tr>\n",
              "    <tr>\n",
              "      <th>13</th>\n",
              "      <td>-0.0121</td>\n",
              "      <td>0.9419</td>\n",
              "      <td>-0.0166</td>\n",
              "      <td>0.0144</td>\n",
              "      <td>0.0200</td>\n",
              "      <td>-0.5758</td>\n",
              "      <td>0.8010</td>\n",
              "      <td>0.0119</td>\n",
              "      <td>1.0000</td>\n",
              "    </tr>\n",
              "  </tbody>\n",
              "</table>\n",
              "</div>\n",
              "      <button class=\"colab-df-convert\" onclick=\"convertToInteractive('df-dd0a1c6c-0101-47c2-a2be-003082d9f52b')\"\n",
              "              title=\"Convert this dataframe to an interactive table.\"\n",
              "              style=\"display:none;\">\n",
              "        \n",
              "  <svg xmlns=\"http://www.w3.org/2000/svg\" height=\"24px\"viewBox=\"0 0 24 24\"\n",
              "       width=\"24px\">\n",
              "    <path d=\"M0 0h24v24H0V0z\" fill=\"none\"/>\n",
              "    <path d=\"M18.56 5.44l.94 2.06.94-2.06 2.06-.94-2.06-.94-.94-2.06-.94 2.06-2.06.94zm-11 1L8.5 8.5l.94-2.06 2.06-.94-2.06-.94L8.5 2.5l-.94 2.06-2.06.94zm10 10l.94 2.06.94-2.06 2.06-.94-2.06-.94-.94-2.06-.94 2.06-2.06.94z\"/><path d=\"M17.41 7.96l-1.37-1.37c-.4-.4-.92-.59-1.43-.59-.52 0-1.04.2-1.43.59L10.3 9.45l-7.72 7.72c-.78.78-.78 2.05 0 2.83L4 21.41c.39.39.9.59 1.41.59.51 0 1.02-.2 1.41-.59l7.78-7.78 2.81-2.81c.8-.78.8-2.07 0-2.86zM5.41 20L4 18.59l7.72-7.72 1.47 1.35L5.41 20z\"/>\n",
              "  </svg>\n",
              "      </button>\n",
              "      \n",
              "  <style>\n",
              "    .colab-df-container {\n",
              "      display:flex;\n",
              "      flex-wrap:wrap;\n",
              "      gap: 12px;\n",
              "    }\n",
              "\n",
              "    .colab-df-convert {\n",
              "      background-color: #E8F0FE;\n",
              "      border: none;\n",
              "      border-radius: 50%;\n",
              "      cursor: pointer;\n",
              "      display: none;\n",
              "      fill: #1967D2;\n",
              "      height: 32px;\n",
              "      padding: 0 0 0 0;\n",
              "      width: 32px;\n",
              "    }\n",
              "\n",
              "    .colab-df-convert:hover {\n",
              "      background-color: #E2EBFA;\n",
              "      box-shadow: 0px 1px 2px rgba(60, 64, 67, 0.3), 0px 1px 3px 1px rgba(60, 64, 67, 0.15);\n",
              "      fill: #174EA6;\n",
              "    }\n",
              "\n",
              "    [theme=dark] .colab-df-convert {\n",
              "      background-color: #3B4455;\n",
              "      fill: #D2E3FC;\n",
              "    }\n",
              "\n",
              "    [theme=dark] .colab-df-convert:hover {\n",
              "      background-color: #434B5C;\n",
              "      box-shadow: 0px 1px 3px 1px rgba(0, 0, 0, 0.15);\n",
              "      filter: drop-shadow(0px 1px 2px rgba(0, 0, 0, 0.3));\n",
              "      fill: #FFFFFF;\n",
              "    }\n",
              "  </style>\n",
              "\n",
              "      <script>\n",
              "        const buttonEl =\n",
              "          document.querySelector('#df-dd0a1c6c-0101-47c2-a2be-003082d9f52b button.colab-df-convert');\n",
              "        buttonEl.style.display =\n",
              "          google.colab.kernel.accessAllowed ? 'block' : 'none';\n",
              "\n",
              "        async function convertToInteractive(key) {\n",
              "          const element = document.querySelector('#df-dd0a1c6c-0101-47c2-a2be-003082d9f52b');\n",
              "          const dataTable =\n",
              "            await google.colab.kernel.invokeFunction('convertToInteractive',\n",
              "                                                     [key], {});\n",
              "          if (!dataTable) return;\n",
              "\n",
              "          const docLinkHtml = 'Like what you see? Visit the ' +\n",
              "            '<a target=\"_blank\" href=https://colab.research.google.com/notebooks/data_table.ipynb>data table notebook</a>'\n",
              "            + ' to learn more about interactive tables.';\n",
              "          element.innerHTML = '';\n",
              "          dataTable['output_type'] = 'display_data';\n",
              "          await google.colab.output.renderOutput(dataTable, element);\n",
              "          const docLink = document.createElement('div');\n",
              "          docLink.innerHTML = docLinkHtml;\n",
              "          element.appendChild(docLink);\n",
              "        }\n",
              "      </script>\n",
              "    </div>\n",
              "  </div>\n",
              "  "
            ]
          },
          "metadata": {},
          "execution_count": 45
        }
      ]
    },
    {
      "cell_type": "code",
      "source": [
        "select = []\n",
        "for item in list(X_train_res_.columns.values):\n",
        "  select.append(features[item])"
      ],
      "metadata": {
        "id": "8texz9k7nHcG",
        "outputId": "0c0bfd60-f043-4755-98a7-474a0baf2249",
        "colab": {
          "base_uri": "https://localhost:8080/"
        }
      },
      "execution_count": 80,
      "outputs": [
        {
          "output_type": "execute_result",
          "data": {
            "text/plain": [
              "['x1', 'x2', 'x3', 'x13', 'x23', 'x12', 'x2^2', 'x3^2', 'log(x2-min(x2)+1)']"
            ]
          },
          "metadata": {},
          "execution_count": 80
        }
      ]
    },
    {
      "cell_type": "code",
      "source": [
        "rfc = RandomForestClassifier(n_estimators = 1000)\n",
        "rfc.fit(X_train_res_, y_train_res)\n",
        "pd.concat([pd.Series(select),pd.Series(rfc.feature_importances_)], axis=1).set_index(0).sort_values(by=1, ascending=False).T"
      ],
      "metadata": {
        "id": "VnvU1IGQ-iF0",
        "outputId": "a601d36b-3e57-40c3-ddfa-edc2205fca67",
        "colab": {
          "base_uri": "https://localhost:8080/",
          "height": 81
        }
      },
      "execution_count": 101,
      "outputs": [
        {
          "output_type": "execute_result",
          "data": {
            "text/plain": [
              "0     x1    x12    x13   x3^2     x3    x23   x2^2  log(x2-min(x2)+1)     x2\n",
              "1 0.1344 0.1253 0.1224 0.1149 0.1143 0.1120 0.0925             0.0925 0.0917"
            ],
            "text/html": [
              "\n",
              "  <div id=\"df-0b8afe5d-1c5b-4e4c-995b-892875fb874a\">\n",
              "    <div class=\"colab-df-container\">\n",
              "      <div>\n",
              "<style scoped>\n",
              "    .dataframe tbody tr th:only-of-type {\n",
              "        vertical-align: middle;\n",
              "    }\n",
              "\n",
              "    .dataframe tbody tr th {\n",
              "        vertical-align: top;\n",
              "    }\n",
              "\n",
              "    .dataframe thead th {\n",
              "        text-align: right;\n",
              "    }\n",
              "</style>\n",
              "<table border=\"1\" class=\"dataframe\">\n",
              "  <thead>\n",
              "    <tr style=\"text-align: right;\">\n",
              "      <th></th>\n",
              "      <th>x1</th>\n",
              "      <th>x12</th>\n",
              "      <th>x13</th>\n",
              "      <th>x3^2</th>\n",
              "      <th>x3</th>\n",
              "      <th>x23</th>\n",
              "      <th>x2^2</th>\n",
              "      <th>log(x2-min(x2)+1)</th>\n",
              "      <th>x2</th>\n",
              "    </tr>\n",
              "  </thead>\n",
              "  <tbody>\n",
              "    <tr>\n",
              "      <th>1</th>\n",
              "      <td>0.1344</td>\n",
              "      <td>0.1253</td>\n",
              "      <td>0.1224</td>\n",
              "      <td>0.1149</td>\n",
              "      <td>0.1143</td>\n",
              "      <td>0.1120</td>\n",
              "      <td>0.0925</td>\n",
              "      <td>0.0925</td>\n",
              "      <td>0.0917</td>\n",
              "    </tr>\n",
              "  </tbody>\n",
              "</table>\n",
              "</div>\n",
              "      <button class=\"colab-df-convert\" onclick=\"convertToInteractive('df-0b8afe5d-1c5b-4e4c-995b-892875fb874a')\"\n",
              "              title=\"Convert this dataframe to an interactive table.\"\n",
              "              style=\"display:none;\">\n",
              "        \n",
              "  <svg xmlns=\"http://www.w3.org/2000/svg\" height=\"24px\"viewBox=\"0 0 24 24\"\n",
              "       width=\"24px\">\n",
              "    <path d=\"M0 0h24v24H0V0z\" fill=\"none\"/>\n",
              "    <path d=\"M18.56 5.44l.94 2.06.94-2.06 2.06-.94-2.06-.94-.94-2.06-.94 2.06-2.06.94zm-11 1L8.5 8.5l.94-2.06 2.06-.94-2.06-.94L8.5 2.5l-.94 2.06-2.06.94zm10 10l.94 2.06.94-2.06 2.06-.94-2.06-.94-.94-2.06-.94 2.06-2.06.94z\"/><path d=\"M17.41 7.96l-1.37-1.37c-.4-.4-.92-.59-1.43-.59-.52 0-1.04.2-1.43.59L10.3 9.45l-7.72 7.72c-.78.78-.78 2.05 0 2.83L4 21.41c.39.39.9.59 1.41.59.51 0 1.02-.2 1.41-.59l7.78-7.78 2.81-2.81c.8-.78.8-2.07 0-2.86zM5.41 20L4 18.59l7.72-7.72 1.47 1.35L5.41 20z\"/>\n",
              "  </svg>\n",
              "      </button>\n",
              "      \n",
              "  <style>\n",
              "    .colab-df-container {\n",
              "      display:flex;\n",
              "      flex-wrap:wrap;\n",
              "      gap: 12px;\n",
              "    }\n",
              "\n",
              "    .colab-df-convert {\n",
              "      background-color: #E8F0FE;\n",
              "      border: none;\n",
              "      border-radius: 50%;\n",
              "      cursor: pointer;\n",
              "      display: none;\n",
              "      fill: #1967D2;\n",
              "      height: 32px;\n",
              "      padding: 0 0 0 0;\n",
              "      width: 32px;\n",
              "    }\n",
              "\n",
              "    .colab-df-convert:hover {\n",
              "      background-color: #E2EBFA;\n",
              "      box-shadow: 0px 1px 2px rgba(60, 64, 67, 0.3), 0px 1px 3px 1px rgba(60, 64, 67, 0.15);\n",
              "      fill: #174EA6;\n",
              "    }\n",
              "\n",
              "    [theme=dark] .colab-df-convert {\n",
              "      background-color: #3B4455;\n",
              "      fill: #D2E3FC;\n",
              "    }\n",
              "\n",
              "    [theme=dark] .colab-df-convert:hover {\n",
              "      background-color: #434B5C;\n",
              "      box-shadow: 0px 1px 3px 1px rgba(0, 0, 0, 0.15);\n",
              "      filter: drop-shadow(0px 1px 2px rgba(0, 0, 0, 0.3));\n",
              "      fill: #FFFFFF;\n",
              "    }\n",
              "  </style>\n",
              "\n",
              "      <script>\n",
              "        const buttonEl =\n",
              "          document.querySelector('#df-0b8afe5d-1c5b-4e4c-995b-892875fb874a button.colab-df-convert');\n",
              "        buttonEl.style.display =\n",
              "          google.colab.kernel.accessAllowed ? 'block' : 'none';\n",
              "\n",
              "        async function convertToInteractive(key) {\n",
              "          const element = document.querySelector('#df-0b8afe5d-1c5b-4e4c-995b-892875fb874a');\n",
              "          const dataTable =\n",
              "            await google.colab.kernel.invokeFunction('convertToInteractive',\n",
              "                                                     [key], {});\n",
              "          if (!dataTable) return;\n",
              "\n",
              "          const docLinkHtml = 'Like what you see? Visit the ' +\n",
              "            '<a target=\"_blank\" href=https://colab.research.google.com/notebooks/data_table.ipynb>data table notebook</a>'\n",
              "            + ' to learn more about interactive tables.';\n",
              "          element.innerHTML = '';\n",
              "          dataTable['output_type'] = 'display_data';\n",
              "          await google.colab.output.renderOutput(dataTable, element);\n",
              "          const docLink = document.createElement('div');\n",
              "          docLink.innerHTML = docLinkHtml;\n",
              "          element.appendChild(docLink);\n",
              "        }\n",
              "      </script>\n",
              "    </div>\n",
              "  </div>\n",
              "  "
            ]
          },
          "metadata": {},
          "execution_count": 101
        }
      ]
    },
    {
      "cell_type": "code",
      "source": [
        "print('\\n', classification_report(y_test, rfc.predict(X_test[select])))"
      ],
      "metadata": {
        "id": "s5bf4PTumdIV",
        "outputId": "6c7e1c0c-d77e-4946-cc3c-4b6a63862a2a",
        "colab": {
          "base_uri": "https://localhost:8080/"
        }
      },
      "execution_count": 88,
      "outputs": [
        {
          "output_type": "stream",
          "name": "stderr",
          "text": [
            "/usr/local/lib/python3.7/dist-packages/sklearn/base.py:444: UserWarning: X has feature names, but RandomForestClassifier was fitted without feature names\n",
            "  f\"X has feature names, but {self.__class__.__name__} was fitted without\"\n"
          ]
        },
        {
          "output_type": "stream",
          "name": "stdout",
          "text": [
            "\n",
            "               precision    recall  f1-score   support\n",
            "\n",
            "        high       0.30      0.21      0.25       750\n",
            "         low       0.61      0.17      0.27      1500\n",
            "         med       0.10      0.64      0.18       250\n",
            "\n",
            "    accuracy                           0.23      2500\n",
            "   macro avg       0.34      0.34      0.23      2500\n",
            "weighted avg       0.47      0.23      0.25      2500\n",
            "\n"
          ]
        }
      ]
    },
    {
      "cell_type": "code",
      "source": [
        "rc = remove_corr(corr_maxima=.9)\n",
        "rc.fit(pd.DataFrame(X_train_res), y_train_res)\n",
        "X_train_res_2 = rc.transform(pd.DataFrame(X_train_res))\n",
        "X_train_res_2.corr()"
      ],
      "metadata": {
        "id": "CqSlpDWYmdQV",
        "outputId": "4045322f-b904-487b-bcad-e25f7f2c1b91",
        "colab": {
          "base_uri": "https://localhost:8080/",
          "height": 292
        }
      },
      "execution_count": 102,
      "outputs": [
        {
          "output_type": "stream",
          "name": "stderr",
          "text": [
            "/usr/local/lib/python3.7/dist-packages/ipykernel_launcher.py:45: DeprecationWarning: `np.bool` is a deprecated alias for the builtin `bool`. To silence this warning, use `bool` by itself. Doing this will not modify any behavior and is safe. If you specifically wanted the numpy scalar type, use `np.bool_` here.\n",
            "Deprecated in NumPy 1.20; for more details and guidance: https://numpy.org/devdocs/release/1.20.0-notes.html#deprecations\n"
          ]
        },
        {
          "output_type": "execute_result",
          "data": {
            "text/plain": [
              "        0       1       2       3       4       5\n",
              "0  1.0000 -0.0055  0.0006 -0.0246 -0.0107  0.4420\n",
              "1 -0.0055  1.0000 -0.0217  0.0185  0.0285 -0.4331\n",
              "2  0.0006 -0.0217  1.0000 -0.0131  0.0112  0.0109\n",
              "3 -0.0246  0.0185 -0.0131  1.0000  0.7280 -0.0108\n",
              "4 -0.0107  0.0285  0.0112  0.7280  1.0000 -0.0075\n",
              "5  0.4420 -0.4331  0.0109 -0.0108 -0.0075  1.0000"
            ],
            "text/html": [
              "\n",
              "  <div id=\"df-554ea6bb-9b41-44db-bf87-c97ed4bdc4a4\">\n",
              "    <div class=\"colab-df-container\">\n",
              "      <div>\n",
              "<style scoped>\n",
              "    .dataframe tbody tr th:only-of-type {\n",
              "        vertical-align: middle;\n",
              "    }\n",
              "\n",
              "    .dataframe tbody tr th {\n",
              "        vertical-align: top;\n",
              "    }\n",
              "\n",
              "    .dataframe thead th {\n",
              "        text-align: right;\n",
              "    }\n",
              "</style>\n",
              "<table border=\"1\" class=\"dataframe\">\n",
              "  <thead>\n",
              "    <tr style=\"text-align: right;\">\n",
              "      <th></th>\n",
              "      <th>0</th>\n",
              "      <th>1</th>\n",
              "      <th>2</th>\n",
              "      <th>3</th>\n",
              "      <th>4</th>\n",
              "      <th>5</th>\n",
              "    </tr>\n",
              "  </thead>\n",
              "  <tbody>\n",
              "    <tr>\n",
              "      <th>0</th>\n",
              "      <td>1.0000</td>\n",
              "      <td>-0.0055</td>\n",
              "      <td>0.0006</td>\n",
              "      <td>-0.0246</td>\n",
              "      <td>-0.0107</td>\n",
              "      <td>0.4420</td>\n",
              "    </tr>\n",
              "    <tr>\n",
              "      <th>1</th>\n",
              "      <td>-0.0055</td>\n",
              "      <td>1.0000</td>\n",
              "      <td>-0.0217</td>\n",
              "      <td>0.0185</td>\n",
              "      <td>0.0285</td>\n",
              "      <td>-0.4331</td>\n",
              "    </tr>\n",
              "    <tr>\n",
              "      <th>2</th>\n",
              "      <td>0.0006</td>\n",
              "      <td>-0.0217</td>\n",
              "      <td>1.0000</td>\n",
              "      <td>-0.0131</td>\n",
              "      <td>0.0112</td>\n",
              "      <td>0.0109</td>\n",
              "    </tr>\n",
              "    <tr>\n",
              "      <th>3</th>\n",
              "      <td>-0.0246</td>\n",
              "      <td>0.0185</td>\n",
              "      <td>-0.0131</td>\n",
              "      <td>1.0000</td>\n",
              "      <td>0.7280</td>\n",
              "      <td>-0.0108</td>\n",
              "    </tr>\n",
              "    <tr>\n",
              "      <th>4</th>\n",
              "      <td>-0.0107</td>\n",
              "      <td>0.0285</td>\n",
              "      <td>0.0112</td>\n",
              "      <td>0.7280</td>\n",
              "      <td>1.0000</td>\n",
              "      <td>-0.0075</td>\n",
              "    </tr>\n",
              "    <tr>\n",
              "      <th>5</th>\n",
              "      <td>0.4420</td>\n",
              "      <td>-0.4331</td>\n",
              "      <td>0.0109</td>\n",
              "      <td>-0.0108</td>\n",
              "      <td>-0.0075</td>\n",
              "      <td>1.0000</td>\n",
              "    </tr>\n",
              "  </tbody>\n",
              "</table>\n",
              "</div>\n",
              "      <button class=\"colab-df-convert\" onclick=\"convertToInteractive('df-554ea6bb-9b41-44db-bf87-c97ed4bdc4a4')\"\n",
              "              title=\"Convert this dataframe to an interactive table.\"\n",
              "              style=\"display:none;\">\n",
              "        \n",
              "  <svg xmlns=\"http://www.w3.org/2000/svg\" height=\"24px\"viewBox=\"0 0 24 24\"\n",
              "       width=\"24px\">\n",
              "    <path d=\"M0 0h24v24H0V0z\" fill=\"none\"/>\n",
              "    <path d=\"M18.56 5.44l.94 2.06.94-2.06 2.06-.94-2.06-.94-.94-2.06-.94 2.06-2.06.94zm-11 1L8.5 8.5l.94-2.06 2.06-.94-2.06-.94L8.5 2.5l-.94 2.06-2.06.94zm10 10l.94 2.06.94-2.06 2.06-.94-2.06-.94-.94-2.06-.94 2.06-2.06.94z\"/><path d=\"M17.41 7.96l-1.37-1.37c-.4-.4-.92-.59-1.43-.59-.52 0-1.04.2-1.43.59L10.3 9.45l-7.72 7.72c-.78.78-.78 2.05 0 2.83L4 21.41c.39.39.9.59 1.41.59.51 0 1.02-.2 1.41-.59l7.78-7.78 2.81-2.81c.8-.78.8-2.07 0-2.86zM5.41 20L4 18.59l7.72-7.72 1.47 1.35L5.41 20z\"/>\n",
              "  </svg>\n",
              "      </button>\n",
              "      \n",
              "  <style>\n",
              "    .colab-df-container {\n",
              "      display:flex;\n",
              "      flex-wrap:wrap;\n",
              "      gap: 12px;\n",
              "    }\n",
              "\n",
              "    .colab-df-convert {\n",
              "      background-color: #E8F0FE;\n",
              "      border: none;\n",
              "      border-radius: 50%;\n",
              "      cursor: pointer;\n",
              "      display: none;\n",
              "      fill: #1967D2;\n",
              "      height: 32px;\n",
              "      padding: 0 0 0 0;\n",
              "      width: 32px;\n",
              "    }\n",
              "\n",
              "    .colab-df-convert:hover {\n",
              "      background-color: #E2EBFA;\n",
              "      box-shadow: 0px 1px 2px rgba(60, 64, 67, 0.3), 0px 1px 3px 1px rgba(60, 64, 67, 0.15);\n",
              "      fill: #174EA6;\n",
              "    }\n",
              "\n",
              "    [theme=dark] .colab-df-convert {\n",
              "      background-color: #3B4455;\n",
              "      fill: #D2E3FC;\n",
              "    }\n",
              "\n",
              "    [theme=dark] .colab-df-convert:hover {\n",
              "      background-color: #434B5C;\n",
              "      box-shadow: 0px 1px 3px 1px rgba(0, 0, 0, 0.15);\n",
              "      filter: drop-shadow(0px 1px 2px rgba(0, 0, 0, 0.3));\n",
              "      fill: #FFFFFF;\n",
              "    }\n",
              "  </style>\n",
              "\n",
              "      <script>\n",
              "        const buttonEl =\n",
              "          document.querySelector('#df-554ea6bb-9b41-44db-bf87-c97ed4bdc4a4 button.colab-df-convert');\n",
              "        buttonEl.style.display =\n",
              "          google.colab.kernel.accessAllowed ? 'block' : 'none';\n",
              "\n",
              "        async function convertToInteractive(key) {\n",
              "          const element = document.querySelector('#df-554ea6bb-9b41-44db-bf87-c97ed4bdc4a4');\n",
              "          const dataTable =\n",
              "            await google.colab.kernel.invokeFunction('convertToInteractive',\n",
              "                                                     [key], {});\n",
              "          if (!dataTable) return;\n",
              "\n",
              "          const docLinkHtml = 'Like what you see? Visit the ' +\n",
              "            '<a target=\"_blank\" href=https://colab.research.google.com/notebooks/data_table.ipynb>data table notebook</a>'\n",
              "            + ' to learn more about interactive tables.';\n",
              "          element.innerHTML = '';\n",
              "          dataTable['output_type'] = 'display_data';\n",
              "          await google.colab.output.renderOutput(dataTable, element);\n",
              "          const docLink = document.createElement('div');\n",
              "          docLink.innerHTML = docLinkHtml;\n",
              "          element.appendChild(docLink);\n",
              "        }\n",
              "      </script>\n",
              "    </div>\n",
              "  </div>\n",
              "  "
            ]
          },
          "metadata": {},
          "execution_count": 102
        }
      ]
    },
    {
      "cell_type": "code",
      "source": [
        "select = []\n",
        "for item in list(X_train_res_2.columns.values):\n",
        "  select.append(features[item])\n",
        "rfc = RandomForestClassifier(n_estimators = 1000)\n",
        "rfc.fit(X_train_res_2, y_train_res)\n",
        "pd.concat([pd.Series(select),pd.Series(rfc.feature_importances_)], axis=1).set_index(0).sort_values(by=1, ascending=False).T"
      ],
      "metadata": {
        "id": "jeWqoD5bmdW9",
        "outputId": "3337da59-faea-485f-cff1-273fb089972b",
        "colab": {
          "base_uri": "https://localhost:8080/",
          "height": 81
        }
      },
      "execution_count": 106,
      "outputs": [
        {
          "output_type": "execute_result",
          "data": {
            "text/plain": [
              "0     x1     x3     x2    x12    x13    x23\n",
              "1 0.1739 0.1736 0.1701 0.1647 0.1589 0.1589"
            ],
            "text/html": [
              "\n",
              "  <div id=\"df-b0c766fa-fc18-4419-8afa-b4b5cfaa9e8d\">\n",
              "    <div class=\"colab-df-container\">\n",
              "      <div>\n",
              "<style scoped>\n",
              "    .dataframe tbody tr th:only-of-type {\n",
              "        vertical-align: middle;\n",
              "    }\n",
              "\n",
              "    .dataframe tbody tr th {\n",
              "        vertical-align: top;\n",
              "    }\n",
              "\n",
              "    .dataframe thead th {\n",
              "        text-align: right;\n",
              "    }\n",
              "</style>\n",
              "<table border=\"1\" class=\"dataframe\">\n",
              "  <thead>\n",
              "    <tr style=\"text-align: right;\">\n",
              "      <th></th>\n",
              "      <th>x1</th>\n",
              "      <th>x3</th>\n",
              "      <th>x2</th>\n",
              "      <th>x12</th>\n",
              "      <th>x13</th>\n",
              "      <th>x23</th>\n",
              "    </tr>\n",
              "  </thead>\n",
              "  <tbody>\n",
              "    <tr>\n",
              "      <th>1</th>\n",
              "      <td>0.1739</td>\n",
              "      <td>0.1736</td>\n",
              "      <td>0.1701</td>\n",
              "      <td>0.1647</td>\n",
              "      <td>0.1589</td>\n",
              "      <td>0.1589</td>\n",
              "    </tr>\n",
              "  </tbody>\n",
              "</table>\n",
              "</div>\n",
              "      <button class=\"colab-df-convert\" onclick=\"convertToInteractive('df-b0c766fa-fc18-4419-8afa-b4b5cfaa9e8d')\"\n",
              "              title=\"Convert this dataframe to an interactive table.\"\n",
              "              style=\"display:none;\">\n",
              "        \n",
              "  <svg xmlns=\"http://www.w3.org/2000/svg\" height=\"24px\"viewBox=\"0 0 24 24\"\n",
              "       width=\"24px\">\n",
              "    <path d=\"M0 0h24v24H0V0z\" fill=\"none\"/>\n",
              "    <path d=\"M18.56 5.44l.94 2.06.94-2.06 2.06-.94-2.06-.94-.94-2.06-.94 2.06-2.06.94zm-11 1L8.5 8.5l.94-2.06 2.06-.94-2.06-.94L8.5 2.5l-.94 2.06-2.06.94zm10 10l.94 2.06.94-2.06 2.06-.94-2.06-.94-.94-2.06-.94 2.06-2.06.94z\"/><path d=\"M17.41 7.96l-1.37-1.37c-.4-.4-.92-.59-1.43-.59-.52 0-1.04.2-1.43.59L10.3 9.45l-7.72 7.72c-.78.78-.78 2.05 0 2.83L4 21.41c.39.39.9.59 1.41.59.51 0 1.02-.2 1.41-.59l7.78-7.78 2.81-2.81c.8-.78.8-2.07 0-2.86zM5.41 20L4 18.59l7.72-7.72 1.47 1.35L5.41 20z\"/>\n",
              "  </svg>\n",
              "      </button>\n",
              "      \n",
              "  <style>\n",
              "    .colab-df-container {\n",
              "      display:flex;\n",
              "      flex-wrap:wrap;\n",
              "      gap: 12px;\n",
              "    }\n",
              "\n",
              "    .colab-df-convert {\n",
              "      background-color: #E8F0FE;\n",
              "      border: none;\n",
              "      border-radius: 50%;\n",
              "      cursor: pointer;\n",
              "      display: none;\n",
              "      fill: #1967D2;\n",
              "      height: 32px;\n",
              "      padding: 0 0 0 0;\n",
              "      width: 32px;\n",
              "    }\n",
              "\n",
              "    .colab-df-convert:hover {\n",
              "      background-color: #E2EBFA;\n",
              "      box-shadow: 0px 1px 2px rgba(60, 64, 67, 0.3), 0px 1px 3px 1px rgba(60, 64, 67, 0.15);\n",
              "      fill: #174EA6;\n",
              "    }\n",
              "\n",
              "    [theme=dark] .colab-df-convert {\n",
              "      background-color: #3B4455;\n",
              "      fill: #D2E3FC;\n",
              "    }\n",
              "\n",
              "    [theme=dark] .colab-df-convert:hover {\n",
              "      background-color: #434B5C;\n",
              "      box-shadow: 0px 1px 3px 1px rgba(0, 0, 0, 0.15);\n",
              "      filter: drop-shadow(0px 1px 2px rgba(0, 0, 0, 0.3));\n",
              "      fill: #FFFFFF;\n",
              "    }\n",
              "  </style>\n",
              "\n",
              "      <script>\n",
              "        const buttonEl =\n",
              "          document.querySelector('#df-b0c766fa-fc18-4419-8afa-b4b5cfaa9e8d button.colab-df-convert');\n",
              "        buttonEl.style.display =\n",
              "          google.colab.kernel.accessAllowed ? 'block' : 'none';\n",
              "\n",
              "        async function convertToInteractive(key) {\n",
              "          const element = document.querySelector('#df-b0c766fa-fc18-4419-8afa-b4b5cfaa9e8d');\n",
              "          const dataTable =\n",
              "            await google.colab.kernel.invokeFunction('convertToInteractive',\n",
              "                                                     [key], {});\n",
              "          if (!dataTable) return;\n",
              "\n",
              "          const docLinkHtml = 'Like what you see? Visit the ' +\n",
              "            '<a target=\"_blank\" href=https://colab.research.google.com/notebooks/data_table.ipynb>data table notebook</a>'\n",
              "            + ' to learn more about interactive tables.';\n",
              "          element.innerHTML = '';\n",
              "          dataTable['output_type'] = 'display_data';\n",
              "          await google.colab.output.renderOutput(dataTable, element);\n",
              "          const docLink = document.createElement('div');\n",
              "          docLink.innerHTML = docLinkHtml;\n",
              "          element.appendChild(docLink);\n",
              "        }\n",
              "      </script>\n",
              "    </div>\n",
              "  </div>\n",
              "  "
            ]
          },
          "metadata": {},
          "execution_count": 106
        }
      ]
    },
    {
      "cell_type": "code",
      "source": [
        "print('\\n', classification_report(y_test, rfc.predict(X_test[select])))"
      ],
      "metadata": {
        "id": "O8MprjAstihz",
        "outputId": "a77a17bd-5912-49cf-c936-0680bbd03d19",
        "colab": {
          "base_uri": "https://localhost:8080/"
        }
      },
      "execution_count": 107,
      "outputs": [
        {
          "output_type": "stream",
          "name": "stderr",
          "text": [
            "/usr/local/lib/python3.7/dist-packages/sklearn/base.py:444: UserWarning: X has feature names, but RandomForestClassifier was fitted without feature names\n",
            "  f\"X has feature names, but {self.__class__.__name__} was fitted without\"\n"
          ]
        },
        {
          "output_type": "stream",
          "name": "stdout",
          "text": [
            "\n",
            "               precision    recall  f1-score   support\n",
            "\n",
            "        high       0.36      0.07      0.11       750\n",
            "         low       0.60      0.88      0.72      1500\n",
            "         med       0.07      0.05      0.06       250\n",
            "\n",
            "    accuracy                           0.55      2500\n",
            "   macro avg       0.34      0.33      0.30      2500\n",
            "weighted avg       0.48      0.55      0.47      2500\n",
            "\n"
          ]
        }
      ]
    },
    {
      "cell_type": "code",
      "source": [
        "rc = remove_corr(corr_maxima=.024)\n",
        "rc.fit(pd.DataFrame(X_train_res), y_train_res)\n",
        "X_train_res_3 = rc.transform(pd.DataFrame(X_train_res))\n",
        "X_train_res_3.corr()"
      ],
      "metadata": {
        "id": "VK3dCWeIvNtl",
        "outputId": "b1fbf454-dd44-4bc3-801f-ac49c61419d8",
        "colab": {
          "base_uri": "https://localhost:8080/",
          "height": 198
        }
      },
      "execution_count": 116,
      "outputs": [
        {
          "output_type": "stream",
          "name": "stderr",
          "text": [
            "/usr/local/lib/python3.7/dist-packages/ipykernel_launcher.py:45: DeprecationWarning: `np.bool` is a deprecated alias for the builtin `bool`. To silence this warning, use `bool` by itself. Doing this will not modify any behavior and is safe. If you specifically wanted the numpy scalar type, use `np.bool_` here.\n",
            "Deprecated in NumPy 1.20; for more details and guidance: https://numpy.org/devdocs/release/1.20.0-notes.html#deprecations\n"
          ]
        },
        {
          "output_type": "execute_result",
          "data": {
            "text/plain": [
              "        0       1       2\n",
              "0  1.0000 -0.0055  0.0006\n",
              "1 -0.0055  1.0000 -0.0217\n",
              "2  0.0006 -0.0217  1.0000"
            ],
            "text/html": [
              "\n",
              "  <div id=\"df-9c73bfc2-46aa-4835-807f-1f3dad24ff17\">\n",
              "    <div class=\"colab-df-container\">\n",
              "      <div>\n",
              "<style scoped>\n",
              "    .dataframe tbody tr th:only-of-type {\n",
              "        vertical-align: middle;\n",
              "    }\n",
              "\n",
              "    .dataframe tbody tr th {\n",
              "        vertical-align: top;\n",
              "    }\n",
              "\n",
              "    .dataframe thead th {\n",
              "        text-align: right;\n",
              "    }\n",
              "</style>\n",
              "<table border=\"1\" class=\"dataframe\">\n",
              "  <thead>\n",
              "    <tr style=\"text-align: right;\">\n",
              "      <th></th>\n",
              "      <th>0</th>\n",
              "      <th>1</th>\n",
              "      <th>2</th>\n",
              "    </tr>\n",
              "  </thead>\n",
              "  <tbody>\n",
              "    <tr>\n",
              "      <th>0</th>\n",
              "      <td>1.0000</td>\n",
              "      <td>-0.0055</td>\n",
              "      <td>0.0006</td>\n",
              "    </tr>\n",
              "    <tr>\n",
              "      <th>1</th>\n",
              "      <td>-0.0055</td>\n",
              "      <td>1.0000</td>\n",
              "      <td>-0.0217</td>\n",
              "    </tr>\n",
              "    <tr>\n",
              "      <th>2</th>\n",
              "      <td>0.0006</td>\n",
              "      <td>-0.0217</td>\n",
              "      <td>1.0000</td>\n",
              "    </tr>\n",
              "  </tbody>\n",
              "</table>\n",
              "</div>\n",
              "      <button class=\"colab-df-convert\" onclick=\"convertToInteractive('df-9c73bfc2-46aa-4835-807f-1f3dad24ff17')\"\n",
              "              title=\"Convert this dataframe to an interactive table.\"\n",
              "              style=\"display:none;\">\n",
              "        \n",
              "  <svg xmlns=\"http://www.w3.org/2000/svg\" height=\"24px\"viewBox=\"0 0 24 24\"\n",
              "       width=\"24px\">\n",
              "    <path d=\"M0 0h24v24H0V0z\" fill=\"none\"/>\n",
              "    <path d=\"M18.56 5.44l.94 2.06.94-2.06 2.06-.94-2.06-.94-.94-2.06-.94 2.06-2.06.94zm-11 1L8.5 8.5l.94-2.06 2.06-.94-2.06-.94L8.5 2.5l-.94 2.06-2.06.94zm10 10l.94 2.06.94-2.06 2.06-.94-2.06-.94-.94-2.06-.94 2.06-2.06.94z\"/><path d=\"M17.41 7.96l-1.37-1.37c-.4-.4-.92-.59-1.43-.59-.52 0-1.04.2-1.43.59L10.3 9.45l-7.72 7.72c-.78.78-.78 2.05 0 2.83L4 21.41c.39.39.9.59 1.41.59.51 0 1.02-.2 1.41-.59l7.78-7.78 2.81-2.81c.8-.78.8-2.07 0-2.86zM5.41 20L4 18.59l7.72-7.72 1.47 1.35L5.41 20z\"/>\n",
              "  </svg>\n",
              "      </button>\n",
              "      \n",
              "  <style>\n",
              "    .colab-df-container {\n",
              "      display:flex;\n",
              "      flex-wrap:wrap;\n",
              "      gap: 12px;\n",
              "    }\n",
              "\n",
              "    .colab-df-convert {\n",
              "      background-color: #E8F0FE;\n",
              "      border: none;\n",
              "      border-radius: 50%;\n",
              "      cursor: pointer;\n",
              "      display: none;\n",
              "      fill: #1967D2;\n",
              "      height: 32px;\n",
              "      padding: 0 0 0 0;\n",
              "      width: 32px;\n",
              "    }\n",
              "\n",
              "    .colab-df-convert:hover {\n",
              "      background-color: #E2EBFA;\n",
              "      box-shadow: 0px 1px 2px rgba(60, 64, 67, 0.3), 0px 1px 3px 1px rgba(60, 64, 67, 0.15);\n",
              "      fill: #174EA6;\n",
              "    }\n",
              "\n",
              "    [theme=dark] .colab-df-convert {\n",
              "      background-color: #3B4455;\n",
              "      fill: #D2E3FC;\n",
              "    }\n",
              "\n",
              "    [theme=dark] .colab-df-convert:hover {\n",
              "      background-color: #434B5C;\n",
              "      box-shadow: 0px 1px 3px 1px rgba(0, 0, 0, 0.15);\n",
              "      filter: drop-shadow(0px 1px 2px rgba(0, 0, 0, 0.3));\n",
              "      fill: #FFFFFF;\n",
              "    }\n",
              "  </style>\n",
              "\n",
              "      <script>\n",
              "        const buttonEl =\n",
              "          document.querySelector('#df-9c73bfc2-46aa-4835-807f-1f3dad24ff17 button.colab-df-convert');\n",
              "        buttonEl.style.display =\n",
              "          google.colab.kernel.accessAllowed ? 'block' : 'none';\n",
              "\n",
              "        async function convertToInteractive(key) {\n",
              "          const element = document.querySelector('#df-9c73bfc2-46aa-4835-807f-1f3dad24ff17');\n",
              "          const dataTable =\n",
              "            await google.colab.kernel.invokeFunction('convertToInteractive',\n",
              "                                                     [key], {});\n",
              "          if (!dataTable) return;\n",
              "\n",
              "          const docLinkHtml = 'Like what you see? Visit the ' +\n",
              "            '<a target=\"_blank\" href=https://colab.research.google.com/notebooks/data_table.ipynb>data table notebook</a>'\n",
              "            + ' to learn more about interactive tables.';\n",
              "          element.innerHTML = '';\n",
              "          dataTable['output_type'] = 'display_data';\n",
              "          await google.colab.output.renderOutput(dataTable, element);\n",
              "          const docLink = document.createElement('div');\n",
              "          docLink.innerHTML = docLinkHtml;\n",
              "          element.appendChild(docLink);\n",
              "        }\n",
              "      </script>\n",
              "    </div>\n",
              "  </div>\n",
              "  "
            ]
          },
          "metadata": {},
          "execution_count": 116
        }
      ]
    },
    {
      "cell_type": "code",
      "source": [
        "select = []\n",
        "for item in list(X_train_res_3.columns.values):\n",
        "  select.append(features[item])\n",
        "rfc = RandomForestClassifier(n_estimators = 1000)\n",
        "rfc.fit(X_train_res_3, y_train_res)\n",
        "pd.concat([pd.Series(select),pd.Series(rfc.feature_importances_)], axis=1).set_index(0).sort_values(by=1, ascending=False).T"
      ],
      "metadata": {
        "id": "RXc1OrLmtsLZ",
        "outputId": "f116276d-e3ee-4643-884b-d58e5953cc91",
        "colab": {
          "base_uri": "https://localhost:8080/",
          "height": 81
        }
      },
      "execution_count": 119,
      "outputs": [
        {
          "output_type": "execute_result",
          "data": {
            "text/plain": [
              "0     x3     x1     x2\n",
              "1 0.3373 0.3365 0.3262"
            ],
            "text/html": [
              "\n",
              "  <div id=\"df-48a27512-ee90-40cf-b79f-a3861be4e4fa\">\n",
              "    <div class=\"colab-df-container\">\n",
              "      <div>\n",
              "<style scoped>\n",
              "    .dataframe tbody tr th:only-of-type {\n",
              "        vertical-align: middle;\n",
              "    }\n",
              "\n",
              "    .dataframe tbody tr th {\n",
              "        vertical-align: top;\n",
              "    }\n",
              "\n",
              "    .dataframe thead th {\n",
              "        text-align: right;\n",
              "    }\n",
              "</style>\n",
              "<table border=\"1\" class=\"dataframe\">\n",
              "  <thead>\n",
              "    <tr style=\"text-align: right;\">\n",
              "      <th></th>\n",
              "      <th>x3</th>\n",
              "      <th>x1</th>\n",
              "      <th>x2</th>\n",
              "    </tr>\n",
              "  </thead>\n",
              "  <tbody>\n",
              "    <tr>\n",
              "      <th>1</th>\n",
              "      <td>0.3373</td>\n",
              "      <td>0.3365</td>\n",
              "      <td>0.3262</td>\n",
              "    </tr>\n",
              "  </tbody>\n",
              "</table>\n",
              "</div>\n",
              "      <button class=\"colab-df-convert\" onclick=\"convertToInteractive('df-48a27512-ee90-40cf-b79f-a3861be4e4fa')\"\n",
              "              title=\"Convert this dataframe to an interactive table.\"\n",
              "              style=\"display:none;\">\n",
              "        \n",
              "  <svg xmlns=\"http://www.w3.org/2000/svg\" height=\"24px\"viewBox=\"0 0 24 24\"\n",
              "       width=\"24px\">\n",
              "    <path d=\"M0 0h24v24H0V0z\" fill=\"none\"/>\n",
              "    <path d=\"M18.56 5.44l.94 2.06.94-2.06 2.06-.94-2.06-.94-.94-2.06-.94 2.06-2.06.94zm-11 1L8.5 8.5l.94-2.06 2.06-.94-2.06-.94L8.5 2.5l-.94 2.06-2.06.94zm10 10l.94 2.06.94-2.06 2.06-.94-2.06-.94-.94-2.06-.94 2.06-2.06.94z\"/><path d=\"M17.41 7.96l-1.37-1.37c-.4-.4-.92-.59-1.43-.59-.52 0-1.04.2-1.43.59L10.3 9.45l-7.72 7.72c-.78.78-.78 2.05 0 2.83L4 21.41c.39.39.9.59 1.41.59.51 0 1.02-.2 1.41-.59l7.78-7.78 2.81-2.81c.8-.78.8-2.07 0-2.86zM5.41 20L4 18.59l7.72-7.72 1.47 1.35L5.41 20z\"/>\n",
              "  </svg>\n",
              "      </button>\n",
              "      \n",
              "  <style>\n",
              "    .colab-df-container {\n",
              "      display:flex;\n",
              "      flex-wrap:wrap;\n",
              "      gap: 12px;\n",
              "    }\n",
              "\n",
              "    .colab-df-convert {\n",
              "      background-color: #E8F0FE;\n",
              "      border: none;\n",
              "      border-radius: 50%;\n",
              "      cursor: pointer;\n",
              "      display: none;\n",
              "      fill: #1967D2;\n",
              "      height: 32px;\n",
              "      padding: 0 0 0 0;\n",
              "      width: 32px;\n",
              "    }\n",
              "\n",
              "    .colab-df-convert:hover {\n",
              "      background-color: #E2EBFA;\n",
              "      box-shadow: 0px 1px 2px rgba(60, 64, 67, 0.3), 0px 1px 3px 1px rgba(60, 64, 67, 0.15);\n",
              "      fill: #174EA6;\n",
              "    }\n",
              "\n",
              "    [theme=dark] .colab-df-convert {\n",
              "      background-color: #3B4455;\n",
              "      fill: #D2E3FC;\n",
              "    }\n",
              "\n",
              "    [theme=dark] .colab-df-convert:hover {\n",
              "      background-color: #434B5C;\n",
              "      box-shadow: 0px 1px 3px 1px rgba(0, 0, 0, 0.15);\n",
              "      filter: drop-shadow(0px 1px 2px rgba(0, 0, 0, 0.3));\n",
              "      fill: #FFFFFF;\n",
              "    }\n",
              "  </style>\n",
              "\n",
              "      <script>\n",
              "        const buttonEl =\n",
              "          document.querySelector('#df-48a27512-ee90-40cf-b79f-a3861be4e4fa button.colab-df-convert');\n",
              "        buttonEl.style.display =\n",
              "          google.colab.kernel.accessAllowed ? 'block' : 'none';\n",
              "\n",
              "        async function convertToInteractive(key) {\n",
              "          const element = document.querySelector('#df-48a27512-ee90-40cf-b79f-a3861be4e4fa');\n",
              "          const dataTable =\n",
              "            await google.colab.kernel.invokeFunction('convertToInteractive',\n",
              "                                                     [key], {});\n",
              "          if (!dataTable) return;\n",
              "\n",
              "          const docLinkHtml = 'Like what you see? Visit the ' +\n",
              "            '<a target=\"_blank\" href=https://colab.research.google.com/notebooks/data_table.ipynb>data table notebook</a>'\n",
              "            + ' to learn more about interactive tables.';\n",
              "          element.innerHTML = '';\n",
              "          dataTable['output_type'] = 'display_data';\n",
              "          await google.colab.output.renderOutput(dataTable, element);\n",
              "          const docLink = document.createElement('div');\n",
              "          docLink.innerHTML = docLinkHtml;\n",
              "          element.appendChild(docLink);\n",
              "        }\n",
              "      </script>\n",
              "    </div>\n",
              "  </div>\n",
              "  "
            ]
          },
          "metadata": {},
          "execution_count": 119
        }
      ]
    },
    {
      "cell_type": "code",
      "source": [
        "print('\\n', classification_report(y_test, rfc.predict(X_test[select])))"
      ],
      "metadata": {
        "id": "rivl_gMCtsve",
        "outputId": "42cc6cf4-b36a-4483-9ac5-71e61bc1160e",
        "colab": {
          "base_uri": "https://localhost:8080/"
        }
      },
      "execution_count": 123,
      "outputs": [
        {
          "output_type": "stream",
          "name": "stderr",
          "text": [
            "/usr/local/lib/python3.7/dist-packages/sklearn/base.py:444: UserWarning: X has feature names, but RandomForestClassifier was fitted without feature names\n",
            "  f\"X has feature names, but {self.__class__.__name__} was fitted without\"\n"
          ]
        },
        {
          "output_type": "stream",
          "name": "stdout",
          "text": [
            "\n",
            "               precision    recall  f1-score   support\n",
            "\n",
            "        high       0.31      0.03      0.06       750\n",
            "         low       0.60      0.96      0.74      1500\n",
            "         med       0.00      0.00      0.00       250\n",
            "\n",
            "    accuracy                           0.59      2500\n",
            "   macro avg       0.30      0.33      0.27      2500\n",
            "weighted avg       0.45      0.59      0.46      2500\n",
            "\n"
          ]
        }
      ]
    },
    {
      "cell_type": "code",
      "source": [
        "dc = DummyClassifier().fit(pd.DataFrame(X_train)[[0,1,2]], y_train)\n",
        "print('\\n', classification_report(y_test, dc.predict(X_test[select])))"
      ],
      "metadata": {
        "id": "qz-HEmHvvhzL",
        "outputId": "8c0c7014-9ef3-40df-d5d4-78be56c6a518",
        "colab": {
          "base_uri": "https://localhost:8080/"
        }
      },
      "execution_count": 134,
      "outputs": [
        {
          "output_type": "stream",
          "name": "stdout",
          "text": [
            "\n",
            "               precision    recall  f1-score   support\n",
            "\n",
            "        high       0.00      0.00      0.00       750\n",
            "         low       0.60      1.00      0.75      1500\n",
            "         med       0.00      0.00      0.00       250\n",
            "\n",
            "    accuracy                           0.60      2500\n",
            "   macro avg       0.20      0.33      0.25      2500\n",
            "weighted avg       0.36      0.60      0.45      2500\n",
            "\n"
          ]
        },
        {
          "output_type": "stream",
          "name": "stderr",
          "text": [
            "/usr/local/lib/python3.7/dist-packages/sklearn/metrics/_classification.py:1318: UndefinedMetricWarning: Precision and F-score are ill-defined and being set to 0.0 in labels with no predicted samples. Use `zero_division` parameter to control this behavior.\n",
            "  _warn_prf(average, modifier, msg_start, len(result))\n",
            "/usr/local/lib/python3.7/dist-packages/sklearn/metrics/_classification.py:1318: UndefinedMetricWarning: Precision and F-score are ill-defined and being set to 0.0 in labels with no predicted samples. Use `zero_division` parameter to control this behavior.\n",
            "  _warn_prf(average, modifier, msg_start, len(result))\n",
            "/usr/local/lib/python3.7/dist-packages/sklearn/metrics/_classification.py:1318: UndefinedMetricWarning: Precision and F-score are ill-defined and being set to 0.0 in labels with no predicted samples. Use `zero_division` parameter to control this behavior.\n",
            "  _warn_prf(average, modifier, msg_start, len(result))\n"
          ]
        }
      ]
    },
    {
      "cell_type": "code",
      "source": [
        "features_train = features\n",
        "features_train.extend(df_train.columns[-1:])\n",
        "features_train"
      ],
      "metadata": {
        "id": "ruqW231DyrB0",
        "outputId": "87775d4b-bcab-4350-be02-962733b9b889",
        "colab": {
          "base_uri": "https://localhost:8080/"
        }
      },
      "execution_count": 149,
      "outputs": [
        {
          "output_type": "execute_result",
          "data": {
            "text/plain": [
              "['x1',\n",
              " 'x2',\n",
              " 'x3',\n",
              " 'x13',\n",
              " 'x23',\n",
              " 'x12',\n",
              " 'x1^2',\n",
              " 'x2^2',\n",
              " 'x3^2',\n",
              " 'x1^3',\n",
              " 'x2^3',\n",
              " 'x3^3',\n",
              " 'log(x1-min(x1)+1)',\n",
              " 'log(x2-min(x2)+1)',\n",
              " 'log(x3-min(x3)+1)',\n",
              " 'target']"
            ]
          },
          "metadata": {},
          "execution_count": 149
        }
      ]
    },
    {
      "cell_type": "code",
      "source": [
        "df_train.columns = features_train\n",
        "df_train.head()"
      ],
      "metadata": {
        "id": "x_YTPR65viTD",
        "outputId": "ae3ba1bd-6716-464c-b9db-4ae5f84ce09e",
        "colab": {
          "base_uri": "https://localhost:8080/",
          "height": 267
        }
      },
      "execution_count": 150,
      "outputs": [
        {
          "output_type": "execute_result",
          "data": {
            "text/plain": [
              "       x1      x2      x3     x13     x23     x12    x1^2    x2^2    x3^2  \\\n",
              "0 -1.6635  0.2423 -0.4765  0.0149 -0.0112 -0.6827 -1.0887 -0.0194  0.1483   \n",
              "1 -0.3322  4.1626 -0.1999  0.0075 -0.0277 -0.5765 -0.5777  6.3670 -0.1805   \n",
              "2  1.7304 -0.6832 -0.8517  0.0020 -0.0075  0.8106  2.2440 -0.6024  0.6878   \n",
              "3 -1.5569 -1.3517  1.4696  0.0181  0.0041 -0.5602 -1.0857 -0.8037 -0.9249   \n",
              "4  0.6038 -1.2203  0.7712 -0.0248 -0.0112  1.3293  0.3969 -0.7787 -0.8725   \n",
              "\n",
              "     x1^3    x2^3    x3^3  log(x1-min(x1)+1)  log(x2-min(x2)+1)  \\\n",
              "0 -0.8426 -0.1595  0.0856            -2.0784             0.4740   \n",
              "1 -0.6359  8.1916  0.3652            -0.0838             2.3769   \n",
              "2  2.6002 -0.4403 -0.4695             1.2921            -0.5578   \n",
              "3 -0.8425 -0.4884  0.7632            -1.8234            -2.0046   \n",
              "4  0.1821 -0.4848  0.7486             0.6563            -1.6159   \n",
              "\n",
              "   log(x3-min(x3)+1) target  \n",
              "0            -0.0591    low  \n",
              "1             0.1621    med  \n",
              "2            -0.4473    low  \n",
              "3             0.9957   high  \n",
              "4             0.7152   high  "
            ],
            "text/html": [
              "\n",
              "  <div id=\"df-233a5843-7738-4c27-8bf4-1bab5dec58c9\">\n",
              "    <div class=\"colab-df-container\">\n",
              "      <div>\n",
              "<style scoped>\n",
              "    .dataframe tbody tr th:only-of-type {\n",
              "        vertical-align: middle;\n",
              "    }\n",
              "\n",
              "    .dataframe tbody tr th {\n",
              "        vertical-align: top;\n",
              "    }\n",
              "\n",
              "    .dataframe thead th {\n",
              "        text-align: right;\n",
              "    }\n",
              "</style>\n",
              "<table border=\"1\" class=\"dataframe\">\n",
              "  <thead>\n",
              "    <tr style=\"text-align: right;\">\n",
              "      <th></th>\n",
              "      <th>x1</th>\n",
              "      <th>x2</th>\n",
              "      <th>x3</th>\n",
              "      <th>x13</th>\n",
              "      <th>x23</th>\n",
              "      <th>x12</th>\n",
              "      <th>x1^2</th>\n",
              "      <th>x2^2</th>\n",
              "      <th>x3^2</th>\n",
              "      <th>x1^3</th>\n",
              "      <th>x2^3</th>\n",
              "      <th>x3^3</th>\n",
              "      <th>log(x1-min(x1)+1)</th>\n",
              "      <th>log(x2-min(x2)+1)</th>\n",
              "      <th>log(x3-min(x3)+1)</th>\n",
              "      <th>target</th>\n",
              "    </tr>\n",
              "  </thead>\n",
              "  <tbody>\n",
              "    <tr>\n",
              "      <th>0</th>\n",
              "      <td>-1.6635</td>\n",
              "      <td>0.2423</td>\n",
              "      <td>-0.4765</td>\n",
              "      <td>0.0149</td>\n",
              "      <td>-0.0112</td>\n",
              "      <td>-0.6827</td>\n",
              "      <td>-1.0887</td>\n",
              "      <td>-0.0194</td>\n",
              "      <td>0.1483</td>\n",
              "      <td>-0.8426</td>\n",
              "      <td>-0.1595</td>\n",
              "      <td>0.0856</td>\n",
              "      <td>-2.0784</td>\n",
              "      <td>0.4740</td>\n",
              "      <td>-0.0591</td>\n",
              "      <td>low</td>\n",
              "    </tr>\n",
              "    <tr>\n",
              "      <th>1</th>\n",
              "      <td>-0.3322</td>\n",
              "      <td>4.1626</td>\n",
              "      <td>-0.1999</td>\n",
              "      <td>0.0075</td>\n",
              "      <td>-0.0277</td>\n",
              "      <td>-0.5765</td>\n",
              "      <td>-0.5777</td>\n",
              "      <td>6.3670</td>\n",
              "      <td>-0.1805</td>\n",
              "      <td>-0.6359</td>\n",
              "      <td>8.1916</td>\n",
              "      <td>0.3652</td>\n",
              "      <td>-0.0838</td>\n",
              "      <td>2.3769</td>\n",
              "      <td>0.1621</td>\n",
              "      <td>med</td>\n",
              "    </tr>\n",
              "    <tr>\n",
              "      <th>2</th>\n",
              "      <td>1.7304</td>\n",
              "      <td>-0.6832</td>\n",
              "      <td>-0.8517</td>\n",
              "      <td>0.0020</td>\n",
              "      <td>-0.0075</td>\n",
              "      <td>0.8106</td>\n",
              "      <td>2.2440</td>\n",
              "      <td>-0.6024</td>\n",
              "      <td>0.6878</td>\n",
              "      <td>2.6002</td>\n",
              "      <td>-0.4403</td>\n",
              "      <td>-0.4695</td>\n",
              "      <td>1.2921</td>\n",
              "      <td>-0.5578</td>\n",
              "      <td>-0.4473</td>\n",
              "      <td>low</td>\n",
              "    </tr>\n",
              "    <tr>\n",
              "      <th>3</th>\n",
              "      <td>-1.5569</td>\n",
              "      <td>-1.3517</td>\n",
              "      <td>1.4696</td>\n",
              "      <td>0.0181</td>\n",
              "      <td>0.0041</td>\n",
              "      <td>-0.5602</td>\n",
              "      <td>-1.0857</td>\n",
              "      <td>-0.8037</td>\n",
              "      <td>-0.9249</td>\n",
              "      <td>-0.8425</td>\n",
              "      <td>-0.4884</td>\n",
              "      <td>0.7632</td>\n",
              "      <td>-1.8234</td>\n",
              "      <td>-2.0046</td>\n",
              "      <td>0.9957</td>\n",
              "      <td>high</td>\n",
              "    </tr>\n",
              "    <tr>\n",
              "      <th>4</th>\n",
              "      <td>0.6038</td>\n",
              "      <td>-1.2203</td>\n",
              "      <td>0.7712</td>\n",
              "      <td>-0.0248</td>\n",
              "      <td>-0.0112</td>\n",
              "      <td>1.3293</td>\n",
              "      <td>0.3969</td>\n",
              "      <td>-0.7787</td>\n",
              "      <td>-0.8725</td>\n",
              "      <td>0.1821</td>\n",
              "      <td>-0.4848</td>\n",
              "      <td>0.7486</td>\n",
              "      <td>0.6563</td>\n",
              "      <td>-1.6159</td>\n",
              "      <td>0.7152</td>\n",
              "      <td>high</td>\n",
              "    </tr>\n",
              "  </tbody>\n",
              "</table>\n",
              "</div>\n",
              "      <button class=\"colab-df-convert\" onclick=\"convertToInteractive('df-233a5843-7738-4c27-8bf4-1bab5dec58c9')\"\n",
              "              title=\"Convert this dataframe to an interactive table.\"\n",
              "              style=\"display:none;\">\n",
              "        \n",
              "  <svg xmlns=\"http://www.w3.org/2000/svg\" height=\"24px\"viewBox=\"0 0 24 24\"\n",
              "       width=\"24px\">\n",
              "    <path d=\"M0 0h24v24H0V0z\" fill=\"none\"/>\n",
              "    <path d=\"M18.56 5.44l.94 2.06.94-2.06 2.06-.94-2.06-.94-.94-2.06-.94 2.06-2.06.94zm-11 1L8.5 8.5l.94-2.06 2.06-.94-2.06-.94L8.5 2.5l-.94 2.06-2.06.94zm10 10l.94 2.06.94-2.06 2.06-.94-2.06-.94-.94-2.06-.94 2.06-2.06.94z\"/><path d=\"M17.41 7.96l-1.37-1.37c-.4-.4-.92-.59-1.43-.59-.52 0-1.04.2-1.43.59L10.3 9.45l-7.72 7.72c-.78.78-.78 2.05 0 2.83L4 21.41c.39.39.9.59 1.41.59.51 0 1.02-.2 1.41-.59l7.78-7.78 2.81-2.81c.8-.78.8-2.07 0-2.86zM5.41 20L4 18.59l7.72-7.72 1.47 1.35L5.41 20z\"/>\n",
              "  </svg>\n",
              "      </button>\n",
              "      \n",
              "  <style>\n",
              "    .colab-df-container {\n",
              "      display:flex;\n",
              "      flex-wrap:wrap;\n",
              "      gap: 12px;\n",
              "    }\n",
              "\n",
              "    .colab-df-convert {\n",
              "      background-color: #E8F0FE;\n",
              "      border: none;\n",
              "      border-radius: 50%;\n",
              "      cursor: pointer;\n",
              "      display: none;\n",
              "      fill: #1967D2;\n",
              "      height: 32px;\n",
              "      padding: 0 0 0 0;\n",
              "      width: 32px;\n",
              "    }\n",
              "\n",
              "    .colab-df-convert:hover {\n",
              "      background-color: #E2EBFA;\n",
              "      box-shadow: 0px 1px 2px rgba(60, 64, 67, 0.3), 0px 1px 3px 1px rgba(60, 64, 67, 0.15);\n",
              "      fill: #174EA6;\n",
              "    }\n",
              "\n",
              "    [theme=dark] .colab-df-convert {\n",
              "      background-color: #3B4455;\n",
              "      fill: #D2E3FC;\n",
              "    }\n",
              "\n",
              "    [theme=dark] .colab-df-convert:hover {\n",
              "      background-color: #434B5C;\n",
              "      box-shadow: 0px 1px 3px 1px rgba(0, 0, 0, 0.15);\n",
              "      filter: drop-shadow(0px 1px 2px rgba(0, 0, 0, 0.3));\n",
              "      fill: #FFFFFF;\n",
              "    }\n",
              "  </style>\n",
              "\n",
              "      <script>\n",
              "        const buttonEl =\n",
              "          document.querySelector('#df-233a5843-7738-4c27-8bf4-1bab5dec58c9 button.colab-df-convert');\n",
              "        buttonEl.style.display =\n",
              "          google.colab.kernel.accessAllowed ? 'block' : 'none';\n",
              "\n",
              "        async function convertToInteractive(key) {\n",
              "          const element = document.querySelector('#df-233a5843-7738-4c27-8bf4-1bab5dec58c9');\n",
              "          const dataTable =\n",
              "            await google.colab.kernel.invokeFunction('convertToInteractive',\n",
              "                                                     [key], {});\n",
              "          if (!dataTable) return;\n",
              "\n",
              "          const docLinkHtml = 'Like what you see? Visit the ' +\n",
              "            '<a target=\"_blank\" href=https://colab.research.google.com/notebooks/data_table.ipynb>data table notebook</a>'\n",
              "            + ' to learn more about interactive tables.';\n",
              "          element.innerHTML = '';\n",
              "          dataTable['output_type'] = 'display_data';\n",
              "          await google.colab.output.renderOutput(dataTable, element);\n",
              "          const docLink = document.createElement('div');\n",
              "          docLink.innerHTML = docLinkHtml;\n",
              "          element.appendChild(docLink);\n",
              "        }\n",
              "      </script>\n",
              "    </div>\n",
              "  </div>\n",
              "  "
            ]
          },
          "metadata": {},
          "execution_count": 150
        }
      ]
    },
    {
      "cell_type": "code",
      "source": [
        "df_train.target.replace('low', -1, inplace=True)\n",
        "df_train.target.replace('med', 0, inplace=True)\n",
        "df_train.target.replace('high', 1, inplace=True)\n",
        "df_train.target.value_counts().to_frame()"
      ],
      "metadata": {
        "id": "D0sXjsBy7Gby",
        "outputId": "aee67b24-7add-4bdb-f4a1-ee608c55212e",
        "colab": {
          "base_uri": "https://localhost:8080/",
          "height": 143
        }
      },
      "execution_count": 154,
      "outputs": [
        {
          "output_type": "execute_result",
          "data": {
            "text/plain": [
              "    target\n",
              "-1    4500\n",
              " 0    4500\n",
              " 1    4500"
            ],
            "text/html": [
              "\n",
              "  <div id=\"df-cbf02320-8954-4651-bb99-38eab0667270\">\n",
              "    <div class=\"colab-df-container\">\n",
              "      <div>\n",
              "<style scoped>\n",
              "    .dataframe tbody tr th:only-of-type {\n",
              "        vertical-align: middle;\n",
              "    }\n",
              "\n",
              "    .dataframe tbody tr th {\n",
              "        vertical-align: top;\n",
              "    }\n",
              "\n",
              "    .dataframe thead th {\n",
              "        text-align: right;\n",
              "    }\n",
              "</style>\n",
              "<table border=\"1\" class=\"dataframe\">\n",
              "  <thead>\n",
              "    <tr style=\"text-align: right;\">\n",
              "      <th></th>\n",
              "      <th>target</th>\n",
              "    </tr>\n",
              "  </thead>\n",
              "  <tbody>\n",
              "    <tr>\n",
              "      <th>-1</th>\n",
              "      <td>4500</td>\n",
              "    </tr>\n",
              "    <tr>\n",
              "      <th>0</th>\n",
              "      <td>4500</td>\n",
              "    </tr>\n",
              "    <tr>\n",
              "      <th>1</th>\n",
              "      <td>4500</td>\n",
              "    </tr>\n",
              "  </tbody>\n",
              "</table>\n",
              "</div>\n",
              "      <button class=\"colab-df-convert\" onclick=\"convertToInteractive('df-cbf02320-8954-4651-bb99-38eab0667270')\"\n",
              "              title=\"Convert this dataframe to an interactive table.\"\n",
              "              style=\"display:none;\">\n",
              "        \n",
              "  <svg xmlns=\"http://www.w3.org/2000/svg\" height=\"24px\"viewBox=\"0 0 24 24\"\n",
              "       width=\"24px\">\n",
              "    <path d=\"M0 0h24v24H0V0z\" fill=\"none\"/>\n",
              "    <path d=\"M18.56 5.44l.94 2.06.94-2.06 2.06-.94-2.06-.94-.94-2.06-.94 2.06-2.06.94zm-11 1L8.5 8.5l.94-2.06 2.06-.94-2.06-.94L8.5 2.5l-.94 2.06-2.06.94zm10 10l.94 2.06.94-2.06 2.06-.94-2.06-.94-.94-2.06-.94 2.06-2.06.94z\"/><path d=\"M17.41 7.96l-1.37-1.37c-.4-.4-.92-.59-1.43-.59-.52 0-1.04.2-1.43.59L10.3 9.45l-7.72 7.72c-.78.78-.78 2.05 0 2.83L4 21.41c.39.39.9.59 1.41.59.51 0 1.02-.2 1.41-.59l7.78-7.78 2.81-2.81c.8-.78.8-2.07 0-2.86zM5.41 20L4 18.59l7.72-7.72 1.47 1.35L5.41 20z\"/>\n",
              "  </svg>\n",
              "      </button>\n",
              "      \n",
              "  <style>\n",
              "    .colab-df-container {\n",
              "      display:flex;\n",
              "      flex-wrap:wrap;\n",
              "      gap: 12px;\n",
              "    }\n",
              "\n",
              "    .colab-df-convert {\n",
              "      background-color: #E8F0FE;\n",
              "      border: none;\n",
              "      border-radius: 50%;\n",
              "      cursor: pointer;\n",
              "      display: none;\n",
              "      fill: #1967D2;\n",
              "      height: 32px;\n",
              "      padding: 0 0 0 0;\n",
              "      width: 32px;\n",
              "    }\n",
              "\n",
              "    .colab-df-convert:hover {\n",
              "      background-color: #E2EBFA;\n",
              "      box-shadow: 0px 1px 2px rgba(60, 64, 67, 0.3), 0px 1px 3px 1px rgba(60, 64, 67, 0.15);\n",
              "      fill: #174EA6;\n",
              "    }\n",
              "\n",
              "    [theme=dark] .colab-df-convert {\n",
              "      background-color: #3B4455;\n",
              "      fill: #D2E3FC;\n",
              "    }\n",
              "\n",
              "    [theme=dark] .colab-df-convert:hover {\n",
              "      background-color: #434B5C;\n",
              "      box-shadow: 0px 1px 3px 1px rgba(0, 0, 0, 0.15);\n",
              "      filter: drop-shadow(0px 1px 2px rgba(0, 0, 0, 0.3));\n",
              "      fill: #FFFFFF;\n",
              "    }\n",
              "  </style>\n",
              "\n",
              "      <script>\n",
              "        const buttonEl =\n",
              "          document.querySelector('#df-cbf02320-8954-4651-bb99-38eab0667270 button.colab-df-convert');\n",
              "        buttonEl.style.display =\n",
              "          google.colab.kernel.accessAllowed ? 'block' : 'none';\n",
              "\n",
              "        async function convertToInteractive(key) {\n",
              "          const element = document.querySelector('#df-cbf02320-8954-4651-bb99-38eab0667270');\n",
              "          const dataTable =\n",
              "            await google.colab.kernel.invokeFunction('convertToInteractive',\n",
              "                                                     [key], {});\n",
              "          if (!dataTable) return;\n",
              "\n",
              "          const docLinkHtml = 'Like what you see? Visit the ' +\n",
              "            '<a target=\"_blank\" href=https://colab.research.google.com/notebooks/data_table.ipynb>data table notebook</a>'\n",
              "            + ' to learn more about interactive tables.';\n",
              "          element.innerHTML = '';\n",
              "          dataTable['output_type'] = 'display_data';\n",
              "          await google.colab.output.renderOutput(dataTable, element);\n",
              "          const docLink = document.createElement('div');\n",
              "          docLink.innerHTML = docLinkHtml;\n",
              "          element.appendChild(docLink);\n",
              "        }\n",
              "      </script>\n",
              "    </div>\n",
              "  </div>\n",
              "  "
            ]
          },
          "metadata": {},
          "execution_count": 154
        }
      ]
    },
    {
      "cell_type": "code",
      "source": [
        "df_test = pd.concat([pd.DataFrame(X_test), pd.Series(y_test)], axis=1)\n",
        "df_test.target.replace('low', -1, inplace=True)\n",
        "df_test.target.replace('med', 0, inplace=True)\n",
        "df_test.target.replace('high', 1, inplace=True)\n",
        "df_test.target.value_counts().to_frame()"
      ],
      "metadata": {
        "id": "3q1k_hs2viwY",
        "outputId": "6cd893a1-d435-49f5-98f4-0e1f24c2509f",
        "colab": {
          "base_uri": "https://localhost:8080/",
          "height": 143
        }
      },
      "execution_count": 158,
      "outputs": [
        {
          "output_type": "execute_result",
          "data": {
            "text/plain": [
              "    target\n",
              "-1    1500\n",
              " 1     750\n",
              " 0     250"
            ],
            "text/html": [
              "\n",
              "  <div id=\"df-7cb01b9f-5153-4c46-bff3-cc42de33e748\">\n",
              "    <div class=\"colab-df-container\">\n",
              "      <div>\n",
              "<style scoped>\n",
              "    .dataframe tbody tr th:only-of-type {\n",
              "        vertical-align: middle;\n",
              "    }\n",
              "\n",
              "    .dataframe tbody tr th {\n",
              "        vertical-align: top;\n",
              "    }\n",
              "\n",
              "    .dataframe thead th {\n",
              "        text-align: right;\n",
              "    }\n",
              "</style>\n",
              "<table border=\"1\" class=\"dataframe\">\n",
              "  <thead>\n",
              "    <tr style=\"text-align: right;\">\n",
              "      <th></th>\n",
              "      <th>target</th>\n",
              "    </tr>\n",
              "  </thead>\n",
              "  <tbody>\n",
              "    <tr>\n",
              "      <th>-1</th>\n",
              "      <td>1500</td>\n",
              "    </tr>\n",
              "    <tr>\n",
              "      <th>1</th>\n",
              "      <td>750</td>\n",
              "    </tr>\n",
              "    <tr>\n",
              "      <th>0</th>\n",
              "      <td>250</td>\n",
              "    </tr>\n",
              "  </tbody>\n",
              "</table>\n",
              "</div>\n",
              "      <button class=\"colab-df-convert\" onclick=\"convertToInteractive('df-7cb01b9f-5153-4c46-bff3-cc42de33e748')\"\n",
              "              title=\"Convert this dataframe to an interactive table.\"\n",
              "              style=\"display:none;\">\n",
              "        \n",
              "  <svg xmlns=\"http://www.w3.org/2000/svg\" height=\"24px\"viewBox=\"0 0 24 24\"\n",
              "       width=\"24px\">\n",
              "    <path d=\"M0 0h24v24H0V0z\" fill=\"none\"/>\n",
              "    <path d=\"M18.56 5.44l.94 2.06.94-2.06 2.06-.94-2.06-.94-.94-2.06-.94 2.06-2.06.94zm-11 1L8.5 8.5l.94-2.06 2.06-.94-2.06-.94L8.5 2.5l-.94 2.06-2.06.94zm10 10l.94 2.06.94-2.06 2.06-.94-2.06-.94-.94-2.06-.94 2.06-2.06.94z\"/><path d=\"M17.41 7.96l-1.37-1.37c-.4-.4-.92-.59-1.43-.59-.52 0-1.04.2-1.43.59L10.3 9.45l-7.72 7.72c-.78.78-.78 2.05 0 2.83L4 21.41c.39.39.9.59 1.41.59.51 0 1.02-.2 1.41-.59l7.78-7.78 2.81-2.81c.8-.78.8-2.07 0-2.86zM5.41 20L4 18.59l7.72-7.72 1.47 1.35L5.41 20z\"/>\n",
              "  </svg>\n",
              "      </button>\n",
              "      \n",
              "  <style>\n",
              "    .colab-df-container {\n",
              "      display:flex;\n",
              "      flex-wrap:wrap;\n",
              "      gap: 12px;\n",
              "    }\n",
              "\n",
              "    .colab-df-convert {\n",
              "      background-color: #E8F0FE;\n",
              "      border: none;\n",
              "      border-radius: 50%;\n",
              "      cursor: pointer;\n",
              "      display: none;\n",
              "      fill: #1967D2;\n",
              "      height: 32px;\n",
              "      padding: 0 0 0 0;\n",
              "      width: 32px;\n",
              "    }\n",
              "\n",
              "    .colab-df-convert:hover {\n",
              "      background-color: #E2EBFA;\n",
              "      box-shadow: 0px 1px 2px rgba(60, 64, 67, 0.3), 0px 1px 3px 1px rgba(60, 64, 67, 0.15);\n",
              "      fill: #174EA6;\n",
              "    }\n",
              "\n",
              "    [theme=dark] .colab-df-convert {\n",
              "      background-color: #3B4455;\n",
              "      fill: #D2E3FC;\n",
              "    }\n",
              "\n",
              "    [theme=dark] .colab-df-convert:hover {\n",
              "      background-color: #434B5C;\n",
              "      box-shadow: 0px 1px 3px 1px rgba(0, 0, 0, 0.15);\n",
              "      filter: drop-shadow(0px 1px 2px rgba(0, 0, 0, 0.3));\n",
              "      fill: #FFFFFF;\n",
              "    }\n",
              "  </style>\n",
              "\n",
              "      <script>\n",
              "        const buttonEl =\n",
              "          document.querySelector('#df-7cb01b9f-5153-4c46-bff3-cc42de33e748 button.colab-df-convert');\n",
              "        buttonEl.style.display =\n",
              "          google.colab.kernel.accessAllowed ? 'block' : 'none';\n",
              "\n",
              "        async function convertToInteractive(key) {\n",
              "          const element = document.querySelector('#df-7cb01b9f-5153-4c46-bff3-cc42de33e748');\n",
              "          const dataTable =\n",
              "            await google.colab.kernel.invokeFunction('convertToInteractive',\n",
              "                                                     [key], {});\n",
              "          if (!dataTable) return;\n",
              "\n",
              "          const docLinkHtml = 'Like what you see? Visit the ' +\n",
              "            '<a target=\"_blank\" href=https://colab.research.google.com/notebooks/data_table.ipynb>data table notebook</a>'\n",
              "            + ' to learn more about interactive tables.';\n",
              "          element.innerHTML = '';\n",
              "          dataTable['output_type'] = 'display_data';\n",
              "          await google.colab.output.renderOutput(dataTable, element);\n",
              "          const docLink = document.createElement('div');\n",
              "          docLink.innerHTML = docLinkHtml;\n",
              "          element.appendChild(docLink);\n",
              "        }\n",
              "      </script>\n",
              "    </div>\n",
              "  </div>\n",
              "  "
            ]
          },
          "metadata": {},
          "execution_count": 158
        }
      ]
    },
    {
      "cell_type": "code",
      "source": [
        "xgbc = xgb.XGBClassifier().fit(pd.DataFrame(X_train_res, columns=features[:15]), df_train.target)"
      ],
      "metadata": {
        "id": "0ScVE2DJ8CLG"
      },
      "execution_count": 192,
      "outputs": []
    },
    {
      "cell_type": "code",
      "source": [
        "print('\\n', classification_report(df_test.target, xgbc.predict(X_test)))"
      ],
      "metadata": {
        "id": "Csx5YSFu8C57",
        "outputId": "a46d1915-12bf-40f8-d9a5-0da9ccd32f5e",
        "colab": {
          "base_uri": "https://localhost:8080/"
        }
      },
      "execution_count": 198,
      "outputs": [
        {
          "output_type": "stream",
          "name": "stdout",
          "text": [
            "\n",
            "               precision    recall  f1-score   support\n",
            "\n",
            "          -1       0.54      0.06      0.11      1500\n",
            "           0       0.10      0.68      0.17       250\n",
            "           1       0.27      0.22      0.25       750\n",
            "\n",
            "    accuracy                           0.17      2500\n",
            "   macro avg       0.31      0.32      0.17      2500\n",
            "weighted avg       0.42      0.17      0.15      2500\n",
            "\n"
          ]
        }
      ]
    },
    {
      "cell_type": "code",
      "source": [
        "features = ['x1','x2','x3','x13','x23','x12','x1^2','x2^2','x3^2','x1^3','x2^3','x3^3','log(x1-min(x1)+1)','log(x2-min(x2)+1)','log(x3-min(x3)+1)']\n",
        "X_train, X_test, y_train, y_test = train_test_split(df[features], df['target_med'], stratify=df['target_med'], random_state=2134)\n",
        "X_train = StandardScaler().fit_transform(X_train[features])\n",
        "X_train_res, y_train_res = SMOTE(random_state=3124).fit_resample(X_train, y_train)\n",
        "X_train_res = StandardScaler().fit_transform(X_train_res)\n",
        "df_train = pd.concat([pd.DataFrame(X_train_res), pd.Series(y_train_res)], axis=1)\n",
        "df_train.target_med.value_counts()"
      ],
      "metadata": {
        "id": "yoGb7BYF9fIS",
        "outputId": "75c017ae-dd5c-442f-dd6a-8a20581be02a",
        "colab": {
          "base_uri": "https://localhost:8080/"
        }
      },
      "execution_count": 257,
      "outputs": [
        {
          "output_type": "execute_result",
          "data": {
            "text/plain": [
              "0    6750\n",
              "1    6750\n",
              "Name: target_med, dtype: int64"
            ]
          },
          "metadata": {},
          "execution_count": 257
        }
      ]
    },
    {
      "cell_type": "markdown",
      "source": [
        "ter um modelo de referencia (dumies)\n",
        "\n",
        "precisa equilibrar a base"
      ],
      "metadata": {
        "id": "tJNfp2z__qt7"
      }
    },
    {
      "cell_type": "code",
      "source": [
        "dc = DummyClassifier().fit(pd.DataFrame(X_train)[[0,1,2]], y_train)\n",
        "print('\\n', classification_report(y_test, dc.predict(X_test.iloc[:,:3])))"
      ],
      "metadata": {
        "id": "gvS4Mc6jCpoj",
        "outputId": "6b4a49dc-3613-4162-b9ff-fe16e5aad625",
        "colab": {
          "base_uri": "https://localhost:8080/"
        }
      },
      "execution_count": 258,
      "outputs": [
        {
          "output_type": "stream",
          "name": "stdout",
          "text": [
            "\n",
            "               precision    recall  f1-score   support\n",
            "\n",
            "           0       0.90      1.00      0.95      2250\n",
            "           1       0.00      0.00      0.00       250\n",
            "\n",
            "    accuracy                           0.90      2500\n",
            "   macro avg       0.45      0.50      0.47      2500\n",
            "weighted avg       0.81      0.90      0.85      2500\n",
            "\n"
          ]
        },
        {
          "output_type": "stream",
          "name": "stderr",
          "text": [
            "/usr/local/lib/python3.7/dist-packages/sklearn/metrics/_classification.py:1318: UndefinedMetricWarning: Precision and F-score are ill-defined and being set to 0.0 in labels with no predicted samples. Use `zero_division` parameter to control this behavior.\n",
            "  _warn_prf(average, modifier, msg_start, len(result))\n",
            "/usr/local/lib/python3.7/dist-packages/sklearn/metrics/_classification.py:1318: UndefinedMetricWarning: Precision and F-score are ill-defined and being set to 0.0 in labels with no predicted samples. Use `zero_division` parameter to control this behavior.\n",
            "  _warn_prf(average, modifier, msg_start, len(result))\n",
            "/usr/local/lib/python3.7/dist-packages/sklearn/metrics/_classification.py:1318: UndefinedMetricWarning: Precision and F-score are ill-defined and being set to 0.0 in labels with no predicted samples. Use `zero_division` parameter to control this behavior.\n",
            "  _warn_prf(average, modifier, msg_start, len(result))\n"
          ]
        }
      ]
    },
    {
      "cell_type": "code",
      "source": [
        "rfc = RandomForestClassifier(n_estimators = 1000).fit(X_train_res, y_train_res)\n",
        "print('\\n', classification_report(y_test, rfc.predict(X_test)))"
      ],
      "metadata": {
        "id": "3d4gIHYP9fUe",
        "outputId": "5c80ad52-3e99-4030-eee4-91dd344c1543",
        "colab": {
          "base_uri": "https://localhost:8080/"
        }
      },
      "execution_count": 259,
      "outputs": [
        {
          "output_type": "stream",
          "name": "stderr",
          "text": [
            "/usr/local/lib/python3.7/dist-packages/sklearn/base.py:444: UserWarning: X has feature names, but RandomForestClassifier was fitted without feature names\n",
            "  f\"X has feature names, but {self.__class__.__name__} was fitted without\"\n"
          ]
        },
        {
          "output_type": "stream",
          "name": "stdout",
          "text": [
            "\n",
            "               precision    recall  f1-score   support\n",
            "\n",
            "           0       0.90      1.00      0.95      2250\n",
            "           1       0.00      0.00      0.00       250\n",
            "\n",
            "    accuracy                           0.90      2500\n",
            "   macro avg       0.45      0.50      0.47      2500\n",
            "weighted avg       0.81      0.90      0.85      2500\n",
            "\n"
          ]
        },
        {
          "output_type": "stream",
          "name": "stderr",
          "text": [
            "/usr/local/lib/python3.7/dist-packages/sklearn/metrics/_classification.py:1318: UndefinedMetricWarning: Precision and F-score are ill-defined and being set to 0.0 in labels with no predicted samples. Use `zero_division` parameter to control this behavior.\n",
            "  _warn_prf(average, modifier, msg_start, len(result))\n",
            "/usr/local/lib/python3.7/dist-packages/sklearn/metrics/_classification.py:1318: UndefinedMetricWarning: Precision and F-score are ill-defined and being set to 0.0 in labels with no predicted samples. Use `zero_division` parameter to control this behavior.\n",
            "  _warn_prf(average, modifier, msg_start, len(result))\n",
            "/usr/local/lib/python3.7/dist-packages/sklearn/metrics/_classification.py:1318: UndefinedMetricWarning: Precision and F-score are ill-defined and being set to 0.0 in labels with no predicted samples. Use `zero_division` parameter to control this behavior.\n",
            "  _warn_prf(average, modifier, msg_start, len(result))\n"
          ]
        }
      ]
    },
    {
      "cell_type": "code",
      "source": [
        "xgbc = xgb.XGBClassifier().fit(pd.DataFrame(X_train_res, columns=features[:15]), y_train_res)\n",
        "print('\\n', classification_report(y_test, xgbc.predict(X_test)))"
      ],
      "metadata": {
        "id": "LKGQxS6PEwtR",
        "outputId": "7359d900-0976-43ee-f239-a301d0f38b4d",
        "colab": {
          "base_uri": "https://localhost:8080/"
        }
      },
      "execution_count": 260,
      "outputs": [
        {
          "output_type": "stream",
          "name": "stdout",
          "text": [
            "\n",
            "               precision    recall  f1-score   support\n",
            "\n",
            "           0       0.90      1.00      0.95      2250\n",
            "           1       0.00      0.00      0.00       250\n",
            "\n",
            "    accuracy                           0.90      2500\n",
            "   macro avg       0.45      0.50      0.47      2500\n",
            "weighted avg       0.81      0.90      0.85      2500\n",
            "\n"
          ]
        }
      ]
    },
    {
      "cell_type": "code",
      "source": [
        "rc = remove_corr(corr_maxima=.95)\n",
        "rc.fit(pd.DataFrame(X_train_res), y_train_res)\n",
        "X_train_res_ = rc.transform(pd.DataFrame(X_train_res))\n",
        "X_train_res_.corr()\n",
        "select = []\n",
        "for item in list(X_train_res_.columns.values):\n",
        "  select.append(features[item])\n",
        "rfc = RandomForestClassifier(n_estimators = 1000).fit(X_train_res_, y_train_res)\n",
        "print('\\n', classification_report(y_test, rfc.predict(X_test[select])))"
      ],
      "metadata": {
        "id": "eyolR36-CEK2",
        "outputId": "752590f3-db52-4d3e-b2f7-2555301576f4",
        "colab": {
          "base_uri": "https://localhost:8080/"
        }
      },
      "execution_count": 261,
      "outputs": [
        {
          "output_type": "stream",
          "name": "stderr",
          "text": [
            "/usr/local/lib/python3.7/dist-packages/ipykernel_launcher.py:45: DeprecationWarning: `np.bool` is a deprecated alias for the builtin `bool`. To silence this warning, use `bool` by itself. Doing this will not modify any behavior and is safe. If you specifically wanted the numpy scalar type, use `np.bool_` here.\n",
            "Deprecated in NumPy 1.20; for more details and guidance: https://numpy.org/devdocs/release/1.20.0-notes.html#deprecations\n",
            "/usr/local/lib/python3.7/dist-packages/sklearn/base.py:444: UserWarning: X has feature names, but RandomForestClassifier was fitted without feature names\n",
            "  f\"X has feature names, but {self.__class__.__name__} was fitted without\"\n"
          ]
        },
        {
          "output_type": "stream",
          "name": "stdout",
          "text": [
            "\n",
            "               precision    recall  f1-score   support\n",
            "\n",
            "           0       0.90      1.00      0.95      2250\n",
            "           1       0.00      0.00      0.00       250\n",
            "\n",
            "    accuracy                           0.90      2500\n",
            "   macro avg       0.45      0.50      0.47      2500\n",
            "weighted avg       0.81      0.90      0.85      2500\n",
            "\n"
          ]
        }
      ]
    },
    {
      "cell_type": "code",
      "source": [
        "xgbc = xgb.XGBClassifier().fit(pd.DataFrame(X_train_res_, columns=select), y_train_res)\n",
        "print('\\n', classification_report(y_test, xgbc.predict(X_test[select])))"
      ],
      "metadata": {
        "id": "rsc4hZbUFqFQ",
        "outputId": "7a88eab5-419b-4388-c27b-eaec9ee3a6e3",
        "colab": {
          "base_uri": "https://localhost:8080/"
        }
      },
      "execution_count": 262,
      "outputs": [
        {
          "output_type": "stream",
          "name": "stdout",
          "text": [
            "\n",
            "               precision    recall  f1-score   support\n",
            "\n",
            "           0       0.90      1.00      0.95      2250\n",
            "           1       0.00      0.00      0.00       250\n",
            "\n",
            "    accuracy                           0.90      2500\n",
            "   macro avg       0.45      0.50      0.47      2500\n",
            "weighted avg       0.81      0.90      0.85      2500\n",
            "\n"
          ]
        },
        {
          "output_type": "stream",
          "name": "stderr",
          "text": [
            "/usr/local/lib/python3.7/dist-packages/sklearn/metrics/_classification.py:1318: UndefinedMetricWarning: Precision and F-score are ill-defined and being set to 0.0 in labels with no predicted samples. Use `zero_division` parameter to control this behavior.\n",
            "  _warn_prf(average, modifier, msg_start, len(result))\n",
            "/usr/local/lib/python3.7/dist-packages/sklearn/metrics/_classification.py:1318: UndefinedMetricWarning: Precision and F-score are ill-defined and being set to 0.0 in labels with no predicted samples. Use `zero_division` parameter to control this behavior.\n",
            "  _warn_prf(average, modifier, msg_start, len(result))\n",
            "/usr/local/lib/python3.7/dist-packages/sklearn/metrics/_classification.py:1318: UndefinedMetricWarning: Precision and F-score are ill-defined and being set to 0.0 in labels with no predicted samples. Use `zero_division` parameter to control this behavior.\n",
            "  _warn_prf(average, modifier, msg_start, len(result))\n"
          ]
        }
      ]
    },
    {
      "cell_type": "code",
      "source": [
        "rc = remove_corr(corr_maxima=.9)\n",
        "rc.fit(pd.DataFrame(X_train_res), y_train_res)\n",
        "X_train_res_ = rc.transform(pd.DataFrame(X_train_res))\n",
        "X_train_res_.corr()\n",
        "select = []\n",
        "for item in list(X_train_res_.columns.values):\n",
        "  select.append(features[item])\n",
        "rfc = RandomForestClassifier(n_estimators = 1000).fit(X_train_res_, y_train_res)\n",
        "print('\\n', classification_report(y_test, rfc.predict(X_test[select])))"
      ],
      "metadata": {
        "id": "-N0kBd8UEOQ_",
        "outputId": "8852d046-e661-4229-c8d4-6d0f78e1dba0",
        "colab": {
          "base_uri": "https://localhost:8080/"
        }
      },
      "execution_count": 263,
      "outputs": [
        {
          "output_type": "stream",
          "name": "stderr",
          "text": [
            "/usr/local/lib/python3.7/dist-packages/ipykernel_launcher.py:45: DeprecationWarning: `np.bool` is a deprecated alias for the builtin `bool`. To silence this warning, use `bool` by itself. Doing this will not modify any behavior and is safe. If you specifically wanted the numpy scalar type, use `np.bool_` here.\n",
            "Deprecated in NumPy 1.20; for more details and guidance: https://numpy.org/devdocs/release/1.20.0-notes.html#deprecations\n",
            "/usr/local/lib/python3.7/dist-packages/sklearn/base.py:444: UserWarning: X has feature names, but RandomForestClassifier was fitted without feature names\n",
            "  f\"X has feature names, but {self.__class__.__name__} was fitted without\"\n"
          ]
        },
        {
          "output_type": "stream",
          "name": "stdout",
          "text": [
            "\n",
            "               precision    recall  f1-score   support\n",
            "\n",
            "           0       0.90      1.00      0.95      2250\n",
            "           1       0.00      0.00      0.00       250\n",
            "\n",
            "    accuracy                           0.90      2500\n",
            "   macro avg       0.45      0.50      0.47      2500\n",
            "weighted avg       0.81      0.90      0.85      2500\n",
            "\n"
          ]
        },
        {
          "output_type": "stream",
          "name": "stderr",
          "text": [
            "/usr/local/lib/python3.7/dist-packages/sklearn/metrics/_classification.py:1318: UndefinedMetricWarning: Precision and F-score are ill-defined and being set to 0.0 in labels with no predicted samples. Use `zero_division` parameter to control this behavior.\n",
            "  _warn_prf(average, modifier, msg_start, len(result))\n",
            "/usr/local/lib/python3.7/dist-packages/sklearn/metrics/_classification.py:1318: UndefinedMetricWarning: Precision and F-score are ill-defined and being set to 0.0 in labels with no predicted samples. Use `zero_division` parameter to control this behavior.\n",
            "  _warn_prf(average, modifier, msg_start, len(result))\n",
            "/usr/local/lib/python3.7/dist-packages/sklearn/metrics/_classification.py:1318: UndefinedMetricWarning: Precision and F-score are ill-defined and being set to 0.0 in labels with no predicted samples. Use `zero_division` parameter to control this behavior.\n",
            "  _warn_prf(average, modifier, msg_start, len(result))\n"
          ]
        }
      ]
    },
    {
      "cell_type": "code",
      "source": [
        "xgbc = xgb.XGBClassifier().fit(pd.DataFrame(X_train_res_, columns=select), y_train_res)\n",
        "print('\\n', classification_report(y_test, xgbc.predict(X_test[select])))"
      ],
      "metadata": {
        "id": "TIHHK6aQFxWV",
        "outputId": "ce9e38bf-787c-4e18-e101-49e7f5cac462",
        "colab": {
          "base_uri": "https://localhost:8080/"
        }
      },
      "execution_count": 264,
      "outputs": [
        {
          "output_type": "stream",
          "name": "stdout",
          "text": [
            "\n",
            "               precision    recall  f1-score   support\n",
            "\n",
            "           0       0.90      1.00      0.95      2250\n",
            "           1       0.00      0.00      0.00       250\n",
            "\n",
            "    accuracy                           0.90      2500\n",
            "   macro avg       0.45      0.50      0.47      2500\n",
            "weighted avg       0.81      0.90      0.85      2500\n",
            "\n"
          ]
        },
        {
          "output_type": "stream",
          "name": "stderr",
          "text": [
            "/usr/local/lib/python3.7/dist-packages/sklearn/metrics/_classification.py:1318: UndefinedMetricWarning: Precision and F-score are ill-defined and being set to 0.0 in labels with no predicted samples. Use `zero_division` parameter to control this behavior.\n",
            "  _warn_prf(average, modifier, msg_start, len(result))\n",
            "/usr/local/lib/python3.7/dist-packages/sklearn/metrics/_classification.py:1318: UndefinedMetricWarning: Precision and F-score are ill-defined and being set to 0.0 in labels with no predicted samples. Use `zero_division` parameter to control this behavior.\n",
            "  _warn_prf(average, modifier, msg_start, len(result))\n",
            "/usr/local/lib/python3.7/dist-packages/sklearn/metrics/_classification.py:1318: UndefinedMetricWarning: Precision and F-score are ill-defined and being set to 0.0 in labels with no predicted samples. Use `zero_division` parameter to control this behavior.\n",
            "  _warn_prf(average, modifier, msg_start, len(result))\n"
          ]
        }
      ]
    },
    {
      "cell_type": "code",
      "source": [
        "rc = remove_corr(corr_maxima=.85)\n",
        "rc.fit(pd.DataFrame(X_train_res), y_train_res)\n",
        "X_train_res_ = rc.transform(pd.DataFrame(X_train_res))\n",
        "X_train_res_.corr()\n",
        "select = []\n",
        "for item in list(X_train_res_.columns.values):\n",
        "  select.append(features[item])\n",
        "rfc = RandomForestClassifier(n_estimators = 1000).fit(X_train_res_, y_train_res)\n",
        "print('\\n', classification_report(y_test, rfc.predict(X_test[select])))"
      ],
      "metadata": {
        "id": "RlHkqOZLEdji",
        "outputId": "51c36799-5215-40ec-9c95-03615aada349",
        "colab": {
          "base_uri": "https://localhost:8080/"
        }
      },
      "execution_count": 265,
      "outputs": [
        {
          "output_type": "stream",
          "name": "stderr",
          "text": [
            "/usr/local/lib/python3.7/dist-packages/ipykernel_launcher.py:45: DeprecationWarning: `np.bool` is a deprecated alias for the builtin `bool`. To silence this warning, use `bool` by itself. Doing this will not modify any behavior and is safe. If you specifically wanted the numpy scalar type, use `np.bool_` here.\n",
            "Deprecated in NumPy 1.20; for more details and guidance: https://numpy.org/devdocs/release/1.20.0-notes.html#deprecations\n",
            "/usr/local/lib/python3.7/dist-packages/sklearn/base.py:444: UserWarning: X has feature names, but RandomForestClassifier was fitted without feature names\n",
            "  f\"X has feature names, but {self.__class__.__name__} was fitted without\"\n"
          ]
        },
        {
          "output_type": "stream",
          "name": "stdout",
          "text": [
            "\n",
            "               precision    recall  f1-score   support\n",
            "\n",
            "           0       0.90      1.00      0.95      2250\n",
            "           1       0.00      0.00      0.00       250\n",
            "\n",
            "    accuracy                           0.90      2500\n",
            "   macro avg       0.45      0.50      0.47      2500\n",
            "weighted avg       0.81      0.90      0.85      2500\n",
            "\n"
          ]
        },
        {
          "output_type": "stream",
          "name": "stderr",
          "text": [
            "/usr/local/lib/python3.7/dist-packages/sklearn/metrics/_classification.py:1318: UndefinedMetricWarning: Precision and F-score are ill-defined and being set to 0.0 in labels with no predicted samples. Use `zero_division` parameter to control this behavior.\n",
            "  _warn_prf(average, modifier, msg_start, len(result))\n",
            "/usr/local/lib/python3.7/dist-packages/sklearn/metrics/_classification.py:1318: UndefinedMetricWarning: Precision and F-score are ill-defined and being set to 0.0 in labels with no predicted samples. Use `zero_division` parameter to control this behavior.\n",
            "  _warn_prf(average, modifier, msg_start, len(result))\n",
            "/usr/local/lib/python3.7/dist-packages/sklearn/metrics/_classification.py:1318: UndefinedMetricWarning: Precision and F-score are ill-defined and being set to 0.0 in labels with no predicted samples. Use `zero_division` parameter to control this behavior.\n",
            "  _warn_prf(average, modifier, msg_start, len(result))\n"
          ]
        }
      ]
    },
    {
      "cell_type": "code",
      "source": [
        "xgbc = xgb.XGBClassifier().fit(pd.DataFrame(X_train_res_, columns=select), y_train_res)\n",
        "print('\\n', classification_report(y_test, xgbc.predict(X_test[select])))"
      ],
      "metadata": {
        "id": "zLUw2t1uFyJ9",
        "outputId": "1f65a90b-33e0-4a43-ec3d-66c473ef5e93",
        "colab": {
          "base_uri": "https://localhost:8080/"
        }
      },
      "execution_count": 266,
      "outputs": [
        {
          "output_type": "stream",
          "name": "stdout",
          "text": [
            "\n",
            "               precision    recall  f1-score   support\n",
            "\n",
            "           0       0.90      1.00      0.95      2250\n",
            "           1       0.00      0.00      0.00       250\n",
            "\n",
            "    accuracy                           0.90      2500\n",
            "   macro avg       0.45      0.50      0.47      2500\n",
            "weighted avg       0.81      0.90      0.85      2500\n",
            "\n"
          ]
        },
        {
          "output_type": "stream",
          "name": "stderr",
          "text": [
            "/usr/local/lib/python3.7/dist-packages/sklearn/metrics/_classification.py:1318: UndefinedMetricWarning: Precision and F-score are ill-defined and being set to 0.0 in labels with no predicted samples. Use `zero_division` parameter to control this behavior.\n",
            "  _warn_prf(average, modifier, msg_start, len(result))\n",
            "/usr/local/lib/python3.7/dist-packages/sklearn/metrics/_classification.py:1318: UndefinedMetricWarning: Precision and F-score are ill-defined and being set to 0.0 in labels with no predicted samples. Use `zero_division` parameter to control this behavior.\n",
            "  _warn_prf(average, modifier, msg_start, len(result))\n",
            "/usr/local/lib/python3.7/dist-packages/sklearn/metrics/_classification.py:1318: UndefinedMetricWarning: Precision and F-score are ill-defined and being set to 0.0 in labels with no predicted samples. Use `zero_division` parameter to control this behavior.\n",
            "  _warn_prf(average, modifier, msg_start, len(result))\n"
          ]
        }
      ]
    },
    {
      "cell_type": "code",
      "source": [
        "rc = remove_corr(corr_maxima=.8)\n",
        "rc.fit(pd.DataFrame(X_train_res), y_train_res)\n",
        "X_train_res_ = rc.transform(pd.DataFrame(X_train_res))\n",
        "X_train_res_.corr()\n",
        "select = []\n",
        "for item in list(X_train_res_.columns.values):\n",
        "  select.append(features[item])\n",
        "rfc = RandomForestClassifier(n_estimators = 1000).fit(X_train_res_, y_train_res)\n",
        "print('\\n', classification_report(y_test, rfc.predict(X_test[select])))"
      ],
      "metadata": {
        "id": "zCBti_xGEuul",
        "outputId": "81146d4e-9741-4921-8b7f-39415f0468d3",
        "colab": {
          "base_uri": "https://localhost:8080/"
        }
      },
      "execution_count": 267,
      "outputs": [
        {
          "output_type": "stream",
          "name": "stderr",
          "text": [
            "/usr/local/lib/python3.7/dist-packages/ipykernel_launcher.py:45: DeprecationWarning: `np.bool` is a deprecated alias for the builtin `bool`. To silence this warning, use `bool` by itself. Doing this will not modify any behavior and is safe. If you specifically wanted the numpy scalar type, use `np.bool_` here.\n",
            "Deprecated in NumPy 1.20; for more details and guidance: https://numpy.org/devdocs/release/1.20.0-notes.html#deprecations\n",
            "/usr/local/lib/python3.7/dist-packages/sklearn/base.py:444: UserWarning: X has feature names, but RandomForestClassifier was fitted without feature names\n",
            "  f\"X has feature names, but {self.__class__.__name__} was fitted without\"\n"
          ]
        },
        {
          "output_type": "stream",
          "name": "stdout",
          "text": [
            "\n",
            "               precision    recall  f1-score   support\n",
            "\n",
            "           0       0.90      1.00      0.95      2250\n",
            "           1       0.00      0.00      0.00       250\n",
            "\n",
            "    accuracy                           0.90      2500\n",
            "   macro avg       0.45      0.50      0.47      2500\n",
            "weighted avg       0.81      0.90      0.85      2500\n",
            "\n"
          ]
        },
        {
          "output_type": "stream",
          "name": "stderr",
          "text": [
            "/usr/local/lib/python3.7/dist-packages/sklearn/metrics/_classification.py:1318: UndefinedMetricWarning: Precision and F-score are ill-defined and being set to 0.0 in labels with no predicted samples. Use `zero_division` parameter to control this behavior.\n",
            "  _warn_prf(average, modifier, msg_start, len(result))\n",
            "/usr/local/lib/python3.7/dist-packages/sklearn/metrics/_classification.py:1318: UndefinedMetricWarning: Precision and F-score are ill-defined and being set to 0.0 in labels with no predicted samples. Use `zero_division` parameter to control this behavior.\n",
            "  _warn_prf(average, modifier, msg_start, len(result))\n",
            "/usr/local/lib/python3.7/dist-packages/sklearn/metrics/_classification.py:1318: UndefinedMetricWarning: Precision and F-score are ill-defined and being set to 0.0 in labels with no predicted samples. Use `zero_division` parameter to control this behavior.\n",
            "  _warn_prf(average, modifier, msg_start, len(result))\n"
          ]
        }
      ]
    },
    {
      "cell_type": "code",
      "source": [
        "xgbc = xgb.XGBClassifier().fit(pd.DataFrame(X_train_res_, columns=select), y_train_res)\n",
        "print('\\n', classification_report(y_test, xgbc.predict(X_test[select])))"
      ],
      "metadata": {
        "id": "q1ZxXZs3Fy_D",
        "outputId": "1acf5775-dbe8-4481-ad30-4000deb238e8",
        "colab": {
          "base_uri": "https://localhost:8080/"
        }
      },
      "execution_count": 268,
      "outputs": [
        {
          "output_type": "stream",
          "name": "stdout",
          "text": [
            "\n",
            "               precision    recall  f1-score   support\n",
            "\n",
            "           0       0.90      1.00      0.95      2250\n",
            "           1       0.00      0.00      0.00       250\n",
            "\n",
            "    accuracy                           0.90      2500\n",
            "   macro avg       0.45      0.50      0.47      2500\n",
            "weighted avg       0.81      0.90      0.85      2500\n",
            "\n"
          ]
        },
        {
          "output_type": "stream",
          "name": "stderr",
          "text": [
            "/usr/local/lib/python3.7/dist-packages/sklearn/metrics/_classification.py:1318: UndefinedMetricWarning: Precision and F-score are ill-defined and being set to 0.0 in labels with no predicted samples. Use `zero_division` parameter to control this behavior.\n",
            "  _warn_prf(average, modifier, msg_start, len(result))\n",
            "/usr/local/lib/python3.7/dist-packages/sklearn/metrics/_classification.py:1318: UndefinedMetricWarning: Precision and F-score are ill-defined and being set to 0.0 in labels with no predicted samples. Use `zero_division` parameter to control this behavior.\n",
            "  _warn_prf(average, modifier, msg_start, len(result))\n",
            "/usr/local/lib/python3.7/dist-packages/sklearn/metrics/_classification.py:1318: UndefinedMetricWarning: Precision and F-score are ill-defined and being set to 0.0 in labels with no predicted samples. Use `zero_division` parameter to control this behavior.\n",
            "  _warn_prf(average, modifier, msg_start, len(result))\n"
          ]
        }
      ]
    },
    {
      "cell_type": "code",
      "source": [
        "features = ['x1','x2','x3','x13','x23','x12','x1^2','x2^2','x3^2','x1^3','x2^3','x3^3','log(x1-min(x1)+1)','log(x2-min(x2)+1)','log(x3-min(x3)+1)']\n",
        "X_train, X_test, y_train, y_test = train_test_split(df[features], df['target_high'], stratify=df['target_high'], random_state=2134)\n",
        "X_train = StandardScaler().fit_transform(X_train[features])\n",
        "X_train_res, y_train_res = SMOTE(random_state=3124).fit_resample(X_train, y_train)\n",
        "X_train_res = StandardScaler().fit_transform(X_train_res)\n",
        "df_train = pd.concat([pd.DataFrame(X_train_res), pd.Series(y_train_res)], axis=1)\n",
        "df_train.target_high.value_counts()"
      ],
      "metadata": {
        "id": "_ZH9Tkl7FJdH",
        "outputId": "8f443566-9228-4148-dbef-a42f1cbe9262",
        "colab": {
          "base_uri": "https://localhost:8080/"
        }
      },
      "execution_count": 244,
      "outputs": [
        {
          "output_type": "execute_result",
          "data": {
            "text/plain": [
              "0    5250\n",
              "1    5250\n",
              "Name: target_high, dtype: int64"
            ]
          },
          "metadata": {},
          "execution_count": 244
        }
      ]
    },
    {
      "cell_type": "code",
      "source": [
        "dc = DummyClassifier().fit(pd.DataFrame(X_train)[[0,1,2]], y_train)\n",
        "print('\\n', classification_report(y_test, dc.predict(X_test.iloc[:,:3])))"
      ],
      "metadata": {
        "id": "PizkWTVFI2OY",
        "outputId": "24ee26d9-2291-4763-dafb-fd9561024f51",
        "colab": {
          "base_uri": "https://localhost:8080/"
        }
      },
      "execution_count": 245,
      "outputs": [
        {
          "output_type": "stream",
          "name": "stdout",
          "text": [
            "\n",
            "               precision    recall  f1-score   support\n",
            "\n",
            "           0       0.70      1.00      0.82      1750\n",
            "           1       0.00      0.00      0.00       750\n",
            "\n",
            "    accuracy                           0.70      2500\n",
            "   macro avg       0.35      0.50      0.41      2500\n",
            "weighted avg       0.49      0.70      0.58      2500\n",
            "\n"
          ]
        },
        {
          "output_type": "stream",
          "name": "stderr",
          "text": [
            "/usr/local/lib/python3.7/dist-packages/sklearn/metrics/_classification.py:1318: UndefinedMetricWarning: Precision and F-score are ill-defined and being set to 0.0 in labels with no predicted samples. Use `zero_division` parameter to control this behavior.\n",
            "  _warn_prf(average, modifier, msg_start, len(result))\n",
            "/usr/local/lib/python3.7/dist-packages/sklearn/metrics/_classification.py:1318: UndefinedMetricWarning: Precision and F-score are ill-defined and being set to 0.0 in labels with no predicted samples. Use `zero_division` parameter to control this behavior.\n",
            "  _warn_prf(average, modifier, msg_start, len(result))\n",
            "/usr/local/lib/python3.7/dist-packages/sklearn/metrics/_classification.py:1318: UndefinedMetricWarning: Precision and F-score are ill-defined and being set to 0.0 in labels with no predicted samples. Use `zero_division` parameter to control this behavior.\n",
            "  _warn_prf(average, modifier, msg_start, len(result))\n"
          ]
        }
      ]
    },
    {
      "cell_type": "code",
      "source": [
        "rfc = RandomForestClassifier(n_estimators = 1000).fit(X_train_res, y_train_res)\n",
        "print('\\n', classification_report(y_test, rfc.predict(X_test)))"
      ],
      "metadata": {
        "id": "9q7bP7HpI9nS",
        "outputId": "3d7e990f-8ebb-4f9f-b4f2-df798622f914",
        "colab": {
          "base_uri": "https://localhost:8080/"
        }
      },
      "execution_count": 246,
      "outputs": [
        {
          "output_type": "stream",
          "name": "stderr",
          "text": [
            "/usr/local/lib/python3.7/dist-packages/sklearn/base.py:444: UserWarning: X has feature names, but RandomForestClassifier was fitted without feature names\n",
            "  f\"X has feature names, but {self.__class__.__name__} was fitted without\"\n"
          ]
        },
        {
          "output_type": "stream",
          "name": "stdout",
          "text": [
            "\n",
            "               precision    recall  f1-score   support\n",
            "\n",
            "           0       0.70      1.00      0.82      1750\n",
            "           1       0.00      0.00      0.00       750\n",
            "\n",
            "    accuracy                           0.70      2500\n",
            "   macro avg       0.35      0.50      0.41      2500\n",
            "weighted avg       0.49      0.70      0.58      2500\n",
            "\n"
          ]
        }
      ]
    },
    {
      "cell_type": "code",
      "source": [
        "xgbc = xgb.XGBClassifier().fit(pd.DataFrame(X_train_res, columns=features[:15]), y_train_res)\n",
        "print('\\n', classification_report(y_test, xgbc.predict(X_test)))"
      ],
      "metadata": {
        "id": "izbW6DrOJGZX",
        "outputId": "2112da96-3602-413e-e7e1-4257ee960b03",
        "colab": {
          "base_uri": "https://localhost:8080/"
        }
      },
      "execution_count": 247,
      "outputs": [
        {
          "output_type": "stream",
          "name": "stdout",
          "text": [
            "\n",
            "               precision    recall  f1-score   support\n",
            "\n",
            "           0       0.70      0.95      0.81      1750\n",
            "           1       0.34      0.06      0.10       750\n",
            "\n",
            "    accuracy                           0.68      2500\n",
            "   macro avg       0.52      0.50      0.45      2500\n",
            "weighted avg       0.59      0.68      0.60      2500\n",
            "\n"
          ]
        }
      ]
    },
    {
      "cell_type": "code",
      "source": [
        "rc = remove_corr(corr_maxima=.95)\n",
        "rc.fit(pd.DataFrame(X_train_res), y_train_res)\n",
        "X_train_res_ = rc.transform(pd.DataFrame(X_train_res))\n",
        "X_train_res_.corr()\n",
        "select = []\n",
        "for item in list(X_train_res_.columns.values):\n",
        "  select.append(features[item])\n",
        "rfc = RandomForestClassifier(n_estimators = 1000).fit(X_train_res_, y_train_res)\n",
        "print('\\n', classification_report(y_test, rfc.predict(X_test[select])))"
      ],
      "metadata": {
        "id": "u1ZMSQl8JOP5",
        "outputId": "82f623cc-1b93-451e-a4a0-3faa270dbbd0",
        "colab": {
          "base_uri": "https://localhost:8080/"
        }
      },
      "execution_count": 248,
      "outputs": [
        {
          "output_type": "stream",
          "name": "stderr",
          "text": [
            "/usr/local/lib/python3.7/dist-packages/ipykernel_launcher.py:45: DeprecationWarning: `np.bool` is a deprecated alias for the builtin `bool`. To silence this warning, use `bool` by itself. Doing this will not modify any behavior and is safe. If you specifically wanted the numpy scalar type, use `np.bool_` here.\n",
            "Deprecated in NumPy 1.20; for more details and guidance: https://numpy.org/devdocs/release/1.20.0-notes.html#deprecations\n",
            "/usr/local/lib/python3.7/dist-packages/sklearn/base.py:444: UserWarning: X has feature names, but RandomForestClassifier was fitted without feature names\n",
            "  f\"X has feature names, but {self.__class__.__name__} was fitted without\"\n"
          ]
        },
        {
          "output_type": "stream",
          "name": "stdout",
          "text": [
            "\n",
            "               precision    recall  f1-score   support\n",
            "\n",
            "           0       0.70      0.24      0.35      1750\n",
            "           1       0.30      0.76      0.43       750\n",
            "\n",
            "    accuracy                           0.39      2500\n",
            "   macro avg       0.50      0.50      0.39      2500\n",
            "weighted avg       0.58      0.39      0.38      2500\n",
            "\n"
          ]
        }
      ]
    },
    {
      "cell_type": "code",
      "source": [
        "xgbc = xgb.XGBClassifier().fit(pd.DataFrame(X_train_res_, columns=select), y_train_res)\n",
        "print('\\n', classification_report(y_test, xgbc.predict(X_test[select])))"
      ],
      "metadata": {
        "id": "QZcyL_YWJS5_",
        "outputId": "980551d3-c616-48ab-879f-eac649ad317b",
        "colab": {
          "base_uri": "https://localhost:8080/"
        }
      },
      "execution_count": 249,
      "outputs": [
        {
          "output_type": "stream",
          "name": "stdout",
          "text": [
            "\n",
            "               precision    recall  f1-score   support\n",
            "\n",
            "           0       0.70      1.00      0.82      1750\n",
            "           1       0.00      0.00      0.00       750\n",
            "\n",
            "    accuracy                           0.70      2500\n",
            "   macro avg       0.35      0.50      0.41      2500\n",
            "weighted avg       0.49      0.70      0.58      2500\n",
            "\n"
          ]
        },
        {
          "output_type": "stream",
          "name": "stderr",
          "text": [
            "/usr/local/lib/python3.7/dist-packages/sklearn/metrics/_classification.py:1318: UndefinedMetricWarning: Precision and F-score are ill-defined and being set to 0.0 in labels with no predicted samples. Use `zero_division` parameter to control this behavior.\n",
            "  _warn_prf(average, modifier, msg_start, len(result))\n",
            "/usr/local/lib/python3.7/dist-packages/sklearn/metrics/_classification.py:1318: UndefinedMetricWarning: Precision and F-score are ill-defined and being set to 0.0 in labels with no predicted samples. Use `zero_division` parameter to control this behavior.\n",
            "  _warn_prf(average, modifier, msg_start, len(result))\n",
            "/usr/local/lib/python3.7/dist-packages/sklearn/metrics/_classification.py:1318: UndefinedMetricWarning: Precision and F-score are ill-defined and being set to 0.0 in labels with no predicted samples. Use `zero_division` parameter to control this behavior.\n",
            "  _warn_prf(average, modifier, msg_start, len(result))\n"
          ]
        }
      ]
    },
    {
      "cell_type": "code",
      "source": [
        "rc = remove_corr(corr_maxima=.9)\n",
        "rc.fit(pd.DataFrame(X_train_res), y_train_res)\n",
        "X_train_res_ = rc.transform(pd.DataFrame(X_train_res))\n",
        "X_train_res_.corr()\n",
        "select = []\n",
        "for item in list(X_train_res_.columns.values):\n",
        "  select.append(features[item])\n",
        "rfc = RandomForestClassifier(n_estimators = 1000).fit(X_train_res_, y_train_res)\n",
        "print('\\n', classification_report(y_test, rfc.predict(X_test[select])))"
      ],
      "metadata": {
        "id": "E_oDYPbGJXJg",
        "outputId": "40236efe-57bc-4f78-c35a-0c0e005a40eb",
        "colab": {
          "base_uri": "https://localhost:8080/"
        }
      },
      "execution_count": 250,
      "outputs": [
        {
          "output_type": "stream",
          "name": "stderr",
          "text": [
            "/usr/local/lib/python3.7/dist-packages/ipykernel_launcher.py:45: DeprecationWarning: `np.bool` is a deprecated alias for the builtin `bool`. To silence this warning, use `bool` by itself. Doing this will not modify any behavior and is safe. If you specifically wanted the numpy scalar type, use `np.bool_` here.\n",
            "Deprecated in NumPy 1.20; for more details and guidance: https://numpy.org/devdocs/release/1.20.0-notes.html#deprecations\n",
            "/usr/local/lib/python3.7/dist-packages/sklearn/base.py:444: UserWarning: X has feature names, but RandomForestClassifier was fitted without feature names\n",
            "  f\"X has feature names, but {self.__class__.__name__} was fitted without\"\n"
          ]
        },
        {
          "output_type": "stream",
          "name": "stdout",
          "text": [
            "\n",
            "               precision    recall  f1-score   support\n",
            "\n",
            "           0       0.69      0.68      0.68      1750\n",
            "           1       0.28      0.29      0.29       750\n",
            "\n",
            "    accuracy                           0.56      2500\n",
            "   macro avg       0.49      0.48      0.48      2500\n",
            "weighted avg       0.57      0.56      0.56      2500\n",
            "\n"
          ]
        }
      ]
    },
    {
      "cell_type": "code",
      "source": [
        "xgbc = xgb.XGBClassifier().fit(pd.DataFrame(X_train_res_, columns=select), y_train_res)\n",
        "print('\\n', classification_report(y_test, xgbc.predict(X_test[select])))"
      ],
      "metadata": {
        "id": "1TpQVFu_Jbb4",
        "outputId": "6ebf5859-97bf-4a69-fff8-c56a9b74febc",
        "colab": {
          "base_uri": "https://localhost:8080/"
        }
      },
      "execution_count": 251,
      "outputs": [
        {
          "output_type": "stream",
          "name": "stdout",
          "text": [
            "\n",
            "               precision    recall  f1-score   support\n",
            "\n",
            "           0       0.70      1.00      0.82      1750\n",
            "           1       0.00      0.00      0.00       750\n",
            "\n",
            "    accuracy                           0.70      2500\n",
            "   macro avg       0.35      0.50      0.41      2500\n",
            "weighted avg       0.49      0.70      0.58      2500\n",
            "\n"
          ]
        },
        {
          "output_type": "stream",
          "name": "stderr",
          "text": [
            "/usr/local/lib/python3.7/dist-packages/sklearn/metrics/_classification.py:1318: UndefinedMetricWarning: Precision and F-score are ill-defined and being set to 0.0 in labels with no predicted samples. Use `zero_division` parameter to control this behavior.\n",
            "  _warn_prf(average, modifier, msg_start, len(result))\n",
            "/usr/local/lib/python3.7/dist-packages/sklearn/metrics/_classification.py:1318: UndefinedMetricWarning: Precision and F-score are ill-defined and being set to 0.0 in labels with no predicted samples. Use `zero_division` parameter to control this behavior.\n",
            "  _warn_prf(average, modifier, msg_start, len(result))\n",
            "/usr/local/lib/python3.7/dist-packages/sklearn/metrics/_classification.py:1318: UndefinedMetricWarning: Precision and F-score are ill-defined and being set to 0.0 in labels with no predicted samples. Use `zero_division` parameter to control this behavior.\n",
            "  _warn_prf(average, modifier, msg_start, len(result))\n"
          ]
        }
      ]
    },
    {
      "cell_type": "code",
      "source": [
        "rc = remove_corr(corr_maxima=.85)\n",
        "rc.fit(pd.DataFrame(X_train_res), y_train_res)\n",
        "X_train_res_ = rc.transform(pd.DataFrame(X_train_res))\n",
        "X_train_res_.corr()\n",
        "select = []\n",
        "for item in list(X_train_res_.columns.values):\n",
        "  select.append(features[item])\n",
        "rfc = RandomForestClassifier(n_estimators = 1000).fit(X_train_res_, y_train_res)\n",
        "print('\\n', classification_report(y_test, rfc.predict(X_test[select])))"
      ],
      "metadata": {
        "id": "zlvnUGCiJc_K",
        "outputId": "1a30639a-64ca-4725-831b-f3a1d4729ed8",
        "colab": {
          "base_uri": "https://localhost:8080/"
        }
      },
      "execution_count": 252,
      "outputs": [
        {
          "output_type": "stream",
          "name": "stderr",
          "text": [
            "/usr/local/lib/python3.7/dist-packages/ipykernel_launcher.py:45: DeprecationWarning: `np.bool` is a deprecated alias for the builtin `bool`. To silence this warning, use `bool` by itself. Doing this will not modify any behavior and is safe. If you specifically wanted the numpy scalar type, use `np.bool_` here.\n",
            "Deprecated in NumPy 1.20; for more details and guidance: https://numpy.org/devdocs/release/1.20.0-notes.html#deprecations\n",
            "/usr/local/lib/python3.7/dist-packages/sklearn/base.py:444: UserWarning: X has feature names, but RandomForestClassifier was fitted without feature names\n",
            "  f\"X has feature names, but {self.__class__.__name__} was fitted without\"\n"
          ]
        },
        {
          "output_type": "stream",
          "name": "stdout",
          "text": [
            "\n",
            "               precision    recall  f1-score   support\n",
            "\n",
            "           0       0.70      0.85      0.77      1750\n",
            "           1       0.30      0.15      0.20       750\n",
            "\n",
            "    accuracy                           0.64      2500\n",
            "   macro avg       0.50      0.50      0.48      2500\n",
            "weighted avg       0.58      0.64      0.60      2500\n",
            "\n"
          ]
        }
      ]
    },
    {
      "cell_type": "code",
      "source": [
        "xgbc = xgb.XGBClassifier().fit(pd.DataFrame(X_train_res_, columns=select), y_train_res)\n",
        "print('\\n', classification_report(y_test, xgbc.predict(X_test[select])))"
      ],
      "metadata": {
        "id": "OEH2KUcJJdzM",
        "outputId": "9c9282b7-fd7d-420b-cf4e-63ae1afbcb6e",
        "colab": {
          "base_uri": "https://localhost:8080/"
        }
      },
      "execution_count": 253,
      "outputs": [
        {
          "output_type": "stream",
          "name": "stdout",
          "text": [
            "\n",
            "               precision    recall  f1-score   support\n",
            "\n",
            "           0       0.70      1.00      0.82      1750\n",
            "           1       0.00      0.00      0.00       750\n",
            "\n",
            "    accuracy                           0.70      2500\n",
            "   macro avg       0.35      0.50      0.41      2500\n",
            "weighted avg       0.49      0.70      0.58      2500\n",
            "\n"
          ]
        },
        {
          "output_type": "stream",
          "name": "stderr",
          "text": [
            "/usr/local/lib/python3.7/dist-packages/sklearn/metrics/_classification.py:1318: UndefinedMetricWarning: Precision and F-score are ill-defined and being set to 0.0 in labels with no predicted samples. Use `zero_division` parameter to control this behavior.\n",
            "  _warn_prf(average, modifier, msg_start, len(result))\n",
            "/usr/local/lib/python3.7/dist-packages/sklearn/metrics/_classification.py:1318: UndefinedMetricWarning: Precision and F-score are ill-defined and being set to 0.0 in labels with no predicted samples. Use `zero_division` parameter to control this behavior.\n",
            "  _warn_prf(average, modifier, msg_start, len(result))\n",
            "/usr/local/lib/python3.7/dist-packages/sklearn/metrics/_classification.py:1318: UndefinedMetricWarning: Precision and F-score are ill-defined and being set to 0.0 in labels with no predicted samples. Use `zero_division` parameter to control this behavior.\n",
            "  _warn_prf(average, modifier, msg_start, len(result))\n"
          ]
        }
      ]
    },
    {
      "cell_type": "code",
      "source": [
        "rc = remove_corr(corr_maxima=.8)\n",
        "rc.fit(pd.DataFrame(X_train_res), y_train_res)\n",
        "X_train_res_ = rc.transform(pd.DataFrame(X_train_res))\n",
        "X_train_res_.corr()\n",
        "select = []\n",
        "for item in list(X_train_res_.columns.values):\n",
        "  select.append(features[item])\n",
        "rfc = RandomForestClassifier(n_estimators = 1000).fit(X_train_res_, y_train_res)\n",
        "print('\\n', classification_report(y_test, rfc.predict(X_test[select])))"
      ],
      "metadata": {
        "id": "rzb9m6MsJewj",
        "outputId": "26d6a8d0-db1e-40a0-84b2-27769bf12ae9",
        "colab": {
          "base_uri": "https://localhost:8080/"
        }
      },
      "execution_count": 254,
      "outputs": [
        {
          "output_type": "stream",
          "name": "stderr",
          "text": [
            "/usr/local/lib/python3.7/dist-packages/ipykernel_launcher.py:45: DeprecationWarning: `np.bool` is a deprecated alias for the builtin `bool`. To silence this warning, use `bool` by itself. Doing this will not modify any behavior and is safe. If you specifically wanted the numpy scalar type, use `np.bool_` here.\n",
            "Deprecated in NumPy 1.20; for more details and guidance: https://numpy.org/devdocs/release/1.20.0-notes.html#deprecations\n",
            "/usr/local/lib/python3.7/dist-packages/sklearn/base.py:444: UserWarning: X has feature names, but RandomForestClassifier was fitted without feature names\n",
            "  f\"X has feature names, but {self.__class__.__name__} was fitted without\"\n"
          ]
        },
        {
          "output_type": "stream",
          "name": "stdout",
          "text": [
            "\n",
            "               precision    recall  f1-score   support\n",
            "\n",
            "           0       0.70      0.32      0.44      1750\n",
            "           1       0.30      0.68      0.42       750\n",
            "\n",
            "    accuracy                           0.43      2500\n",
            "   macro avg       0.50      0.50      0.43      2500\n",
            "weighted avg       0.58      0.43      0.43      2500\n",
            "\n"
          ]
        }
      ]
    },
    {
      "cell_type": "code",
      "source": [
        "xgbc = xgb.XGBClassifier().fit(pd.DataFrame(X_train_res_, columns=select), y_train_res)\n",
        "print('\\n', classification_report(y_test, xgbc.predict(X_test[select])))"
      ],
      "metadata": {
        "id": "hivxqsrVJe8P",
        "outputId": "268555f1-e165-445c-aac3-f86444a360f4",
        "colab": {
          "base_uri": "https://localhost:8080/"
        }
      },
      "execution_count": 255,
      "outputs": [
        {
          "output_type": "stream",
          "name": "stdout",
          "text": [
            "\n",
            "               precision    recall  f1-score   support\n",
            "\n",
            "           0       0.70      1.00      0.82      1750\n",
            "           1       0.00      0.00      0.00       750\n",
            "\n",
            "    accuracy                           0.70      2500\n",
            "   macro avg       0.35      0.50      0.41      2500\n",
            "weighted avg       0.49      0.70      0.58      2500\n",
            "\n"
          ]
        },
        {
          "output_type": "stream",
          "name": "stderr",
          "text": [
            "/usr/local/lib/python3.7/dist-packages/sklearn/metrics/_classification.py:1318: UndefinedMetricWarning: Precision and F-score are ill-defined and being set to 0.0 in labels with no predicted samples. Use `zero_division` parameter to control this behavior.\n",
            "  _warn_prf(average, modifier, msg_start, len(result))\n",
            "/usr/local/lib/python3.7/dist-packages/sklearn/metrics/_classification.py:1318: UndefinedMetricWarning: Precision and F-score are ill-defined and being set to 0.0 in labels with no predicted samples. Use `zero_division` parameter to control this behavior.\n",
            "  _warn_prf(average, modifier, msg_start, len(result))\n",
            "/usr/local/lib/python3.7/dist-packages/sklearn/metrics/_classification.py:1318: UndefinedMetricWarning: Precision and F-score are ill-defined and being set to 0.0 in labels with no predicted samples. Use `zero_division` parameter to control this behavior.\n",
            "  _warn_prf(average, modifier, msg_start, len(result))\n"
          ]
        }
      ]
    },
    {
      "cell_type": "code",
      "source": [
        "features = ['x1','x2','x3','x13','x23','x12','x1^2','x2^2','x3^2','x1^3','x2^3','x3^3','log(x1-min(x1)+1)','log(x2-min(x2)+1)','log(x3-min(x3)+1)']\n",
        "X_train, X_test, y_train, y_test = train_test_split(df[features], df['target_low'], stratify=df['target_low'], random_state=2134)\n",
        "X_train = StandardScaler().fit_transform(X_train[features])\n",
        "X_train_res, y_train_res = SMOTE(random_state=3124).fit_resample(X_train, y_train)\n",
        "X_train_res = StandardScaler().fit_transform(X_train_res)\n",
        "df_train = pd.concat([pd.DataFrame(X_train_res), pd.Series(y_train_res)], axis=1)\n",
        "df_train.target_low.value_counts()"
      ],
      "metadata": {
        "id": "fGr1trvLJkoc",
        "outputId": "141445f6-b71d-4f12-c9da-c1ed41814221",
        "colab": {
          "base_uri": "https://localhost:8080/"
        }
      },
      "execution_count": 275,
      "outputs": [
        {
          "output_type": "execute_result",
          "data": {
            "text/plain": [
              "1    4500\n",
              "0    4500\n",
              "Name: target_low, dtype: int64"
            ]
          },
          "metadata": {},
          "execution_count": 275
        }
      ]
    },
    {
      "cell_type": "code",
      "source": [
        "dc = DummyClassifier().fit(pd.DataFrame(X_train)[[0,1,2]], y_train)\n",
        "print('\\n', classification_report(y_test, dc.predict(X_test.iloc[:,:3])))"
      ],
      "metadata": {
        "id": "7cxnh5iKLF61",
        "outputId": "3d2ba895-b7ff-41ab-c722-48357aa73c47",
        "colab": {
          "base_uri": "https://localhost:8080/"
        }
      },
      "execution_count": 276,
      "outputs": [
        {
          "output_type": "stream",
          "name": "stdout",
          "text": [
            "\n",
            "               precision    recall  f1-score   support\n",
            "\n",
            "           0       0.00      0.00      0.00      1000\n",
            "           1       0.60      1.00      0.75      1500\n",
            "\n",
            "    accuracy                           0.60      2500\n",
            "   macro avg       0.30      0.50      0.37      2500\n",
            "weighted avg       0.36      0.60      0.45      2500\n",
            "\n"
          ]
        },
        {
          "output_type": "stream",
          "name": "stderr",
          "text": [
            "/usr/local/lib/python3.7/dist-packages/sklearn/metrics/_classification.py:1318: UndefinedMetricWarning: Precision and F-score are ill-defined and being set to 0.0 in labels with no predicted samples. Use `zero_division` parameter to control this behavior.\n",
            "  _warn_prf(average, modifier, msg_start, len(result))\n",
            "/usr/local/lib/python3.7/dist-packages/sklearn/metrics/_classification.py:1318: UndefinedMetricWarning: Precision and F-score are ill-defined and being set to 0.0 in labels with no predicted samples. Use `zero_division` parameter to control this behavior.\n",
            "  _warn_prf(average, modifier, msg_start, len(result))\n",
            "/usr/local/lib/python3.7/dist-packages/sklearn/metrics/_classification.py:1318: UndefinedMetricWarning: Precision and F-score are ill-defined and being set to 0.0 in labels with no predicted samples. Use `zero_division` parameter to control this behavior.\n",
            "  _warn_prf(average, modifier, msg_start, len(result))\n"
          ]
        }
      ]
    },
    {
      "cell_type": "code",
      "source": [
        "rfc = RandomForestClassifier(n_estimators = 1000).fit(X_train_res, y_train_res)\n",
        "print('\\n', classification_report(y_test, rfc.predict(X_test)))"
      ],
      "metadata": {
        "id": "isjU8WpPLm2z",
        "outputId": "49ca193a-265f-4c83-c51f-4b319b22b15c",
        "colab": {
          "base_uri": "https://localhost:8080/"
        }
      },
      "execution_count": 277,
      "outputs": [
        {
          "output_type": "stream",
          "name": "stderr",
          "text": [
            "/usr/local/lib/python3.7/dist-packages/sklearn/base.py:444: UserWarning: X has feature names, but RandomForestClassifier was fitted without feature names\n",
            "  f\"X has feature names, but {self.__class__.__name__} was fitted without\"\n"
          ]
        },
        {
          "output_type": "stream",
          "name": "stdout",
          "text": [
            "\n",
            "               precision    recall  f1-score   support\n",
            "\n",
            "           0       0.33      0.01      0.02      1000\n",
            "           1       0.60      0.99      0.75      1500\n",
            "\n",
            "    accuracy                           0.60      2500\n",
            "   macro avg       0.47      0.50      0.38      2500\n",
            "weighted avg       0.49      0.60      0.45      2500\n",
            "\n"
          ]
        }
      ]
    },
    {
      "cell_type": "code",
      "source": [
        "xgbc = xgb.XGBClassifier().fit(pd.DataFrame(X_train_res, columns=features[:15]), y_train_res)\n",
        "print('\\n', classification_report(y_test, xgbc.predict(X_test)))"
      ],
      "metadata": {
        "id": "TRu-OfV1Lr1z",
        "outputId": "e1256b0c-5bff-4be3-d8b0-91583838c4c2",
        "colab": {
          "base_uri": "https://localhost:8080/"
        }
      },
      "execution_count": 278,
      "outputs": [
        {
          "output_type": "stream",
          "name": "stdout",
          "text": [
            "\n",
            "               precision    recall  f1-score   support\n",
            "\n",
            "           0       0.40      0.80      0.54      1000\n",
            "           1       0.61      0.21      0.31      1500\n",
            "\n",
            "    accuracy                           0.44      2500\n",
            "   macro avg       0.51      0.50      0.42      2500\n",
            "weighted avg       0.53      0.44      0.40      2500\n",
            "\n"
          ]
        }
      ]
    },
    {
      "cell_type": "code",
      "source": [
        "rc = remove_corr(corr_maxima=.9)\n",
        "rc.fit(pd.DataFrame(X_train_res), y_train_res)\n",
        "X_train_res_ = rc.transform(pd.DataFrame(X_train_res))\n",
        "X_train_res_.corr()\n",
        "select = []\n",
        "for item in list(X_train_res_.columns.values):\n",
        "  select.append(features[item])\n",
        "rfc = RandomForestClassifier(n_estimators = 1000).fit(X_train_res_, y_train_res)\n",
        "print('\\n', classification_report(y_test, rfc.predict(X_test[select])))"
      ],
      "metadata": {
        "id": "rDM2ABjtLwP_",
        "outputId": "8b0b3985-081d-4afb-a4f2-f8643030ddd0",
        "colab": {
          "base_uri": "https://localhost:8080/"
        }
      },
      "execution_count": 279,
      "outputs": [
        {
          "output_type": "stream",
          "name": "stderr",
          "text": [
            "/usr/local/lib/python3.7/dist-packages/ipykernel_launcher.py:45: DeprecationWarning: `np.bool` is a deprecated alias for the builtin `bool`. To silence this warning, use `bool` by itself. Doing this will not modify any behavior and is safe. If you specifically wanted the numpy scalar type, use `np.bool_` here.\n",
            "Deprecated in NumPy 1.20; for more details and guidance: https://numpy.org/devdocs/release/1.20.0-notes.html#deprecations\n",
            "/usr/local/lib/python3.7/dist-packages/sklearn/base.py:444: UserWarning: X has feature names, but RandomForestClassifier was fitted without feature names\n",
            "  f\"X has feature names, but {self.__class__.__name__} was fitted without\"\n"
          ]
        },
        {
          "output_type": "stream",
          "name": "stdout",
          "text": [
            "\n",
            "               precision    recall  f1-score   support\n",
            "\n",
            "           0       0.35      0.01      0.01      1000\n",
            "           1       0.60      0.99      0.75      1500\n",
            "\n",
            "    accuracy                           0.60      2500\n",
            "   macro avg       0.48      0.50      0.38      2500\n",
            "weighted avg       0.50      0.60      0.45      2500\n",
            "\n"
          ]
        }
      ]
    },
    {
      "cell_type": "code",
      "source": [
        "xgbc = xgb.XGBClassifier().fit(pd.DataFrame(X_train_res_, columns=select), y_train_res)\n",
        "print('\\n', classification_report(y_test, xgbc.predict(X_test[select])))"
      ],
      "metadata": {
        "id": "Y255-HBDL4SA",
        "outputId": "a3897e43-d0b6-44ef-b6c4-2a1d64139869",
        "colab": {
          "base_uri": "https://localhost:8080/"
        }
      },
      "execution_count": 280,
      "outputs": [
        {
          "output_type": "stream",
          "name": "stdout",
          "text": [
            "\n",
            "               precision    recall  f1-score   support\n",
            "\n",
            "           0       0.40      1.00      0.57      1000\n",
            "           1       0.00      0.00      0.00      1500\n",
            "\n",
            "    accuracy                           0.40      2500\n",
            "   macro avg       0.20      0.50      0.29      2500\n",
            "weighted avg       0.16      0.40      0.23      2500\n",
            "\n"
          ]
        },
        {
          "output_type": "stream",
          "name": "stderr",
          "text": [
            "/usr/local/lib/python3.7/dist-packages/sklearn/metrics/_classification.py:1318: UndefinedMetricWarning: Precision and F-score are ill-defined and being set to 0.0 in labels with no predicted samples. Use `zero_division` parameter to control this behavior.\n",
            "  _warn_prf(average, modifier, msg_start, len(result))\n",
            "/usr/local/lib/python3.7/dist-packages/sklearn/metrics/_classification.py:1318: UndefinedMetricWarning: Precision and F-score are ill-defined and being set to 0.0 in labels with no predicted samples. Use `zero_division` parameter to control this behavior.\n",
            "  _warn_prf(average, modifier, msg_start, len(result))\n",
            "/usr/local/lib/python3.7/dist-packages/sklearn/metrics/_classification.py:1318: UndefinedMetricWarning: Precision and F-score are ill-defined and being set to 0.0 in labels with no predicted samples. Use `zero_division` parameter to control this behavior.\n",
            "  _warn_prf(average, modifier, msg_start, len(result))\n"
          ]
        }
      ]
    },
    {
      "cell_type": "code",
      "source": [
        "rc = remove_corr(corr_maxima=.85)\n",
        "rc.fit(pd.DataFrame(X_train_res), y_train_res)\n",
        "X_train_res_ = rc.transform(pd.DataFrame(X_train_res))\n",
        "X_train_res_.corr()\n",
        "select = []\n",
        "for item in list(X_train_res_.columns.values):\n",
        "  select.append(features[item])\n",
        "rfc = RandomForestClassifier(n_estimators = 1000).fit(X_train_res_, y_train_res)\n",
        "print('\\n', classification_report(y_test, rfc.predict(X_test[select])))"
      ],
      "metadata": {
        "id": "osw3l1S5L4l9",
        "outputId": "ad5a4078-db82-403b-9845-086d2399e562",
        "colab": {
          "base_uri": "https://localhost:8080/"
        }
      },
      "execution_count": 281,
      "outputs": [
        {
          "output_type": "stream",
          "name": "stderr",
          "text": [
            "/usr/local/lib/python3.7/dist-packages/ipykernel_launcher.py:45: DeprecationWarning: `np.bool` is a deprecated alias for the builtin `bool`. To silence this warning, use `bool` by itself. Doing this will not modify any behavior and is safe. If you specifically wanted the numpy scalar type, use `np.bool_` here.\n",
            "Deprecated in NumPy 1.20; for more details and guidance: https://numpy.org/devdocs/release/1.20.0-notes.html#deprecations\n",
            "/usr/local/lib/python3.7/dist-packages/sklearn/base.py:444: UserWarning: X has feature names, but RandomForestClassifier was fitted without feature names\n",
            "  f\"X has feature names, but {self.__class__.__name__} was fitted without\"\n"
          ]
        },
        {
          "output_type": "stream",
          "name": "stdout",
          "text": [
            "\n",
            "               precision    recall  f1-score   support\n",
            "\n",
            "           0       0.25      0.00      0.01      1000\n",
            "           1       0.60      0.99      0.75      1500\n",
            "\n",
            "    accuracy                           0.60      2500\n",
            "   macro avg       0.42      0.50      0.38      2500\n",
            "weighted avg       0.46      0.60      0.45      2500\n",
            "\n"
          ]
        }
      ]
    },
    {
      "cell_type": "code",
      "source": [
        "xgbc = xgb.XGBClassifier().fit(pd.DataFrame(X_train_res_, columns=select), y_train_res)\n",
        "print('\\n', classification_report(y_test, xgbc.predict(X_test[select])))"
      ],
      "metadata": {
        "id": "BEn8lvylL94A",
        "outputId": "da8c4e04-cafc-4cf6-ce51-7e646b12ca84",
        "colab": {
          "base_uri": "https://localhost:8080/"
        }
      },
      "execution_count": 282,
      "outputs": [
        {
          "output_type": "stream",
          "name": "stdout",
          "text": [
            "\n",
            "               precision    recall  f1-score   support\n",
            "\n",
            "           0       0.40      1.00      0.57      1000\n",
            "           1       0.00      0.00      0.00      1500\n",
            "\n",
            "    accuracy                           0.40      2500\n",
            "   macro avg       0.20      0.50      0.29      2500\n",
            "weighted avg       0.16      0.40      0.23      2500\n",
            "\n"
          ]
        },
        {
          "output_type": "stream",
          "name": "stderr",
          "text": [
            "/usr/local/lib/python3.7/dist-packages/sklearn/metrics/_classification.py:1318: UndefinedMetricWarning: Precision and F-score are ill-defined and being set to 0.0 in labels with no predicted samples. Use `zero_division` parameter to control this behavior.\n",
            "  _warn_prf(average, modifier, msg_start, len(result))\n",
            "/usr/local/lib/python3.7/dist-packages/sklearn/metrics/_classification.py:1318: UndefinedMetricWarning: Precision and F-score are ill-defined and being set to 0.0 in labels with no predicted samples. Use `zero_division` parameter to control this behavior.\n",
            "  _warn_prf(average, modifier, msg_start, len(result))\n",
            "/usr/local/lib/python3.7/dist-packages/sklearn/metrics/_classification.py:1318: UndefinedMetricWarning: Precision and F-score are ill-defined and being set to 0.0 in labels with no predicted samples. Use `zero_division` parameter to control this behavior.\n",
            "  _warn_prf(average, modifier, msg_start, len(result))\n"
          ]
        }
      ]
    },
    {
      "cell_type": "code",
      "source": [
        "rc = remove_corr(corr_maxima=.95)\n",
        "rc.fit(pd.DataFrame(X_train_res), y_train_res)\n",
        "X_train_res_ = rc.transform(pd.DataFrame(X_train_res))\n",
        "X_train_res_.corr()\n",
        "select = []\n",
        "for item in list(X_train_res_.columns.values):\n",
        "  select.append(features[item])\n",
        "rfc = RandomForestClassifier(n_estimators = 1000).fit(X_train_res_, y_train_res)\n",
        "print('\\n', classification_report(y_test, rfc.predict(X_test[select])))"
      ],
      "metadata": {
        "id": "blkE4uO6L-RR",
        "outputId": "5284a74d-12c6-4418-f8f7-bc043dd7acf4",
        "colab": {
          "base_uri": "https://localhost:8080/"
        }
      },
      "execution_count": 283,
      "outputs": [
        {
          "output_type": "stream",
          "name": "stderr",
          "text": [
            "/usr/local/lib/python3.7/dist-packages/ipykernel_launcher.py:45: DeprecationWarning: `np.bool` is a deprecated alias for the builtin `bool`. To silence this warning, use `bool` by itself. Doing this will not modify any behavior and is safe. If you specifically wanted the numpy scalar type, use `np.bool_` here.\n",
            "Deprecated in NumPy 1.20; for more details and guidance: https://numpy.org/devdocs/release/1.20.0-notes.html#deprecations\n",
            "/usr/local/lib/python3.7/dist-packages/sklearn/base.py:444: UserWarning: X has feature names, but RandomForestClassifier was fitted without feature names\n",
            "  f\"X has feature names, but {self.__class__.__name__} was fitted without\"\n"
          ]
        },
        {
          "output_type": "stream",
          "name": "stdout",
          "text": [
            "\n",
            "               precision    recall  f1-score   support\n",
            "\n",
            "           0       0.39      0.34      0.36      1000\n",
            "           1       0.59      0.64      0.62      1500\n",
            "\n",
            "    accuracy                           0.52      2500\n",
            "   macro avg       0.49      0.49      0.49      2500\n",
            "weighted avg       0.51      0.52      0.52      2500\n",
            "\n"
          ]
        }
      ]
    },
    {
      "cell_type": "code",
      "source": [
        "xgbc = xgb.XGBClassifier().fit(pd.DataFrame(X_train_res_, columns=select), y_train_res)\n",
        "print('\\n', classification_report(y_test, xgbc.predict(X_test[select])))"
      ],
      "metadata": {
        "id": "y8g0yWKJMBx8",
        "outputId": "7f3bbe2f-ccb0-4c64-e0b2-4cf5ebbd00c7",
        "colab": {
          "base_uri": "https://localhost:8080/"
        }
      },
      "execution_count": 284,
      "outputs": [
        {
          "output_type": "stream",
          "name": "stdout",
          "text": [
            "\n",
            "               precision    recall  f1-score   support\n",
            "\n",
            "           0       0.40      1.00      0.57      1000\n",
            "           1       0.00      0.00      0.00      1500\n",
            "\n",
            "    accuracy                           0.40      2500\n",
            "   macro avg       0.20      0.50      0.29      2500\n",
            "weighted avg       0.16      0.40      0.23      2500\n",
            "\n"
          ]
        },
        {
          "output_type": "stream",
          "name": "stderr",
          "text": [
            "/usr/local/lib/python3.7/dist-packages/sklearn/metrics/_classification.py:1318: UndefinedMetricWarning: Precision and F-score are ill-defined and being set to 0.0 in labels with no predicted samples. Use `zero_division` parameter to control this behavior.\n",
            "  _warn_prf(average, modifier, msg_start, len(result))\n",
            "/usr/local/lib/python3.7/dist-packages/sklearn/metrics/_classification.py:1318: UndefinedMetricWarning: Precision and F-score are ill-defined and being set to 0.0 in labels with no predicted samples. Use `zero_division` parameter to control this behavior.\n",
            "  _warn_prf(average, modifier, msg_start, len(result))\n",
            "/usr/local/lib/python3.7/dist-packages/sklearn/metrics/_classification.py:1318: UndefinedMetricWarning: Precision and F-score are ill-defined and being set to 0.0 in labels with no predicted samples. Use `zero_division` parameter to control this behavior.\n",
            "  _warn_prf(average, modifier, msg_start, len(result))\n"
          ]
        }
      ]
    },
    {
      "cell_type": "code",
      "source": [
        "rc = remove_corr(corr_maxima=.8)\n",
        "rc.fit(pd.DataFrame(X_train_res), y_train_res)\n",
        "X_train_res_ = rc.transform(pd.DataFrame(X_train_res))\n",
        "X_train_res_.corr()\n",
        "select = []\n",
        "for item in list(X_train_res_.columns.values):\n",
        "  select.append(features[item])\n",
        "rfc = RandomForestClassifier(n_estimators = 1000).fit(X_train_res_, y_train_res)\n",
        "print('\\n', classification_report(y_test, rfc.predict(X_test[select])))"
      ],
      "metadata": {
        "id": "L9NB_BhRMDZ9",
        "outputId": "18046565-553d-4eef-aecf-aa23f82a2317",
        "colab": {
          "base_uri": "https://localhost:8080/"
        }
      },
      "execution_count": 285,
      "outputs": [
        {
          "output_type": "stream",
          "name": "stderr",
          "text": [
            "/usr/local/lib/python3.7/dist-packages/ipykernel_launcher.py:45: DeprecationWarning: `np.bool` is a deprecated alias for the builtin `bool`. To silence this warning, use `bool` by itself. Doing this will not modify any behavior and is safe. If you specifically wanted the numpy scalar type, use `np.bool_` here.\n",
            "Deprecated in NumPy 1.20; for more details and guidance: https://numpy.org/devdocs/release/1.20.0-notes.html#deprecations\n",
            "/usr/local/lib/python3.7/dist-packages/sklearn/base.py:444: UserWarning: X has feature names, but RandomForestClassifier was fitted without feature names\n",
            "  f\"X has feature names, but {self.__class__.__name__} was fitted without\"\n"
          ]
        },
        {
          "output_type": "stream",
          "name": "stdout",
          "text": [
            "\n",
            "               precision    recall  f1-score   support\n",
            "\n",
            "           0       0.25      0.00      0.00      1000\n",
            "           1       0.60      1.00      0.75      1500\n",
            "\n",
            "    accuracy                           0.60      2500\n",
            "   macro avg       0.42      0.50      0.38      2500\n",
            "weighted avg       0.46      0.60      0.45      2500\n",
            "\n"
          ]
        }
      ]
    },
    {
      "cell_type": "code",
      "source": [
        "xgbc = xgb.XGBClassifier().fit(pd.DataFrame(X_train_res_, columns=select), y_train_res)\n",
        "print('\\n', classification_report(y_test, xgbc.predict(X_test[select])))"
      ],
      "metadata": {
        "id": "DQ-GhEuYMGbr",
        "outputId": "48fb969e-2521-48b5-8544-4a252e335e38",
        "colab": {
          "base_uri": "https://localhost:8080/"
        }
      },
      "execution_count": 286,
      "outputs": [
        {
          "output_type": "stream",
          "name": "stdout",
          "text": [
            "\n",
            "               precision    recall  f1-score   support\n",
            "\n",
            "           0       0.40      1.00      0.57      1000\n",
            "           1       0.00      0.00      0.00      1500\n",
            "\n",
            "    accuracy                           0.40      2500\n",
            "   macro avg       0.20      0.50      0.29      2500\n",
            "weighted avg       0.16      0.40      0.23      2500\n",
            "\n"
          ]
        },
        {
          "output_type": "stream",
          "name": "stderr",
          "text": [
            "/usr/local/lib/python3.7/dist-packages/sklearn/metrics/_classification.py:1318: UndefinedMetricWarning: Precision and F-score are ill-defined and being set to 0.0 in labels with no predicted samples. Use `zero_division` parameter to control this behavior.\n",
            "  _warn_prf(average, modifier, msg_start, len(result))\n",
            "/usr/local/lib/python3.7/dist-packages/sklearn/metrics/_classification.py:1318: UndefinedMetricWarning: Precision and F-score are ill-defined and being set to 0.0 in labels with no predicted samples. Use `zero_division` parameter to control this behavior.\n",
            "  _warn_prf(average, modifier, msg_start, len(result))\n",
            "/usr/local/lib/python3.7/dist-packages/sklearn/metrics/_classification.py:1318: UndefinedMetricWarning: Precision and F-score are ill-defined and being set to 0.0 in labels with no predicted samples. Use `zero_division` parameter to control this behavior.\n",
            "  _warn_prf(average, modifier, msg_start, len(result))\n"
          ]
        }
      ]
    },
    {
      "cell_type": "code",
      "source": [
        ""
      ],
      "metadata": {
        "id": "8_cZP6Z9MH6n"
      },
      "execution_count": null,
      "outputs": []
    }
  ]
}